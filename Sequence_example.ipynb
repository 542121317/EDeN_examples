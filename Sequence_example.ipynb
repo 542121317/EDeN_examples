{
 "cells": [
  {
   "cell_type": "markdown",
   "metadata": {},
   "source": [
    "# Example\n",
    "\n",
    "Consider sequences that are increasingly different. EDeN allows to turn them into vectors, whose similarity is decreasing."
   ]
  },
  {
   "cell_type": "code",
   "execution_count": 12,
   "metadata": {
    "collapsed": false
   },
   "outputs": [],
   "source": [
    "%matplotlib inline"
   ]
  },
  {
   "cell_type": "markdown",
   "metadata": {},
   "source": [
    "Build an artificial dataset: starting from the string 'abcdefghijklmnopqrstuvwxyz', generate iteratively strings by swapping two characters at random. In this way instances are progressively more dissimilar"
   ]
  },
  {
   "cell_type": "code",
   "execution_count": 13,
   "metadata": {
    "collapsed": false
   },
   "outputs": [],
   "source": [
    "import random\n",
    "\n",
    "def make_data(size):\n",
    "    text = ''.join([str(unichr(97+i)) for i in range(26)])\n",
    "    seqs = []\n",
    "\n",
    "    def swap_two_characters(seq):\n",
    "        '''define a function that swaps two characters at random positions in a string '''\n",
    "        line = list(seq)\n",
    "        id_i = random.randint(0,len(line)-1)\n",
    "        id_j = random.randint(0,len(line)-1)\n",
    "        line[id_i], line[id_j] = line[id_j], line[id_i]\n",
    "        return ''.join(line)\n",
    "\n",
    "    for i in range(size):\n",
    "        text = swap_two_characters( text )\n",
    "        seqs.append( text )\n",
    "        print text\n",
    "        \n",
    "    return seqs"
   ]
  },
  {
   "cell_type": "code",
   "execution_count": 14,
   "metadata": {
    "collapsed": false
   },
   "outputs": [
    {
     "name": "stdout",
     "output_type": "stream",
     "text": [
      "mbcdefghijklanopqrstuvwxyz\n",
      "mbcdefghijklanopqrstuvwxyz\n",
      "mbcdxfghijklanopqrstuvweyz\n",
      "mbcdxfghijklanopqustrvweyz\n",
      "mbcdxpghijklanofqustrvweyz\n",
      "mbcdxpghijklanofqwstrvueyz\n",
      "mbcdxpghijylanofqwstrvuekz\n",
      "mbcdxighpjylanofqwstrvuekz\n",
      "mbcdrighpjylanofqwstxvuekz\n",
      "mfcdrighpjylanobqwstxvuekz\n",
      "mfcorighpjylandbqwstxvuekz\n",
      "mkcorighpjylandbqwstxvuefz\n",
      "mbcorighpjylandkqwstxvuefz\n",
      "mbclrighpjyoandkqwstxvuefz\n",
      "mbclrighpjyoandkqtswxvuefz\n",
      "mbclrughpjyoandkqtswxviefz\n",
      "mbclrughpjyoendkqtswxviafz\n",
      "mbclruphgjyoendkqtswxviafz\n",
      "mnclruphgjyoebdkqtswxviafz\n",
      "fnclruphgjyoebdkqtswxviamz\n",
      "fnclguphrjyoebdkqtswxviamz\n",
      "fnclguphrjyoebdkqtswxviamz\n",
      "fnclguphrjyoxbdkqtsweviamz\n",
      "fnclguporjyhxbdkqtsweviamz\n",
      "fnclguporjyxhbdkqtsweviamz\n"
     ]
    }
   ],
   "source": [
    "seqs = make_data(25)"
   ]
  },
  {
   "cell_type": "markdown",
   "metadata": {},
   "source": [
    "define a function that builds a graph from a string, i.e. the path graph with the characters as node labels"
   ]
  },
  {
   "cell_type": "code",
   "execution_count": 15,
   "metadata": {
    "collapsed": false
   },
   "outputs": [],
   "source": [
    "import networkx as nx\n",
    "\n",
    "def sequence_to_graph(seq):\n",
    "    '''convert a sequence into a EDeN 'compatible' graph\n",
    "    i.e. a graph with the attribute 'label' for every node and edge'''\n",
    "    G = nx.Graph()\n",
    "    for id,character in enumerate(seq):\n",
    "        G.add_node(id, label = character )\n",
    "        if id > 0:\n",
    "            G.add_edge(id-1, id, label = '-')\n",
    "    return G"
   ]
  },
  {
   "cell_type": "markdown",
   "metadata": {},
   "source": [
    "make a generator that yields graphs: generators are 'good' as they allow functional composition"
   ]
  },
  {
   "cell_type": "code",
   "execution_count": 16,
   "metadata": {
    "collapsed": false
   },
   "outputs": [],
   "source": [
    "def pre_process(iterable):\n",
    "    for seq in iterable:\n",
    "        yield sequence_to_graph(seq)"
   ]
  },
  {
   "cell_type": "markdown",
   "metadata": {},
   "source": [
    "initialize the vectorizer object with the desired 'resolution'"
   ]
  },
  {
   "cell_type": "code",
   "execution_count": 17,
   "metadata": {
    "collapsed": false
   },
   "outputs": [
    {
     "name": "stdout",
     "output_type": "stream",
     "text": [
      "CPU times: user 61 µs, sys: 3 µs, total: 64 µs\n",
      "Wall time: 68.9 µs\n"
     ]
    }
   ],
   "source": [
    "%%time\n",
    "from eden.graph import Vectorizer\n",
    "vectorizer = Vectorizer(complexity=3, nbits=18)"
   ]
  },
  {
   "cell_type": "markdown",
   "metadata": {},
   "source": [
    "obtain an iterator over the sequences processed into graphs"
   ]
  },
  {
   "cell_type": "code",
   "execution_count": 18,
   "metadata": {
    "collapsed": false
   },
   "outputs": [
    {
     "name": "stdout",
     "output_type": "stream",
     "text": [
      "CPU times: user 6 µs, sys: 0 ns, total: 6 µs\n",
      "Wall time: 11 µs\n"
     ]
    }
   ],
   "source": [
    "%%time\n",
    "graphs = pre_process(seqs)"
   ]
  },
  {
   "cell_type": "markdown",
   "metadata": {},
   "source": [
    "compute the vector encoding of each instance in a sparse data matrix"
   ]
  },
  {
   "cell_type": "code",
   "execution_count": 19,
   "metadata": {
    "collapsed": false
   },
   "outputs": [
    {
     "name": "stdout",
     "output_type": "stream",
     "text": [
      "Instances: 25 ; Features: 262145 with an avg of 807 features per instance\n",
      "CPU times: user 172 ms, sys: 11.9 ms, total: 184 ms\n",
      "Wall time: 177 ms\n"
     ]
    }
   ],
   "source": [
    "%%time\n",
    "X = vectorizer.transform(graphs)\n",
    "print 'Instances: %d ; Features: %d with an avg of %d features per instance' % (X.shape[0], X.shape[1],  X.getnnz()/X.shape[0])"
   ]
  },
  {
   "cell_type": "markdown",
   "metadata": {},
   "source": [
    "compute the pairwise similarity as the dot product between the vector representations of each sequence"
   ]
  },
  {
   "cell_type": "code",
   "execution_count": 20,
   "metadata": {
    "collapsed": false,
    "scrolled": true
   },
   "outputs": [
    {
     "name": "stdout",
     "output_type": "stream",
     "text": [
      "[[ 1.          1.          0.68054702  0.48313516  0.37553094  0.36889064\n",
      "   0.25051122  0.23118755  0.23245179  0.19986861  0.18329704  0.18406955\n",
      "   0.1983674   0.1893902   0.18791766  0.19042995  0.18134808  0.18126651\n",
      "   0.16560336  0.15705386  0.15989949  0.15989949  0.16014172  0.16000326\n",
      "   0.161244  ]\n",
      " [ 1.          1.          0.68054702  0.48313516  0.37553094  0.36889064\n",
      "   0.25051122  0.23118755  0.23245179  0.19986861  0.18329704  0.18406955\n",
      "   0.1983674   0.1893902   0.18791766  0.19042995  0.18134808  0.18126651\n",
      "   0.16560336  0.15705386  0.15989949  0.15989949  0.16014172  0.16000326\n",
      "   0.161244  ]\n",
      " [ 0.68054702  0.68054702  1.          0.71548895  0.46064727  0.41313716\n",
      "   0.28437418  0.26503889  0.23567159  0.20173634  0.18382534  0.1833338\n",
      "   0.20030331  0.1913218   0.18725096  0.18583004  0.18019377  0.18011216\n",
      "   0.16317459  0.15340224  0.15624958  0.15624958  0.16023643  0.16009789\n",
      "   0.16007523]\n",
      " [ 0.48313516  0.48313516  0.71548895  1.          0.62914175  0.43412407\n",
      "   0.30395642  0.28331006  0.23323978  0.20181755  0.18389378  0.18353009\n",
      "   0.20305046  0.19282994  0.18488346  0.18472733  0.17908709  0.1776739\n",
      "   0.16195791  0.15347615  0.1536182   0.1536182   0.15630797  0.1575765\n",
      "   0.15755382]\n",
      " [ 0.37553094  0.37553094  0.46064727  0.62914175  1.          0.6873769\n",
      "   0.49111579  0.32575987  0.27445911  0.202831    0.18506223  0.1873243\n",
      "   0.20808346  0.19787945  0.18867834  0.1857857   0.18015282  0.18136703\n",
      "   0.16690344  0.15590157  0.15471365  0.15471365  0.15740068  0.15740418\n",
      "   0.15747543]\n",
      " [ 0.36889064  0.36889064  0.41313716  0.43412407  0.6873769   1.\n",
      "   0.70086898  0.53540857  0.37826301  0.24044226  0.21613754  0.21445433\n",
      "   0.23135688  0.22116035  0.20681365  0.19490195  0.18991555  0.1897999\n",
      "   0.17409449  0.16237172  0.16627975  0.16627975  0.16903223  0.1638375\n",
      "   0.1639088 ]\n",
      " [ 0.25051122  0.25051122  0.28437418  0.30395642  0.49111579  0.70086898\n",
      "   1.          0.71662755  0.50014353  0.33207432  0.29760549  0.24342453\n",
      "   0.26103733  0.22776327  0.21342563  0.2002855   0.19397246  0.19256111\n",
      "   0.17405663  0.16364053  0.1623779   0.1623779   0.16380616  0.17009671\n",
      "   0.16227288]\n",
      " [ 0.23118755  0.23118755  0.26503889  0.28331006  0.32575987  0.53540857\n",
      "   0.71662755  1.          0.635427    0.4592221   0.41059366  0.35611058\n",
      "   0.37238632  0.28182787  0.26875523  0.23347895  0.22721085  0.20155428\n",
      "   0.18445429  0.17403819  0.16637481  0.16637481  0.16780547  0.16763944\n",
      "   0.1650088 ]\n",
      " [ 0.23245179  0.23245179  0.23567159  0.23323978  0.27445911  0.37826301\n",
      "   0.50014353  0.635427    1.          0.70688944  0.59503276  0.48319282\n",
      "   0.49960881  0.40372223  0.3221054   0.25050216  0.24102295  0.21667506\n",
      "   0.19817059  0.18840411  0.17666724  0.17666724  0.16910552  0.16784213\n",
      "   0.16380616]\n",
      " [ 0.19986861  0.19986861  0.20173634  0.20181755  0.202831    0.24044226\n",
      "   0.33207432  0.4592221   0.70688944  1.          0.64886878  0.51913183\n",
      "   0.48192858  0.38736384  0.305747    0.23549431  0.22717208  0.20153528\n",
      "   0.19885416  0.18977125  0.17929862  0.17929862  0.17038425  0.16791005\n",
      "   0.16384353]\n",
      " [ 0.18329704  0.18329704  0.18382534  0.18389378  0.18506223  0.21613754\n",
      "   0.29760549  0.41059366  0.59503276  0.64886878  1.          0.7785566\n",
      "   0.59161378  0.4000953   0.31692359  0.25152694  0.22787612  0.20487809\n",
      "   0.20339493  0.19428767  0.18111107  0.18111107  0.17219731  0.17230288\n",
      "   0.16955962]\n",
      " [ 0.18406955  0.18406955  0.1833338   0.18353009  0.1873243   0.21445433\n",
      "   0.24342453  0.35611058  0.48319282  0.51913183  0.7785566   1.\n",
      "   0.69922445  0.50825375  0.38814259  0.267158    0.23333699  0.20903383\n",
      "   0.20755463  0.19240153  0.17932753  0.17932753  0.1717674   0.17184216\n",
      "   0.16910623]\n",
      " [ 0.1983674   0.1983674   0.20030331  0.20305046  0.20808346  0.23135688\n",
      "   0.26103733  0.37238632  0.49960881  0.48192858  0.59161378  0.69922445\n",
      "   1.          0.65173714  0.44273412  0.32032757  0.27749804  0.25318802\n",
      "   0.22575754  0.21055951  0.1974855   0.1974855   0.18357666  0.18232083\n",
      "   0.1795849 ]\n",
      " [ 0.1893902   0.1893902   0.1913218   0.19282994  0.19787945  0.22116035\n",
      "   0.22776327  0.28182787  0.40372223  0.38736384  0.4000953   0.50825375\n",
      "   0.65173714  1.          0.76817185  0.50587476  0.3524757   0.31100336\n",
      "   0.2437701   0.22736027  0.20661042  0.20661042  0.19129244  0.17961812\n",
      "   0.17688055]\n",
      " [ 0.18791766  0.18791766  0.18725096  0.18488346  0.18867834  0.20681365\n",
      "   0.21342563  0.26875523  0.3221054   0.305747    0.31692359  0.38814259\n",
      "   0.44273412  0.76817185  1.          0.65053846  0.45882493  0.41586048\n",
      "   0.32654367  0.31008888  0.29077626  0.29077626  0.23114442  0.2197106\n",
      "   0.21697302]\n",
      " [ 0.19042995  0.19042995  0.18583004  0.18472733  0.1857857   0.19490195\n",
      "   0.2002855   0.23347895  0.25050216  0.23549431  0.25152694  0.267158\n",
      "   0.32032757  0.50587476  0.65053846  1.          0.67330152  0.50488413\n",
      "   0.39340183  0.37569628  0.33462643  0.33462643  0.24153177  0.22879461\n",
      "   0.22605869]\n",
      " [ 0.18134808  0.18134808  0.18019377  0.17908709  0.18015282  0.18991555\n",
      "   0.19397246  0.22721085  0.24102295  0.22717208  0.22787612  0.23333699\n",
      "   0.27749804  0.3524757   0.45882493  0.67330152  1.          0.76887538\n",
      "   0.54543981  0.42317978  0.38088906  0.38088906  0.25108993  0.23833239\n",
      "   0.23696392]\n",
      " [ 0.18126651  0.18126651  0.18011216  0.1776739   0.18136703  0.1897999\n",
      "   0.19256111  0.20155428  0.21667506  0.20153528  0.20487809  0.20903383\n",
      "   0.25318802  0.31100336  0.41586048  0.50488413  0.76887538  1.\n",
      "   0.70022857  0.57796336  0.40648517  0.40648517  0.27561779  0.24512417\n",
      "   0.24238824]\n",
      " [ 0.16560336  0.16560336  0.16317459  0.16195791  0.16690344  0.17409449\n",
      "   0.17405663  0.18445429  0.19817059  0.19885416  0.20339493  0.20755463\n",
      "   0.22575754  0.2437701   0.32654367  0.39340183  0.54543981  0.70022857\n",
      "   1.          0.80120934  0.56568371  0.56568371  0.31789148  0.28611224\n",
      "   0.28337632]\n",
      " [ 0.15705386  0.15705386  0.15340224  0.15347615  0.15590157  0.16237172\n",
      "   0.16364053  0.17403819  0.18840411  0.18977125  0.19428767  0.19240153\n",
      "   0.21055951  0.22736027  0.31008888  0.37569628  0.42317978  0.57796336\n",
      "   0.80120934  1.          0.71315516  0.71315516  0.40535023  0.37384076\n",
      "   0.37110484]\n",
      " [ 0.15989949  0.15989949  0.15624958  0.1536182   0.15471365  0.16627975\n",
      "   0.1623779   0.16637481  0.17666724  0.17929862  0.18111107  0.17932753\n",
      "   0.1974855   0.20661042  0.29077626  0.33462643  0.38088906  0.40648517\n",
      "   0.56568371  0.71315516  1.          1.          0.63132281  0.47701976\n",
      "   0.46928457]\n",
      " [ 0.15989949  0.15989949  0.15624958  0.1536182   0.15471365  0.16627975\n",
      "   0.1623779   0.16637481  0.17666724  0.17929862  0.18111107  0.17932753\n",
      "   0.1974855   0.20661042  0.29077626  0.33462643  0.38088906  0.40648517\n",
      "   0.56568371  0.71315516  1.          1.          0.63132281  0.47701976\n",
      "   0.46928457]\n",
      " [ 0.16014172  0.16014172  0.16023643  0.15630797  0.15740068  0.16903223\n",
      "   0.16380616  0.16780547  0.16910552  0.17038425  0.17219731  0.1717674\n",
      "   0.18357666  0.19129244  0.23114442  0.24153177  0.25108993  0.27561779\n",
      "   0.31789148  0.40535023  0.63132281  0.63132281  1.          0.70197459\n",
      "   0.64994646]\n",
      " [ 0.16000326  0.16000326  0.16009789  0.1575765   0.15740418  0.1638375\n",
      "   0.17009671  0.16763944  0.16784213  0.16791005  0.17230288  0.17184216\n",
      "   0.18232083  0.17961812  0.2197106   0.22879461  0.23833239  0.24512417\n",
      "   0.28611224  0.37384076  0.47701976  0.47701976  0.70197459  1.\n",
      "   0.77470186]\n",
      " [ 0.161244    0.161244    0.16007523  0.15755382  0.15747543  0.1639088\n",
      "   0.16227288  0.1650088   0.16380616  0.16384353  0.16955962  0.16910623\n",
      "   0.1795849   0.17688055  0.21697302  0.22605869  0.23696392  0.24238824\n",
      "   0.28337632  0.37110484  0.46928457  0.46928457  0.64994646  0.77470186\n",
      "   1.        ]]\n"
     ]
    }
   ],
   "source": [
    "from sklearn import metrics\n",
    "\n",
    "K=metrics.pairwise.pairwise_kernels(X, metric='linear')\n",
    "print K"
   ]
  },
  {
   "cell_type": "markdown",
   "metadata": {},
   "source": [
    "visualize it as a picture is worth thousand words..."
   ]
  },
  {
   "cell_type": "code",
   "execution_count": 21,
   "metadata": {
    "collapsed": false,
    "scrolled": true
   },
   "outputs": [
    {
     "data": {
      "image/png": "[encoded data removed]",
      "text/plain": [
       "<matplotlib.figure.Figure at 0x111282690>"
      ]
     },
     "metadata": {},
     "output_type": "display_data"
    }
   ],
   "source": [
    "import pylab as plt\n",
    "plt.figure( figsize=(6,6) )\n",
    "img = plt.imshow( K, interpolation='none', cmap=plt.get_cmap( 'YlOrRd' ) )\n",
    "plt.show()"
   ]
  },
  {
   "cell_type": "markdown",
   "metadata": {},
   "source": [
    "---"
   ]
  }
 ],
 "metadata": {
  "kernelspec": {
   "display_name": "Python 2",
   "language": "python",
   "name": "python2"
  },
  "language_info": {
   "codemirror_mode": {
    "name": "ipython",
    "version": 2
   },
   "file_extension": ".py",
   "mimetype": "text/x-python",
   "name": "python",
   "nbconvert_exporter": "python",
   "pygments_lexer": "ipython2",
   "version": "2.7.11"
  }
 },
 "nbformat": 4,
 "nbformat_minor": 0
}
