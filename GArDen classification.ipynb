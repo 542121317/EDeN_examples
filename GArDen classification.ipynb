{
 "cells": [
  {
   "cell_type": "code",
   "execution_count": 267,
   "metadata": {
    "collapsed": false
   },
   "outputs": [
    {
     "name": "stdout",
     "output_type": "stream",
     "text": [
      "The autoreload extension is already loaded. To reload it, use:\n",
      "  %reload_ext autoreload\n"
     ]
    },
    {
     "data": {
      "text/html": [
       "<style>.container { width:95% !important; }</style>"
      ],
      "text/plain": [
       "<IPython.core.display.HTML object>"
      ]
     },
     "execution_count": 267,
     "metadata": {},
     "output_type": "execute_result"
    }
   ],
   "source": [
    "%matplotlib inline\n",
    "%load_ext autoreload\n",
    "%autoreload 2\n",
    "import logging\n",
    "from eden.util import configure_logging\n",
    "configure_logging(logging.getLogger(), verbosity=2)\n",
    "from IPython.core.display import HTML\n",
    "HTML('<style>.container { width:95% !important; }</style>')"
   ]
  },
  {
   "cell_type": "markdown",
   "metadata": {},
   "source": [
    "# Code"
   ]
  },
  {
   "cell_type": "code",
   "execution_count": 268,
   "metadata": {
    "collapsed": true
   },
   "outputs": [],
   "source": [
    "from GArDen.interfaces import convert, transform, model, predict\n",
    "from itertools import izip, islice"
   ]
  },
  {
   "cell_type": "code",
   "execution_count": 269,
   "metadata": {
    "collapsed": false
   },
   "outputs": [],
   "source": [
    "from sklearn import metrics\n",
    "import numpy as np\n",
    "def evaluate(pos_test, neg_test, fit_predictor):\n",
    "    y_test = []\n",
    "    y_pred = []\n",
    "    y_score = []\n",
    "    pos_prediction_partition = predict(pos_test, program=fit_predictor)\n",
    "    for key in pos_prediction_partition:\n",
    "        for element in pos_prediction_partition[key]:\n",
    "            y_test.append(1)\n",
    "            y_pred.append(key)\n",
    "            y_score.append(element['score'])\n",
    "    neg_prediction_partition = predict(neg_test, program=fit_predictor)\n",
    "    for key in neg_prediction_partition:\n",
    "        for element in neg_prediction_partition[key]:\n",
    "            y_test.append(-1)\n",
    "            y_pred.append(key)\n",
    "            y_score.append(element['score'])\n",
    "\n",
    "    y_test = np.array(y_test)\n",
    "    y_pred = np.array(y_pred)\n",
    "    y_score = np.array(y_score)\n",
    "\n",
    "    # confusion matrix\n",
    "    cm = metrics.confusion_matrix(y_test, y_pred)\n",
    "    np.set_printoptions(precision=2)\n",
    "    print 'Confusion matrix:'\n",
    "    print(cm)\n",
    "    \n",
    "    #classification\n",
    "    print(metrics.classification_report(y_test, y_pred))\n",
    "\n",
    "    #roc\n",
    "    print 'ROC: %.3f'%(metrics.roc_auc_score(y_test, y_score))"
   ]
  },
  {
   "cell_type": "code",
   "execution_count": 270,
   "metadata": {
    "collapsed": true
   },
   "outputs": [],
   "source": [
    "def preprocess(fname):\n",
    "    from GArDen.convert.molecular_graph import MoleculeToGraph\n",
    "    graphs=transform(fname, program=MoleculeToGraph())\n",
    "    return list(graphs)"
   ]
  },
  {
   "cell_type": "code",
   "execution_count": 271,
   "metadata": {
    "collapsed": true
   },
   "outputs": [],
   "source": [
    "def preprocess(fname):\n",
    "    from GArDen.convert.molecular_graph import MoleculeToGraph\n",
    "    graphs=transform(fname, program=MoleculeToGraph())\n",
    "    from GArDen.transform.minimal_cycle_annotation import AnnotateMinimalCycles\n",
    "    graphs=transform(graphs, program=AnnotateMinimalCycles())\n",
    "    from GArDen.transform.contraction import Minor, contraction_modifier\n",
    "    #reduce all 'label' attributes of contracted nodes to a histogram to be written in the 'label' attribute of the resulting graph \n",
    "    label_modifier = contraction_modifier(attribute_in='part_name', attribute_out='label', reduction='set_categorical')\n",
    "    #reduce all 'weight' attributes of contracted nodes using a sum to be written in the 'weight' attribute of the resulting graph \n",
    "    weight_modifier = contraction_modifier(attribute_in='weight', attribute_out='weight', reduction='sum')\n",
    "    modifiers = [label_modifier, weight_modifier]\n",
    "    priors=dict(nesting=True,  modifiers=[modifiers], weight_scaling_factor=1)\n",
    "    graphs=transform(graphs, program=Minor(), parameters_priors=priors)\n",
    "    return list(graphs)"
   ]
  },
  {
   "cell_type": "code",
   "execution_count": 272,
   "metadata": {
    "collapsed": false,
    "scrolled": false
   },
   "outputs": [],
   "source": [
    "# display of graphs\n",
    "from eden.util.display import draw_graph_set\n",
    "#draw_graph_set(graphs[:6], n_graphs_per_line=3, size=9, title_key='info', prog='neato', node_border=1, node_size=400, colormap='Set3', edge_color='_label_',edge_alpha=.3, vertex_label='label', vertex_color='_label_', ignore_for_layout='nesting')"
   ]
  },
  {
   "cell_type": "markdown",
   "metadata": {},
   "source": [
    "# Experiment"
   ]
  },
  {
   "cell_type": "code",
   "execution_count": 273,
   "metadata": {
    "collapsed": true
   },
   "outputs": [],
   "source": [
    "folder = '../../../DATA/'\n",
    "active_fname = folder + 'AID2401_active.sdf'\n",
    "inactive_fname = folder + 'AID2401_inactive.sdf'"
   ]
  },
  {
   "cell_type": "code",
   "execution_count": 274,
   "metadata": {
    "collapsed": false
   },
   "outputs": [
    {
     "name": "stdout",
     "output_type": "stream",
     "text": [
      "CPU times: user 11.2 s, sys: 684 ms, total: 11.9 s\n",
      "Wall time: 11.5 s\n"
     ]
    }
   ],
   "source": [
    "%%time\n",
    "active_graphs = preprocess(active_fname)\n",
    "inactive_graphs = preprocess(inactive_fname)\n",
    "\n",
    "from eden.util import random_bipartition_iter\n",
    "relative_size = 0.8\n",
    "pos_train, pos_test = random_bipartition_iter(active_graphs, relative_size=relative_size, random_state=1)\n",
    "neg_train, neg_test = random_bipartition_iter(inactive_graphs, relative_size=relative_size, random_state=1)\n",
    "train_graphs_tuple = (pos_train, neg_train)"
   ]
  },
  {
   "cell_type": "code",
   "execution_count": 275,
   "metadata": {
    "collapsed": false
   },
   "outputs": [
    {
     "name": "stdout",
     "output_type": "stream",
     "text": [
      "Positive data: Instances: 424 ; Features: 1048577 with an avg of 942 features per instance\n",
      "Negative data: Instances: 1364 ; Features: 1048577 with an avg of 839 features per instance\n",
      "CPU times: user 12.4 s, sys: 3.25 s, total: 15.7 s\n",
      "Wall time: 28.4 s\n"
     ]
    }
   ],
   "source": [
    "%%time\n",
    "from sklearn.linear_model import SGDClassifier\n",
    "parameters_priors=dict(average=True, loss='hinge', penalty='l2', alpha=0.0001, l1_ratio=0.15, fit_intercept=True, n_iter=5, shuffle=True, verbose=0, epsilon=0.1, n_jobs=-1, random_state=None, learning_rate='optimal', eta0=0.0, power_t=0.5, class_weight=None, warm_start=False)\n",
    "parameters_priors.update(dict(vectorizer__r=3,vectorizer__d=5, vectorize__n_jobs=-1, vectorize__fit_flag=False, vectorize__n_blocks=5, vectorize__block_size=None))\n",
    "predictor = SGDClassifier()\n",
    "fit_predictor = model(train_graphs_tuple, program=predictor, parameters_priors=parameters_priors)"
   ]
  },
  {
   "cell_type": "code",
   "execution_count": 276,
   "metadata": {
    "collapsed": false,
    "scrolled": false
   },
   "outputs": [
    {
     "name": "stdout",
     "output_type": "stream",
     "text": [
      "Confusion matrix:\n",
      "[[334   6]\n",
      " [ 61  45]]\n",
      "             precision    recall  f1-score   support\n",
      "\n",
      "         -1       0.85      0.98      0.91       340\n",
      "          1       0.88      0.42      0.57       106\n",
      "\n",
      "avg / total       0.85      0.85      0.83       446\n",
      "\n",
      "ROC: 0.909\n",
      "CPU times: user 3.2 s, sys: 1.09 s, total: 4.28 s\n",
      "Wall time: 7.41 s\n"
     ]
    }
   ],
   "source": [
    "%%time\n",
    "evaluate(pos_test, neg_test, fit_predictor)"
   ]
  },
  {
   "cell_type": "markdown",
   "metadata": {},
   "source": [
    "---"
   ]
  }
 ],
 "metadata": {
  "kernelspec": {
   "display_name": "Python 2",
   "language": "python",
   "name": "python2"
  },
  "language_info": {
   "codemirror_mode": {
    "name": "ipython",
    "version": 2
   },
   "file_extension": ".py",
   "mimetype": "text/x-python",
   "name": "python",
   "nbconvert_exporter": "python",
   "pygments_lexer": "ipython2",
   "version": "2.7.10"
  }
 },
 "nbformat": 4,
 "nbformat_minor": 0
}
