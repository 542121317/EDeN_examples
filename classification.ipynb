{
 "cells": [
  {
   "cell_type": "markdown",
   "metadata": {},
   "source": [
    "# Classification\n",
    "\n",
    "[EDeN](https://github.com/fabriziocosta/EDeN) can be directly used to induce predictive estimators for graphs using the popular scikit-learn library.\n",
    "\n",
    "The first thing to do is to load the graphs. \n",
    "EDeN offers an io module that can read popular formats like the [gSpan](http://ieeexplore.ieee.org/document/1184038/?arnumber=1184038&tag=1) graph format or the JSON serialization of [networkx](https://networkx.github.io) graphs.  "
   ]
  },
  {
   "cell_type": "code",
   "execution_count": 1,
   "metadata": {
    "collapsed": false
   },
   "outputs": [],
   "source": [
    "from eden.io.gspan import load\n",
    "pos_graphs = list(load('data/bursi.pos.gspan'))\n",
    "neg_graphs = list(load('data/bursi.neg.gspan'))\n",
    "graphs = pos_graphs + neg_graphs\n",
    "\n",
    "y = [1]*len(pos_graphs) + [-1]*len(neg_graphs)\n",
    "import numpy as np\n",
    "y = np.array(y)"
   ]
  },
  {
   "cell_type": "markdown",
   "metadata": {},
   "source": [
    "EDeN exports a ```vectorize``` function that converts a list of graphs in input to a data matrix in output.\n",
    "\n",
    "The output format is a scipy [Compressed Sparse Row matrix](https://docs.scipy.org/doc/scipy-0.18.1/reference/generated/scipy.sparse.csr_matrix.html#scipy.sparse.csr_matrix)."
   ]
  },
  {
   "cell_type": "code",
   "execution_count": 2,
   "metadata": {
    "collapsed": false
   },
   "outputs": [
    {
     "name": "stdout",
     "output_type": "stream",
     "text": [
      "Instances: 4337 Features: 65537 with an avg of 184 features per instance\n",
      "CPU times: user 10.4 s, sys: 2.44 s, total: 12.9 s\n",
      "Wall time: 12.1 s\n"
     ]
    }
   ],
   "source": [
    "%%time\n",
    "from eden.graph import vectorize\n",
    "\n",
    "X = vectorize(graphs, complexity=2)\n",
    "print 'Instances: %d Features: %d with an avg of %d features per instance' % (X.shape[0], X.shape[1],  X.getnnz()/X.shape[0])"
   ]
  },
  {
   "cell_type": "markdown",
   "metadata": {},
   "source": [
    "Several predictive algorithms from the [scikit](http://scikit-learn.org/stable/) library can process data in csr format."
   ]
  },
  {
   "cell_type": "code",
   "execution_count": 3,
   "metadata": {
    "collapsed": false
   },
   "outputs": [
    {
     "name": "stdout",
     "output_type": "stream",
     "text": [
      "AUC ROC: 0.9007 +- 0.0153\n",
      "CPU times: user 920 ms, sys: 84.5 ms, total: 1 s\n",
      "Wall time: 1.17 s\n"
     ]
    }
   ],
   "source": [
    "%%time\n",
    "from sklearn.linear_model import SGDClassifier\n",
    "from sklearn.model_selection import cross_val_score\n",
    "\n",
    "predictor = SGDClassifier(average=True, class_weight='balanced', shuffle=True, n_jobs=-1)\n",
    "scores = cross_val_score(predictor, X, y, cv=10, scoring='roc_auc')\n",
    "print('AUC ROC: %.4f +- %.4f' % (np.mean(scores),np.std(scores)))"
   ]
  },
  {
   "cell_type": "markdown",
   "metadata": {},
   "source": [
    "---"
   ]
  }
 ],
 "metadata": {
  "kernelspec": {
   "display_name": "Python 2",
   "language": "python",
   "name": "python2"
  },
  "language_info": {
   "codemirror_mode": {
    "name": "ipython",
    "version": 2
   },
   "file_extension": ".py",
   "mimetype": "text/x-python",
   "name": "python",
   "nbconvert_exporter": "python",
   "pygments_lexer": "ipython2",
   "version": "2.7.13"
  }
 },
 "nbformat": 4,
 "nbformat_minor": 1
}
