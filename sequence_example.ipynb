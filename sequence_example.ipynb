{
 "cells": [
  {
   "cell_type": "markdown",
   "metadata": {},
   "source": [
    "# Example\n",
    "\n",
    "Consider sequences that are increasingly different. EDeN allows to turn them into vectors, whose similarity is decreasing."
   ]
  },
  {
   "cell_type": "markdown",
   "metadata": {},
   "source": [
    "Build an artificial dataset: starting from the string 'abcdefghijklmnopqrstuvwxyz', generate iteratively strings by swapping two characters at random. In this way instances are progressively more dissimilar"
   ]
  },
  {
   "cell_type": "code",
   "execution_count": 1,
   "metadata": {
    "collapsed": true
   },
   "outputs": [],
   "source": [
    "import random\n",
    "\n",
    "def make_data(size):\n",
    "    text = ''.join([str(unichr(97+i)) for i in range(26)])\n",
    "    seqs = []\n",
    "\n",
    "    def swap_two_characters(seq):\n",
    "        '''define a function that swaps two characters at random positions in a string '''\n",
    "        line = list(seq)\n",
    "        id_i = random.randint(0,len(line)-1)\n",
    "        id_j = random.randint(0,len(line)-1)\n",
    "        line[id_i], line[id_j] = line[id_j], line[id_i]\n",
    "        return ''.join(line)\n",
    "\n",
    "    for i in range(size):\n",
    "        text = swap_two_characters( text )\n",
    "        seqs.append( text )\n",
    "        print text\n",
    "        \n",
    "    return seqs"
   ]
  },
  {
   "cell_type": "code",
   "execution_count": 2,
   "metadata": {},
   "outputs": [
    {
     "name": "stdout",
     "output_type": "stream",
     "text": [
      "abcxefghijklmnopqrstuvwdyz\n",
      "abcxwfghijklmnopqrstuvedyz\n",
      "ablxwfghijkcmnopqrstuvedyz\n",
      "ablxwfehijkcmnopqrstuvgdyz\n",
      "ablxwfehijkcmnopqrytuvgdsz\n",
      "ablywfehijkcmnopqrxtuvgdsz\n",
      "ablywfehijkcgnopqrxtuvmdsz\n",
      "abtywfehijkcgnopqrxluvmdsz\n",
      "abtywgehijkcfnopqrxluvmdsz\n",
      "abtlwgehijkcfnopqrxyuvmdsz\n",
      "abtlwgehijucfnopqrxykvmdsz\n",
      "aktlwgehijucfnopqrxybvmdsz\n",
      "aktlwgehrjucfnopqixybvmdsz\n",
      "aktlegwhrjucfnopqixybvmdsz\n",
      "aktligwhrjucfnopqexybvmdsz\n",
      "aktligwhrjucfnopqexybvmzsd\n",
      "aktldgwhrjucfnopqexybvmzsi\n",
      "aktldgwhrjucfqopnexybvmzsi\n",
      "aktldgwhrjucfqypnexobvmzsi\n",
      "aktldgbhrjucfqypnexowvmzsi\n",
      "akgldtbhrjucfqypnexowvmzsi\n",
      "akgldtbhrjucfqnpyexowvmzsi\n",
      "akgldtbhrjucfqnpyexowmvzsi\n",
      "akgldbthrjucfqnpyexowmvzsi\n",
      "akgldbthrjcufqnpyexowmvzsi\n"
     ]
    }
   ],
   "source": [
    "seqs = make_data(25)"
   ]
  },
  {
   "cell_type": "markdown",
   "metadata": {},
   "source": [
    "define a function that builds a graph from a string, i.e. the path graph with the characters as node labels"
   ]
  },
  {
   "cell_type": "code",
   "execution_count": 3,
   "metadata": {
    "collapsed": true
   },
   "outputs": [],
   "source": [
    "import networkx as nx\n",
    "\n",
    "def sequence_to_graph(seq):\n",
    "    '''convert a sequence into a EDeN 'compatible' graph\n",
    "    i.e. a graph with the attribute 'label' for every node and edge'''\n",
    "    G = nx.Graph()\n",
    "    for id,character in enumerate(seq):\n",
    "        G.add_node(id, label = character )\n",
    "        if id > 0:\n",
    "            G.add_edge(id-1, id, label = '-')\n",
    "    return G"
   ]
  },
  {
   "cell_type": "markdown",
   "metadata": {},
   "source": [
    "make a generator that yields graphs: generators are 'good' as they allow functional composition"
   ]
  },
  {
   "cell_type": "code",
   "execution_count": 4,
   "metadata": {
    "collapsed": true
   },
   "outputs": [],
   "source": [
    "def pre_process(iterable):\n",
    "    for seq in iterable:\n",
    "        yield sequence_to_graph(seq)"
   ]
  },
  {
   "cell_type": "markdown",
   "metadata": {},
   "source": [
    "obtain an iterator over the sequences processed into graphs"
   ]
  },
  {
   "cell_type": "code",
   "execution_count": 5,
   "metadata": {},
   "outputs": [
    {
     "name": "stdout",
     "output_type": "stream",
     "text": [
      "CPU times: user 0 ns, sys: 0 ns, total: 0 ns\n",
      "Wall time: 9.06 µs\n"
     ]
    }
   ],
   "source": [
    "%%time\n",
    "graphs = pre_process(seqs)"
   ]
  },
  {
   "cell_type": "markdown",
   "metadata": {},
   "source": [
    "compute the vector encoding of each instance in a sparse data matrix"
   ]
  },
  {
   "cell_type": "code",
   "execution_count": 6,
   "metadata": {},
   "outputs": [
    {
     "name": "stdout",
     "output_type": "stream",
     "text": [
      "Instances: 25 ; Features: 262145 with an avg of 806 features per instance\n",
      "CPU times: user 528 ms, sys: 48 ms, total: 576 ms\n",
      "Wall time: 581 ms\n"
     ]
    }
   ],
   "source": [
    "%%time\n",
    "from eden.graph import vectorize\n",
    "X = vectorize(list(graphs), complexity=3, nbits=18,n_jobs=1)\n",
    "print 'Instances: %d ; Features: %d with an avg of %d features per instance' % (X.shape[0], X.shape[1],  X.getnnz()/X.shape[0])"
   ]
  },
  {
   "cell_type": "markdown",
   "metadata": {},
   "source": [
    "compute the pairwise similarity as the dot product between the vector representations of each sequence"
   ]
  },
  {
   "cell_type": "code",
   "execution_count": 7,
   "metadata": {
    "collapsed": true,
    "scrolled": false
   },
   "outputs": [],
   "source": [
    "from sklearn import metrics\n",
    "\n",
    "K=metrics.pairwise.pairwise_kernels(X, metric='linear')"
   ]
  },
  {
   "cell_type": "markdown",
   "metadata": {},
   "source": [
    "visualize it as a picture is worth thousand words..."
   ]
  },
  {
   "cell_type": "code",
   "execution_count": 8,
   "metadata": {},
   "outputs": [
    {
     "data": {
      "image/png": "[encoded data removed]",
      "text/plain": [
       "<matplotlib.figure.Figure at 0x7f8de3c1f610>"
      ]
     },
     "metadata": {},
     "output_type": "display_data"
    }
   ],
   "source": [
    "%matplotlib inline\n",
    "import pylab as plt\n",
    "plt.figure( figsize=(6,6) )\n",
    "img = plt.imshow( K, interpolation='none', cmap=plt.get_cmap( 'YlOrRd' ) )\n",
    "plt.show()"
   ]
  },
  {
   "cell_type": "markdown",
   "metadata": {},
   "source": [
    "---"
   ]
  }
 ],
 "metadata": {
  "kernelspec": {
   "display_name": "Python 2",
   "language": "python",
   "name": "python2"
  },
  "language_info": {
   "codemirror_mode": {
    "name": "ipython",
    "version": 2
   },
   "file_extension": ".py",
   "mimetype": "text/x-python",
   "name": "python",
   "nbconvert_exporter": "python",
   "pygments_lexer": "ipython2",
   "version": "2.7.13"
  }
 },
 "nbformat": 4,
 "nbformat_minor": 1
}
