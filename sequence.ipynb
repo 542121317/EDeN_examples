{
 "cells": [
  {
   "cell_type": "markdown",
   "metadata": {},
   "source": [
    "# Example\n",
    "\n",
    "Consider sequences that are increasingly different. EDeN allows to turn them into vectors, whose similarity is decreasing."
   ]
  },
  {
   "cell_type": "markdown",
   "metadata": {},
   "source": [
    "Build an artificial dataset: starting from the string 'abcdefghijklmnopqrstuvwxyz', generate iteratively strings by swapping two characters at random. In this way instances are progressively more dissimilar"
   ]
  },
  {
   "cell_type": "code",
   "execution_count": 1,
   "metadata": {
    "collapsed": false
   },
   "outputs": [],
   "source": [
    "import random\n",
    "\n",
    "def make_data(size):\n",
    "    text = ''.join([str(unichr(97+i)) for i in range(26)])\n",
    "    seqs = []\n",
    "\n",
    "    def swap_two_characters(seq):\n",
    "        '''define a function that swaps two characters at random positions in a string '''\n",
    "        line = list(seq)\n",
    "        id_i = random.randint(0,len(line)-1)\n",
    "        id_j = random.randint(0,len(line)-1)\n",
    "        line[id_i], line[id_j] = line[id_j], line[id_i]\n",
    "        return ''.join(line)\n",
    "\n",
    "    for i in range(size):\n",
    "        text = swap_two_characters( text )\n",
    "        seqs.append( text )\n",
    "        print text\n",
    "        \n",
    "    return seqs"
   ]
  },
  {
   "cell_type": "code",
   "execution_count": 2,
   "metadata": {
    "collapsed": false
   },
   "outputs": [
    {
     "name": "stdout",
     "output_type": "stream",
     "text": [
      "abcdefghirklmnopqjstuvwxyz\n",
      "abcdekghirflmnopqjstuvwxyz\n",
      "ahcdekgbirflmnopqjstuvwxyz\n",
      "ahcdekgbirfsmnopqjltuvwxyz\n",
      "ahcdekgbirfsmnopyjltuvwxqz\n",
      "ahcdekglirfsmnopyjbtuvwxqz\n",
      "amcdekglirfshnopyjbtuvwxqz\n",
      "amcdlkgeirfshnopyjbtuvwxqz\n",
      "amcdlkgeirfnhsopyjbtuvwxqz\n",
      "amcdlkgeorfnhsipyjbtuvwxqz\n",
      "amcdlkgeoyfnhsiprjbtuvwxqz\n",
      "amcdlkgeoyfnhsiprjvtubwxqz\n",
      "amcdlkgeoyfthsiprjvnubwxqz\n",
      "amcdokgelyfthsiprjvnubwxqz\n",
      "amcdokgelyfshtiprjvnubwxqz\n",
      "amcdokgleyfshtiprjvnubwxqz\n",
      "amcdvkgleyfshtiprjonubwxqz\n",
      "dmcavkgleyfshtiprjonubwxqz\n",
      "dmcavkglehfsytiprjonubwxqz\n",
      "dmfavkglehcsytiprjonubwxqz\n",
      "dqfavkglehcsytiprjonubwxmz\n",
      "dqxavkglehcsytiprjonubwfmz\n",
      "dqxavkglehcsftiprjonubwymz\n",
      "dqyavkglehcsftiprjonubwxmz\n",
      "dqyavkglehcsftiprjonubwxmz\n"
     ]
    }
   ],
   "source": [
    "seqs = make_data(25)"
   ]
  },
  {
   "cell_type": "markdown",
   "metadata": {},
   "source": [
    "define a function that builds a graph from a string, i.e. the path graph with the characters as node labels"
   ]
  },
  {
   "cell_type": "code",
   "execution_count": 3,
   "metadata": {
    "collapsed": false
   },
   "outputs": [],
   "source": [
    "import networkx as nx\n",
    "\n",
    "def sequence_to_graph(seq):\n",
    "    '''convert a sequence into a EDeN 'compatible' graph\n",
    "    i.e. a graph with the attribute 'label' for every node and edge'''\n",
    "    G = nx.Graph()\n",
    "    for id,character in enumerate(seq):\n",
    "        G.add_node(id, label = character )\n",
    "        if id > 0:\n",
    "            G.add_edge(id-1, id, label = '-')\n",
    "    return G"
   ]
  },
  {
   "cell_type": "markdown",
   "metadata": {},
   "source": [
    "make a generator that yields graphs: generators are 'good' as they allow functional composition"
   ]
  },
  {
   "cell_type": "code",
   "execution_count": 4,
   "metadata": {
    "collapsed": false
   },
   "outputs": [],
   "source": [
    "def pre_process(iterable):\n",
    "    for seq in iterable:\n",
    "        yield sequence_to_graph(seq)"
   ]
  },
  {
   "cell_type": "markdown",
   "metadata": {},
   "source": [
    "obtain an iterator over the sequences processed into graphs"
   ]
  },
  {
   "cell_type": "code",
   "execution_count": 10,
   "metadata": {
    "collapsed": false
   },
   "outputs": [
    {
     "name": "stdout",
     "output_type": "stream",
     "text": [
      "CPU times: user 4 µs, sys: 2 µs, total: 6 µs\n",
      "Wall time: 10 µs\n"
     ]
    }
   ],
   "source": [
    "%%time\n",
    "graphs = pre_process(seqs)"
   ]
  },
  {
   "cell_type": "markdown",
   "metadata": {},
   "source": [
    "compute the vector encoding of each instance in a sparse data matrix"
   ]
  },
  {
   "cell_type": "code",
   "execution_count": 11,
   "metadata": {
    "collapsed": false
   },
   "outputs": [
    {
     "name": "stdout",
     "output_type": "stream",
     "text": [
      "Instances: 25 ; Features: 262145 with an avg of 807 features per instance\n",
      "CPU times: user 82.1 ms, sys: 26 ms, total: 108 ms\n",
      "Wall time: 446 ms\n"
     ]
    }
   ],
   "source": [
    "%%time\n",
    "from eden.graph import vectorize\n",
    "X = vectorize(graphs, complexity=3, nbits=18)\n",
    "print 'Instances: %d ; Features: %d with an avg of %d features per instance' % (X.shape[0], X.shape[1],  X.getnnz()/X.shape[0])"
   ]
  },
  {
   "cell_type": "markdown",
   "metadata": {},
   "source": [
    "compute the pairwise similarity as the dot product between the vector representations of each sequence"
   ]
  },
  {
   "cell_type": "code",
   "execution_count": 7,
   "metadata": {
    "collapsed": false,
    "scrolled": false
   },
   "outputs": [
    {
     "name": "stdout",
     "output_type": "stream",
     "text": [
      "[[ 1.          0.66558005  0.59601809  0.38036075  0.25000403  0.25096997\n",
      "   0.23781297  0.22740901  0.21710286  0.21200124  0.20935864  0.17453739\n",
      "   0.17310207  0.17057184  0.17201066  0.17200877  0.17338656  0.15930693\n",
      "   0.15917881  0.16136368  0.16147122  0.15748704  0.1592347   0.16060875\n",
      "   0.16060875]\n",
      " [ 0.66558005  1.          0.732139    0.4280236   0.2983984   0.29412936\n",
      "   0.27832079  0.24112384  0.22941987  0.21518145  0.21261202  0.17648155\n",
      "   0.17378229  0.17378229  0.17248224  0.17521817  0.17659918  0.16119628\n",
      "   0.16119628  0.16197333  0.16141417  0.15863626  0.16181944  0.16389559\n",
      "   0.16389559]\n",
      " [ 0.59601809  0.732139    1.          0.63403083  0.50427143  0.38252726\n",
      "   0.27832925  0.2423962   0.23069188  0.22164639  0.21388243  0.17775196\n",
      "   0.17375252  0.17389287  0.17248748  0.17522349  0.17660454  0.16120118\n",
      "   0.16120118  0.16324247  0.16268414  0.1599053   0.16298322  0.16565721\n",
      "   0.16565721]\n",
      " [ 0.38036075  0.4280236   0.63403083  1.          0.70341304  0.46889729\n",
      "   0.28962882  0.25373747  0.23024455  0.22242652  0.21472529  0.17986775\n",
      "   0.17323668  0.17334205  0.17460631  0.17593783  0.17880355  0.16465367\n",
      "   0.16465367  0.16416619  0.16427559  0.16149392  0.1632389   0.16591117\n",
      "   0.16591117]\n",
      " [ 0.25000403  0.2983984   0.50427143  0.70341304  1.          0.62488595\n",
      "   0.40778143  0.37191276  0.33803012  0.31982035  0.30414367  0.21238941\n",
      "   0.20576254  0.2085734   0.20843144  0.21109278  0.2140013   0.19983804\n",
      "   0.19850653  0.19681588  0.1650596   0.16615316  0.16874894  0.16754545\n",
      "   0.16754545]\n",
      " [ 0.25096997  0.29412936  0.38252726  0.46889729  0.62488595  1.\n",
      "   0.69922445  0.53876357  0.4891044   0.44737713  0.37301984  0.21376137\n",
      "   0.20843467  0.20843467  0.2096973   0.22142475  0.22153204  0.20863677\n",
      "   0.20863677  0.20427844  0.17254834  0.17223073  0.17615541  0.17502748\n",
      "   0.17502748]\n",
      " [ 0.23781297  0.27832079  0.27832925  0.28962882  0.40778143  0.69922445\n",
      "   1.          0.72383538  0.55428667  0.4891648   0.41857692  0.25933462\n",
      "   0.24634455  0.24494005  0.25400793  0.26573537  0.26589872  0.21846158\n",
      "   0.20805735  0.20369902  0.17317202  0.17165131  0.17557599  0.17565075\n",
      "   0.17565075]\n",
      " [ 0.22740901  0.24112384  0.2423962   0.25373747  0.37191276  0.53876357\n",
      "   0.72383538  1.          0.76845049  0.61615204  0.54546455  0.38632186\n",
      "   0.37200199  0.2566675   0.26573537  0.25400793  0.25415644  0.20672672\n",
      "   0.19632249  0.19203892  0.16150414  0.15999121  0.16391589  0.16399064\n",
      "   0.16399064]\n",
      " [ 0.21710286  0.22941987  0.23069188  0.23024455  0.33803012  0.4891044\n",
      "   0.55428667  0.76845049  1.          0.65515027  0.55994297  0.40079113\n",
      "   0.37473628  0.26073345  0.2566675   0.24623582  0.24640769  0.19768629\n",
      "   0.19239026  0.18937011  0.15883356  0.1573224   0.15998366  0.16005841\n",
      "   0.16005841]\n",
      " [ 0.21200124  0.21518145  0.22164639  0.22242652  0.31982035  0.44737713\n",
      "   0.4891648   0.61615204  0.65515027  1.          0.6338491   0.47469553\n",
      "   0.43057962  0.28645599  0.26839495  0.25026675  0.24781483  0.20038913\n",
      "   0.1963897   0.19473704  0.16283566  0.16132183  0.16132183  0.16139659\n",
      "   0.16139659]\n",
      " [ 0.20935864  0.21261202  0.21388243  0.21472529  0.30414367  0.37301984\n",
      "   0.41857692  0.54546455  0.55994297  0.6338491   1.          0.7248939\n",
      "   0.54086521  0.33963627  0.30216073  0.27633061  0.27521166  0.22778375\n",
      "   0.21977983  0.21675777  0.18508338  0.18217814  0.1794404   0.18355385\n",
      "   0.18355385]\n",
      " [ 0.17453739  0.17648155  0.17775196  0.17986775  0.21238941  0.21376137\n",
      "   0.25933462  0.38632186  0.40079113  0.47469553  0.7248939   1.\n",
      "   0.62740718  0.42723763  0.3793881   0.35352935  0.33055871  0.28308068\n",
      "   0.27508182  0.27206166  0.20009631  0.18825873  0.18552272  0.19855767\n",
      "   0.19855767]\n",
      " [ 0.17310207  0.17378229  0.17375252  0.17323668  0.20576254  0.20843467\n",
      "   0.24634455  0.37200199  0.37473628  0.43057962  0.54086521  0.62740718\n",
      "   1.          0.710431    0.56567452  0.53981578  0.3903531   0.34283727\n",
      "   0.3129552   0.30993505  0.22217535  0.20258764  0.20111506  0.22188543\n",
      "   0.22188543]\n",
      " [ 0.17057184  0.17378229  0.17389287  0.17334205  0.2085734   0.20843467\n",
      "   0.24494005  0.2566675   0.26073345  0.28645599  0.33963627  0.42723763\n",
      "   0.710431    1.          0.76845049  0.63021617  0.39158226  0.34406564\n",
      "   0.31548017  0.31246001  0.224702    0.20637866  0.20364352  0.22311381\n",
      "   0.22311381]\n",
      " [ 0.17201066  0.17248224  0.17248748  0.17460631  0.20843144  0.2096973\n",
      "   0.25400793  0.26573537  0.2566675   0.26839495  0.30216073  0.3793881\n",
      "   0.56567452  0.76845049  1.          0.77497265  0.49800201  0.4504181\n",
      "   0.33895744  0.33326848  0.24552433  0.22589053  0.22445199  0.24392227\n",
      "   0.24392227]\n",
      " [ 0.17200877  0.17521817  0.17522349  0.17593783  0.21109278  0.22142475\n",
      "   0.26573537  0.25400793  0.24623582  0.25026675  0.27633061  0.35352935\n",
      "   0.53981578  0.63021617  0.77497265  1.          0.63373909  0.58606936\n",
      "   0.36123687  0.35281191  0.26508078  0.24543396  0.24399541  0.2634657\n",
      "   0.2634657 ]\n",
      " [ 0.17338656  0.17659918  0.17660454  0.17880355  0.2140013   0.22153204\n",
      "   0.26589872  0.25415644  0.24640769  0.24781483  0.27521166  0.33055871\n",
      "   0.3903531   0.39158226  0.49800201  0.63373909  1.          0.81226514\n",
      "   0.54607157  0.53630363  0.42444512  0.3888385   0.389963    0.42528696\n",
      "   0.42528696]\n",
      " [ 0.15930693  0.16119628  0.16120118  0.16465367  0.19983804  0.20863677\n",
      "   0.21846158  0.20672672  0.19768629  0.20038913  0.22778375  0.28308068\n",
      "   0.34283727  0.34406564  0.4504181   0.58606936  0.81226514  1.\n",
      "   0.71250742  0.57527592  0.45630302  0.42190096  0.42175891  0.4558571\n",
      "   0.4558571 ]\n",
      " [ 0.15917881  0.16119628  0.16120118  0.16465367  0.19850653  0.20863677\n",
      "   0.20805735  0.19632249  0.19239026  0.1963897   0.21977983  0.27508182\n",
      "   0.3129552   0.31548017  0.33895744  0.36123687  0.54607157  0.71250742\n",
      "   1.          0.67416456  0.55519189  0.5207896   0.45291653  0.48828055\n",
      "   0.48828055]\n",
      " [ 0.16136368  0.16197333  0.16324247  0.16416619  0.19681588  0.20427844\n",
      "   0.20369902  0.19203892  0.18937011  0.19473704  0.21675777  0.27206166\n",
      "   0.30993505  0.31246001  0.33326848  0.35281191  0.53630363  0.57527592\n",
      "   0.67416456  1.          0.77671676  0.70686532  0.5166456   0.55200962\n",
      "   0.55200962]\n",
      " [ 0.16147122  0.16141417  0.16268414  0.16427559  0.1650596   0.17254834\n",
      "   0.17317202  0.16150414  0.15883356  0.16283566  0.18508338  0.20009631\n",
      "   0.22217535  0.224702    0.24552433  0.26508078  0.42444512  0.45630302\n",
      "   0.55519189  0.77671676  1.          0.71836487  0.52934913  0.67702901\n",
      "   0.67702901]\n",
      " [ 0.15748704  0.15863626  0.1599053   0.16149392  0.16615316  0.17223073\n",
      "   0.17165131  0.15999121  0.1573224   0.16132183  0.18217814  0.18825873\n",
      "   0.20258764  0.20637866  0.22589053  0.24543396  0.3888385   0.42190096\n",
      "   0.5207896   0.70686532  0.71836487  1.          0.67002055  0.53146588\n",
      "   0.53146588]\n",
      " [ 0.1592347   0.16181944  0.16298322  0.1632389   0.16874894  0.17615541\n",
      "   0.17557599  0.16391589  0.15998366  0.16132183  0.1794404   0.18552272\n",
      "   0.20111506  0.20364352  0.22445199  0.24399541  0.389963    0.42175891\n",
      "   0.45291653  0.5166456   0.52934913  0.67002055  1.          0.71915555\n",
      "   0.71915555]\n",
      " [ 0.16060875  0.16389559  0.16565721  0.16591117  0.16754545  0.17502748\n",
      "   0.17565075  0.16399064  0.16005841  0.16139659  0.18355385  0.19855767\n",
      "   0.22188543  0.22311381  0.24392227  0.2634657   0.42528696  0.4558571\n",
      "   0.48828055  0.55200962  0.67702901  0.53146588  0.71915555  1.          1.        ]\n",
      " [ 0.16060875  0.16389559  0.16565721  0.16591117  0.16754545  0.17502748\n",
      "   0.17565075  0.16399064  0.16005841  0.16139659  0.18355385  0.19855767\n",
      "   0.22188543  0.22311381  0.24392227  0.2634657   0.42528696  0.4558571\n",
      "   0.48828055  0.55200962  0.67702901  0.53146588  0.71915555  1.          1.        ]]\n"
     ]
    }
   ],
   "source": [
    "from sklearn import metrics\n",
    "\n",
    "K=metrics.pairwise.pairwise_kernels(X, metric='linear')\n",
    "print K"
   ]
  },
  {
   "cell_type": "markdown",
   "metadata": {},
   "source": [
    "visualize it as a picture is worth thousand words..."
   ]
  },
  {
   "cell_type": "code",
   "execution_count": 8,
   "metadata": {
    "collapsed": false
   },
   "outputs": [
    {
     "data": {
      "image/png": "[encoded data removed]",
      "text/plain": [
       "<matplotlib.figure.Figure at 0x1062f80d0>"
      ]
     },
     "metadata": {},
     "output_type": "display_data"
    }
   ],
   "source": [
    "%matplotlib inline\n",
    "import pylab as plt\n",
    "plt.figure( figsize=(6,6) )\n",
    "img = plt.imshow( K, interpolation='none', cmap=plt.get_cmap( 'YlOrRd' ) )\n",
    "plt.show()"
   ]
  },
  {
   "cell_type": "markdown",
   "metadata": {},
   "source": [
    "---"
   ]
  }
 ],
 "metadata": {
  "kernelspec": {
   "display_name": "Python 2",
   "language": "python",
   "name": "python2"
  },
  "language_info": {
   "codemirror_mode": {
    "name": "ipython",
    "version": 2
   },
   "file_extension": ".py",
   "mimetype": "text/x-python",
   "name": "python",
   "nbconvert_exporter": "python",
   "pygments_lexer": "ipython2",
   "version": "2.7.12"
  }
 },
 "nbformat": 4,
 "nbformat_minor": 0
}
