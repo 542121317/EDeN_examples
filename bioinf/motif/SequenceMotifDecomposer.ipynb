{
 "cells": [
  {
   "cell_type": "code",
   "execution_count": 1,
   "metadata": {
    "collapsed": false
   },
   "outputs": [
    {
     "data": {
      "text/html": [
       "<style>.container { width:95% !important; }</style>"
      ],
      "text/plain": [
       "<IPython.core.display.HTML object>"
      ]
     },
     "execution_count": 1,
     "metadata": {},
     "output_type": "execute_result"
    }
   ],
   "source": [
    "%matplotlib inline\n",
    "%load_ext autoreload\n",
    "%autoreload 2\n",
    "import logging\n",
    "from eden.util import configure_logging\n",
    "configure_logging(logging.getLogger(), verbosity=2)\n",
    "from IPython.core.display import HTML\n",
    "HTML('<style>.container { width:95% !important; }</style>')"
   ]
  },
  {
   "cell_type": "code",
   "execution_count": 2,
   "metadata": {
    "collapsed": false
   },
   "outputs": [],
   "source": [
    "import numpy as np"
   ]
  },
  {
   "cell_type": "code",
   "execution_count": 3,
   "metadata": {
    "collapsed": false
   },
   "outputs": [],
   "source": [
    "import GArDen.interfaces as garden\n",
    "from GArDen.convert.sequence import SeqToPathGraph\n",
    "from GArDen.transform.rna_structure import PathGraphToRNAPlfold\n",
    "\n",
    "remap={'A0':'A','C0':'C','G0':'G','U0':'E','T0':'E',\n",
    "       'A1':'V','C1':'S','G1':'Y','U1':'D','T1':'D'}\n",
    "\n",
    "def remap_with_structure(pos_seqs, remap=remap):\n",
    "    graphs = garden.transform(pos_seqs, program=SeqToPathGraph())\n",
    "    graphs = garden.transform(graphs, program=PathGraphToRNAPlfold(max_num_edges=2,\n",
    "                                                                   window_size=200,\n",
    "                                                                   max_bp_span=100,\n",
    "                                                                   hard_threshold=.5,\n",
    "                                                                   avg_bp_prob_cutoff=.01))\n",
    "    for graph in graphs:\n",
    "        paireds = [graph.node[u]['label']+str(int(graph.node[u].get('paired',False))) for u in graph.nodes()]\n",
    "        paireds = [remap[c] for c in paireds]\n",
    "        seq = ''.join(paireds)\n",
    "        yield ('ID',seq)\n",
    "alphabet = 'protein'\n",
    "color_scheme = 'chemistry'"
   ]
  },
  {
   "cell_type": "code",
   "execution_count": 4,
   "metadata": {
    "collapsed": true
   },
   "outputs": [],
   "source": [
    "def remap_with_structure(pos_seqs):\n",
    "    for seq in pos_seqs:\n",
    "        yield seq\n",
    "alphabet = 'rna'\n",
    "color_scheme = 'classic'"
   ]
  },
  {
   "cell_type": "code",
   "execution_count": 5,
   "metadata": {
    "collapsed": true
   },
   "outputs": [],
   "source": [
    "def filter_pvalue(iterable, threshold=2, less_than=False):\n",
    "    for header,seq in iterable:\n",
    "        val = float(header.split('_')[1])\n",
    "        if less_than:\n",
    "            if val < threshold:\n",
    "                yield (header,seq)\n",
    "        else:\n",
    "            if val > threshold:\n",
    "                yield (header,seq)"
   ]
  },
  {
   "cell_type": "code",
   "execution_count": 6,
   "metadata": {
    "collapsed": true
   },
   "outputs": [],
   "source": [
    "def filter_pvalue(iterable, threshold=2, less_than=False):\n",
    "    for header,seq in iterable:\n",
    "        val = float(header.split(';')[2])\n",
    "        if less_than:\n",
    "            if val < threshold:\n",
    "                yield (header,seq)\n",
    "        else:\n",
    "            if val > threshold:\n",
    "                yield (header,seq)"
   ]
  },
  {
   "cell_type": "code",
   "execution_count": 7,
   "metadata": {
    "collapsed": true
   },
   "outputs": [],
   "source": [
    "dir_name = '/Users/costa/Desktop/BTSync/DATA/RBP/'"
   ]
  },
  {
   "cell_type": "code",
   "execution_count": 8,
   "metadata": {
    "collapsed": false,
    "scrolled": true
   },
   "outputs": [
    {
     "name": "stdout",
     "output_type": "stream",
     "text": [
      "AARS-human_K562_ENCSR825SVO_rep1_unique_ids_extlr60_context0.fa\r\n",
      "AARS-human_K562_ENCSR825SVO_rep2_unique_ids_extlr60_context0.fa\r\n",
      "AGGF1-human_HepG2_ENCSR543TPH_rep1_unique_ids_extlr60_context0.fa\r\n",
      "AGGF1-human_HepG2_ENCSR543TPH_rep2_unique_ids_extlr60_context0.fa\r\n",
      "AGGF1-human_K562_ENCSR725ARB_rep1_unique_ids_extlr60_context0.fa\r\n",
      "AGGF1-human_K562_ENCSR725ARB_rep2_unique_ids_extlr60_context0.fa\r\n",
      "AKAP8L-human_K562_ENCSR206RXT_rep1_unique_ids_extlr60_context0.fa\r\n",
      "AKAP8L-human_K562_ENCSR206RXT_rep2_unique_ids_extlr60_context0.fa\r\n",
      "AUH-human_HepG2_ENCSR334QFR_rep1_unique_ids_extlr60_context0.fa\r\n",
      "AUH-human_HepG2_ENCSR334QFR_rep2_unique_ids_extlr60_context0.fa\r\n",
      "AUH-human_K562_ENCSR541QHS_rep1_unique_ids_extlr60_context0.fa\r\n",
      "AUH-human_K562_ENCSR541QHS_rep2_unique_ids_extlr60_context0.fa\r\n",
      "BCCIP-human_HepG2_ENCSR485QCG_rep1_unique_ids_extlr60_context0.fa\r\n",
      "BCCIP-human_HepG2_ENCSR485QCG_rep2_unique_ids_extlr60_context0.fa\r\n",
      "BUD13-human_HepG2_ENCSR830BSQ_rep1_unique_ids_extlr60_context0.fa\r\n",
      "BUD13-human_HepG2_ENCSR830BSQ_rep2_unique_ids_extlr60_context0.fa\r\n",
      "BUD13-human_K562_ENCSR663WES_rep1_unique_ids_extlr60_context0.fa\r\n",
      "BUD13-human_K562_ENCSR663WES_rep2_unique_ids_extlr60_context0.fa\r\n",
      "CPSF6-human_K562_ENCSR532VUB_rep1_unique_ids_extlr60_context0.fa\r\n",
      "CPSF6-human_K562_ENCSR532VUB_rep2_unique_ids_extlr60_context0.fa\r\n",
      "CSTF2T-human_HepG2_ENCSR919HSE_rep1_unique_ids_extlr60_context0.fa\r\n",
      "CSTF2T-human_HepG2_ENCSR919HSE_rep2_unique_ids_extlr60_context0.fa\r\n",
      "CSTF2T-human_K562_ENCSR840DRD_rep1_unique_ids_extlr60_context0.fa\r\n",
      "CSTF2T-human_K562_ENCSR840DRD_rep2_unique_ids_extlr60_context0.fa\r\n",
      "DDX24-human_K562_ENCSR999WKT_rep1_unique_ids_extlr60_context0.fa\r\n",
      "DDX24-human_K562_ENCSR999WKT_rep2_unique_ids_extlr60_context0.fa\r\n",
      "DDX3X-human_HepG2_ENCSR648LAH_rep1_unique_ids_extlr60_context0.fa\r\n",
      "DDX3X-human_HepG2_ENCSR648LAH_rep2_unique_ids_extlr60_context0.fa\r\n",
      "DDX3X-human_K562_ENCSR930BZL_rep1_unique_ids_extlr60_context0.fa\r\n",
      "DDX3X-human_K562_ENCSR930BZL_rep2_unique_ids_extlr60_context0.fa\r\n",
      "DDX42-human_K562_ENCSR576SHT_rep1_unique_ids_extlr60_context0.fa\r\n",
      "DDX42-human_K562_ENCSR576SHT_rep2_unique_ids_extlr60_context0.fa\r\n",
      "DDX55-human_HepG2_ENCSR845VGB_rep1_unique_ids_extlr60_context0.fa\r\n",
      "DDX55-human_HepG2_ENCSR845VGB_rep2_unique_ids_extlr60_context0.fa\r\n",
      "DDX55-human_K562_ENCSR923NKN_rep1_unique_ids_extlr60_context0.fa\r\n",
      "DDX55-human_K562_ENCSR923NKN_rep2_unique_ids_extlr60_context0.fa\r\n",
      "DDX6-human_HepG2_ENCSR141OIM_rep1_unique_ids_extlr60_context0.fa\r\n",
      "DDX6-human_HepG2_ENCSR141OIM_rep2_unique_ids_extlr60_context0.fa\r\n",
      "DDX6-human_K562_ENCSR893EFU_rep1_unique_ids_extlr60_context0.fa\r\n",
      "DDX6-human_K562_ENCSR893EFU_rep2_unique_ids_extlr60_context0.fa\r\n",
      "DGCR8-human_K562_ENCSR947JVR_rep1_unique_ids_extlr60_context0.fa\r\n",
      "DGCR8-human_K562_ENCSR947JVR_rep2_unique_ids_extlr60_context0.fa\r\n",
      "DKC1-human_HepG2_ENCSR301TFY_rep1_unique_ids_extlr60_context0.fa\r\n",
      "DKC1-human_HepG2_ENCSR301TFY_rep2_unique_ids_extlr60_context0.fa\r\n",
      "DROSHA-human_K562_ENCSR653HQC_rep1_unique_ids_extlr60_context0.fa\r\n",
      "DROSHA-human_K562_ENCSR653HQC_rep2_unique_ids_extlr60_context0.fa\r\n",
      "EFTUD2-human_HepG2_ENCSR527DXF_rep1_unique_ids_extlr60_context0.fa\r\n",
      "EFTUD2-human_HepG2_ENCSR527DXF_rep2_unique_ids_extlr60_context0.fa\r\n",
      "EFTUD2-human_K562_ENCSR844RVX_rep1_unique_ids_extlr60_context0.fa\r\n",
      "EFTUD2-human_K562_ENCSR844RVX_rep2_unique_ids_extlr60_context0.fa\r\n",
      "EIF3D-human_HepG2_ENCSR041NUV_rep1_unique_ids_extlr60_context0.fa\r\n",
      "EIF3D-human_HepG2_ENCSR041NUV_rep2_unique_ids_extlr60_context0.fa\r\n",
      "EIF4G2-human_K562_ENCSR307YIW_rep1_unique_ids_extlr60_context0.fa\r\n",
      "EIF4G2-human_K562_ENCSR307YIW_rep2_unique_ids_extlr60_context0.fa\r\n",
      "EWSR1-human_K562_ENCSR887LPK_rep1_unique_ids_extlr60_context0.fa\r\n",
      "EWSR1-human_K562_ENCSR887LPK_rep2_unique_ids_extlr60_context0.fa\r\n",
      "FAM120A-human_HepG2_ENCSR987NYS_rep1_unique_ids_extlr60_context0.fa\r\n",
      "FAM120A-human_HepG2_ENCSR987NYS_rep2_unique_ids_extlr60_context0.fa\r\n",
      "FAM120A-human_K562_ENCSR006OEQ_rep1_unique_ids_extlr60_context0.fa\r\n",
      "FAM120A-human_K562_ENCSR006OEQ_rep2_unique_ids_extlr60_context0.fa\r\n",
      "FASTKD2-human_K562_ENCSR887FHF_rep1_unique_ids_extlr60_context0.fa\r\n",
      "FASTKD2-human_K562_ENCSR887FHF_rep2_unique_ids_extlr60_context0.fa\r\n",
      "FKBP4-human_HepG2_ENCSR018ZUE_rep1_unique_ids_extlr60_context0.fa\r\n",
      "FKBP4-human_HepG2_ENCSR018ZUE_rep2_unique_ids_extlr60_context0.fa\r\n",
      "FMR1-human_K562_ENCSR331VNX_rep1_unique_ids_extlr60_context0.fa\r\n",
      "FMR1-human_K562_ENCSR331VNX_rep2_unique_ids_extlr60_context0.fa\r\n",
      "FXR1-human_K562_ENCSR774RFN_rep1_unique_ids_extlr60_context0.fa\r\n",
      "FXR1-human_K562_ENCSR774RFN_rep2_unique_ids_extlr60_context0.fa\r\n",
      "FXR2-human_K562_ENCSR224QWC_rep1_unique_ids_extlr60_context0.fa\r\n",
      "FXR2-human_K562_ENCSR224QWC_rep2_unique_ids_extlr60_context0.fa\r\n",
      "GNL3-human_K562_ENCSR301UQM_rep1_unique_ids_extlr60_context0.fa\r\n",
      "GNL3-human_K562_ENCSR301UQM_rep2_unique_ids_extlr60_context0.fa\r\n",
      "GRSF1-human_HepG2_ENCSR668MJX_rep1_unique_ids_extlr60_context0.fa\r\n",
      "GRSF1-human_HepG2_ENCSR668MJX_rep2_unique_ids_extlr60_context0.fa\r\n",
      "GRWD1-human_HepG2_ENCSR893NWB_rep1_unique_ids_extlr60_context0.fa\r\n",
      "GRWD1-human_HepG2_ENCSR893NWB_rep2_unique_ids_extlr60_context0.fa\r\n",
      "GTF2F1-human_HepG2_ENCSR265ZIS_rep1_unique_ids_extlr60_context0.fa\r\n",
      "GTF2F1-human_HepG2_ENCSR265ZIS_rep2_unique_ids_extlr60_context0.fa\r\n",
      "GTF2F1-human_K562_ENCSR736AAG_rep1_unique_ids_extlr60_context0.fa\r\n",
      "GTF2F1-human_K562_ENCSR736AAG_rep2_unique_ids_extlr60_context0.fa\r\n",
      "HLTF-human_K562_ENCSR589YHM_rep1_unique_ids_extlr60_context0.fa\r\n",
      "HLTF-human_K562_ENCSR589YHM_rep2_unique_ids_extlr60_context0.fa\r\n",
      "HNRNPA1-human_HepG2_ENCSR769UEW_rep1_unique_ids_extlr60_context0.fa\r\n",
      "HNRNPA1-human_HepG2_ENCSR769UEW_rep2_unique_ids_extlr60_context0.fa\r\n",
      "HNRNPA1-human_K562_ENCSR154HRN_rep1_unique_ids_extlr60_context0.fa\r\n",
      "HNRNPA1-human_K562_ENCSR154HRN_rep2_unique_ids_extlr60_context0.fa\r\n",
      "HNRNPC-human_HepG2_ENCSR550DVK_rep1_unique_ids_extlr60_context0.fa\r\n",
      "HNRNPC-human_HepG2_ENCSR550DVK_rep2_unique_ids_extlr60_context0.fa\r\n",
      "HNRNPK-human_HepG2_ENCSR828ZID_rep1_unique_ids_extlr60_context0.fa\r\n",
      "HNRNPK-human_HepG2_ENCSR828ZID_rep2_unique_ids_extlr60_context0.fa\r\n",
      "HNRNPK-human_K562_ENCSR268ETU_rep1_unique_ids_extlr60_context0.fa\r\n",
      "HNRNPK-human_K562_ENCSR268ETU_rep2_unique_ids_extlr60_context0.fa\r\n",
      "HNRNPM-human_HepG2_ENCSR267UCX_rep1_unique_ids_extlr60_context0.fa\r\n",
      "HNRNPM-human_HepG2_ENCSR267UCX_rep2_unique_ids_extlr60_context0.fa\r\n",
      "HNRNPM-human_K562_ENCSR412NOW_rep1_unique_ids_extlr60_context0.fa\r\n",
      "HNRNPM-human_K562_ENCSR412NOW_rep2_unique_ids_extlr60_context0.fa\r\n",
      "HNRNPU-human_HepG2_ENCSR240MVJ_rep1_unique_ids_extlr60_context0.fa\r\n",
      "HNRNPU-human_HepG2_ENCSR240MVJ_rep2_unique_ids_extlr60_context0.fa\r\n",
      "HNRNPU-human_K562_ENCSR520BZQ_rep1_unique_ids_extlr60_context0.fa\r\n",
      "HNRNPU-human_K562_ENCSR520BZQ_rep2_unique_ids_extlr60_context0.fa\r\n",
      "HNRNPUL1-human_HepG2_ENCSR755TJC_rep1_unique_ids_extlr60_context0.fa\r\n",
      "HNRNPUL1-human_HepG2_ENCSR755TJC_rep2_unique_ids_extlr60_context0.fa\r\n",
      "HNRNPUL1-human_K562_ENCSR571VHI_rep1_unique_ids_extlr60_context0.fa\r\n",
      "HNRNPUL1-human_K562_ENCSR571VHI_rep2_unique_ids_extlr60_context0.fa\r\n",
      "IGF2BP1-human_HepG2_ENCSR744GEU_rep1_unique_ids_extlr60_context0.fa\r\n",
      "IGF2BP1-human_HepG2_ENCSR744GEU_rep2_unique_ids_extlr60_context0.fa\r\n",
      "IGF2BP1-human_K562_ENCSR975KIR_rep1_unique_ids_extlr60_context0.fa\r\n",
      "IGF2BP1-human_K562_ENCSR975KIR_rep2_unique_ids_extlr60_context0.fa\r\n",
      "IGF2BP2-human_K562_ENCSR062NNB_rep1_unique_ids_extlr60_context0.fa\r\n",
      "IGF2BP2-human_K562_ENCSR062NNB_rep2_unique_ids_extlr60_context0.fa\r\n",
      "IGF2BP3-human_HepG2_ENCSR993OLA_rep1_unique_ids_extlr60_context0.fa\r\n",
      "IGF2BP3-human_HepG2_ENCSR993OLA_rep2_unique_ids_extlr60_context0.fa\r\n",
      "ILF3-human_K562_ENCSR438KWZ_rep1_unique_ids_extlr60_context0.fa\r\n",
      "ILF3-human_K562_ENCSR438KWZ_rep2_unique_ids_extlr60_context0.fa\r\n",
      "KHDRBS1-human_K562_ENCSR628IDK_rep1_unique_ids_extlr60_context0.fa\r\n",
      "KHDRBS1-human_K562_ENCSR628IDK_rep2_unique_ids_extlr60_context0.fa\r\n",
      "KHSRP-human_K562_ENCSR438GZQ_rep1_unique_ids_extlr60_context0.fa\r\n",
      "KHSRP-human_K562_ENCSR438GZQ_rep2_unique_ids_extlr60_context0.fa\r\n",
      "LARP4-human_HepG2_ENCSR805SRN_rep1_unique_ids_extlr60_context0.fa\r\n",
      "LARP4-human_HepG2_ENCSR805SRN_rep2_unique_ids_extlr60_context0.fa\r\n",
      "LARP4-human_K562_ENCSR888YTT_rep1_unique_ids_extlr60_context0.fa\r\n",
      "LARP4-human_K562_ENCSR888YTT_rep2_unique_ids_extlr60_context0.fa\r\n",
      "LARP7-human_HepG2_ENCSR961OKA_rep1_unique_ids_extlr60_context0.fa\r\n",
      "LARP7-human_HepG2_ENCSR961OKA_rep2_unique_ids_extlr60_context0.fa\r\n",
      "LARP7-human_K562_ENCSR456KXI_rep1_unique_ids_extlr60_context0.fa\r\n",
      "LARP7-human_K562_ENCSR456KXI_rep2_unique_ids_extlr60_context0.fa\r\n",
      "LIN28B-human_HepG2_ENCSR861GYE_rep1_unique_ids_extlr60_context0.fa\r\n",
      "LIN28B-human_HepG2_ENCSR861GYE_rep2_unique_ids_extlr60_context0.fa\r\n",
      "LIN28B-human_K562_ENCSR970NKP_rep1_unique_ids_extlr60_context0.fa\r\n",
      "LIN28B-human_K562_ENCSR970NKP_rep2_unique_ids_extlr60_context0.fa\r\n",
      "LSM11-human_HepG2_ENCSR135VMS_rep1_unique_ids_extlr60_context0.fa\r\n",
      "LSM11-human_HepG2_ENCSR135VMS_rep2_unique_ids_extlr60_context0.fa\r\n",
      "LSM11-human_K562_ENCSR022BVV_rep1_unique_ids_extlr60_context0.fa\r\n",
      "LSM11-human_K562_ENCSR022BVV_rep2_unique_ids_extlr60_context0.fa\r\n",
      "METAP2-human_K562_ENCSR303OQD_rep1_unique_ids_extlr60_context0.fa\r\n",
      "METAP2-human_K562_ENCSR303OQD_rep2_unique_ids_extlr60_context0.fa\r\n",
      "MTPAP-human_K562_ENCSR200DKE_rep1_unique_ids_extlr60_context0.fa\r\n",
      "MTPAP-human_K562_ENCSR200DKE_rep2_unique_ids_extlr60_context0.fa\r\n",
      "NCBP2-human_HepG2_ENCSR018RVZ_rep1_unique_ids_extlr60_context0.fa\r\n",
      "NCBP2-human_HepG2_ENCSR018RVZ_rep2_unique_ids_extlr60_context0.fa\r\n",
      "NCBP2-human_K562_ENCSR484LTQ_rep1_unique_ids_extlr60_context0.fa\r\n",
      "NCBP2-human_K562_ENCSR484LTQ_rep2_unique_ids_extlr60_context0.fa\r\n",
      "NKRF-human_HepG2_ENCSR277DEO_rep1_unique_ids_extlr60_context0.fa\r\n",
      "NKRF-human_HepG2_ENCSR277DEO_rep2_unique_ids_extlr60_context0.fa\r\n",
      "NOL12-human_HepG2_ENCSR820DQJ_rep1_unique_ids_extlr60_context0.fa\r\n",
      "NOL12-human_HepG2_ENCSR820DQJ_rep2_unique_ids_extlr60_context0.fa\r\n",
      "NONO-human_K562_ENCSR861PAR_rep1_unique_ids_extlr60_context0.fa\r\n",
      "NONO-human_K562_ENCSR861PAR_rep2_unique_ids_extlr60_context0.fa\r\n",
      "NPM1-human_K562_ENCSR867DSZ_rep1_unique_ids_extlr60_context0.fa\r\n",
      "NPM1-human_K562_ENCSR867DSZ_rep2_unique_ids_extlr60_context0.fa\r\n",
      "PCBP2-human_HepG2_ENCSR339FUY_rep1_unique_ids_extlr60_context0.fa\r\n",
      "PCBP2-human_HepG2_ENCSR339FUY_rep2_unique_ids_extlr60_context0.fa\r\n",
      "PPIG-human_HepG2_ENCSR097NEE_rep1_unique_ids_extlr60_context0.fa\r\n",
      "PPIG-human_HepG2_ENCSR097NEE_rep2_unique_ids_extlr60_context0.fa\r\n",
      "PPIL4-human_K562_ENCSR197INS_rep1_unique_ids_extlr60_context0.fa\r\n",
      "PPIL4-human_K562_ENCSR197INS_rep2_unique_ids_extlr60_context0.fa\r\n",
      "PRPF8-human_HepG2_ENCSR121NVA_rep1_unique_ids_extlr60_context0.fa\r\n",
      "PRPF8-human_HepG2_ENCSR121NVA_rep2_unique_ids_extlr60_context0.fa\r\n",
      "PRPF8-human_K562_ENCSR534YOI_rep1_unique_ids_extlr60_context0.fa\r\n",
      "PRPF8-human_K562_ENCSR534YOI_rep2_unique_ids_extlr60_context0.fa\r\n",
      "PTBP1-human_K562_ENCSR981WKN_rep1_unique_ids_extlr60_context0.fa\r\n",
      "PTBP1-human_K562_ENCSR981WKN_rep2_unique_ids_extlr60_context0.fa\r\n",
      "PUM2-human_K562_ENCSR661ICQ_rep1_unique_ids_extlr60_context0.fa\r\n",
      "PUM2-human_K562_ENCSR661ICQ_rep2_unique_ids_extlr60_context0.fa\r\n",
      "QKI-human_HepG2_ENCSR570WLM_rep1_unique_ids_extlr60_context0.fa\r\n",
      "QKI-human_HepG2_ENCSR570WLM_rep2_unique_ids_extlr60_context0.fa\r\n",
      "QKI-human_K562_ENCSR366YOG_rep1_unique_ids_extlr60_context0.fa\r\n",
      "QKI-human_K562_ENCSR366YOG_rep2_unique_ids_extlr60_context0.fa\r\n",
      "RBFOX2-human_HepG2_ENCSR987FTF_rep1_unique_ids_extlr60_context0.fa\r\n",
      "RBFOX2-human_HepG2_ENCSR987FTF_rep2_unique_ids_extlr60_context0.fa\r\n",
      "RBM15-human_HepG2_ENCSR754NDA_rep1_unique_ids_extlr60_context0.fa\r\n",
      "RBM15-human_HepG2_ENCSR754NDA_rep2_unique_ids_extlr60_context0.fa\r\n",
      "RBM15-human_K562_ENCSR196INN_rep1_unique_ids_extlr60_context0.fa\r\n",
      "RBM15-human_K562_ENCSR196INN_rep2_unique_ids_extlr60_context0.fa\r\n",
      "RBM22-human_HepG2_ENCSR456JJQ_rep1_unique_ids_extlr60_context0.fa\r\n",
      "RBM22-human_HepG2_ENCSR456JJQ_rep2_unique_ids_extlr60_context0.fa\r\n",
      "RBM22-human_K562_ENCSR295OKT_rep1_unique_ids_extlr60_context0.fa\r\n",
      "RBM22-human_K562_ENCSR295OKT_rep2_unique_ids_extlr60_context0.fa\r\n",
      "RBM27-human_K562_ENCSR489RJI_rep1_unique_ids_extlr60_context0.fa\r\n",
      "RBM27-human_K562_ENCSR489RJI_rep2_unique_ids_extlr60_context0.fa\r\n",
      "RPS11-human_K562_ENCSR269AJF_rep1_unique_ids_extlr60_context0.fa\r\n",
      "RPS11-human_K562_ENCSR269AJF_rep2_unique_ids_extlr60_context0.fa\r\n",
      "RPS5-human_K562_ENCSR316SZJ_rep1_unique_ids_extlr60_context0.fa\r\n",
      "RPS5-human_K562_ENCSR316SZJ_rep2_unique_ids_extlr60_context0.fa\r\n",
      "SAFB2-human_K562_ENCSR943MHU_rep1_unique_ids_extlr60_context0.fa\r\n",
      "SAFB2-human_K562_ENCSR943MHU_rep2_unique_ids_extlr60_context0.fa\r\n",
      "SBDS-human_K562_ENCSR059CWF_rep1_unique_ids_extlr60_context0.fa\r\n",
      "SBDS-human_K562_ENCSR059CWF_rep2_unique_ids_extlr60_context0.fa\r\n",
      "SF3A3-human_HepG2_ENCSR331MIC_rep1_unique_ids_extlr60_context0.fa\r\n",
      "SF3A3-human_HepG2_ENCSR331MIC_rep2_unique_ids_extlr60_context0.fa\r\n",
      "SF3B4-human_HepG2_ENCSR279UJF_rep1_unique_ids_extlr60_context0.fa\r\n",
      "SF3B4-human_HepG2_ENCSR279UJF_rep2_unique_ids_extlr60_context0.fa\r\n",
      "SF3B4-human_K562_ENCSR267OLV_rep1_unique_ids_extlr60_context0.fa\r\n",
      "SF3B4-human_K562_ENCSR267OLV_rep2_unique_ids_extlr60_context0.fa\r\n",
      "SFPQ-human_HepG2_ENCSR965DLL_rep1_unique_ids_extlr60_context0.fa\r\n",
      "SFPQ-human_HepG2_ENCSR965DLL_rep2_unique_ids_extlr60_context0.fa\r\n",
      "SLBP-human_K562_ENCSR483NOP_rep1_unique_ids_extlr60_context0.fa\r\n",
      "SLBP-human_K562_ENCSR483NOP_rep2_unique_ids_extlr60_context0.fa\r\n",
      "SLTM-human_HepG2_ENCSR351PVI_rep1_unique_ids_extlr60_context0.fa\r\n",
      "SLTM-human_HepG2_ENCSR351PVI_rep2_unique_ids_extlr60_context0.fa\r\n",
      "SLTM-human_K562_ENCSR000SSH_rep1_unique_ids_extlr60_context0.fa\r\n",
      "SLTM-human_K562_ENCSR000SSH_rep2_unique_ids_extlr60_context0.fa\r\n",
      "SMNDC1-human_HepG2_ENCSR373ODC_rep1_unique_ids_extlr60_context0.fa\r\n",
      "SMNDC1-human_HepG2_ENCSR373ODC_rep2_unique_ids_extlr60_context0.fa\r\n",
      "SMNDC1-human_K562_ENCSR658IQB_rep1_unique_ids_extlr60_context0.fa\r\n",
      "SMNDC1-human_K562_ENCSR658IQB_rep2_unique_ids_extlr60_context0.fa\r\n",
      "SND1-human_HepG2_ENCSR061EVO_rep1_unique_ids_extlr60_context0.fa\r\n",
      "SND1-human_HepG2_ENCSR061EVO_rep2_unique_ids_extlr60_context0.fa\r\n",
      "SND1-human_K562_ENCSR128VXC_rep1_unique_ids_extlr60_context0.fa\r\n",
      "SND1-human_K562_ENCSR128VXC_rep2_unique_ids_extlr60_context0.fa\r\n",
      "SRSF1-human_HepG2_ENCSR989VIY_rep1_unique_ids_extlr60_context0.fa\r\n",
      "SRSF1-human_HepG2_ENCSR989VIY_rep2_unique_ids_extlr60_context0.fa\r\n",
      "SRSF1-human_K562_ENCSR432XUP_rep1_unique_ids_extlr60_context0.fa\r\n",
      "SRSF1-human_K562_ENCSR432XUP_rep2_unique_ids_extlr60_context0.fa\r\n",
      "SRSF7-human_HepG2_ENCSR513NDD_rep1_unique_ids_extlr60_context0.fa\r\n",
      "SRSF7-human_HepG2_ENCSR513NDD_rep2_unique_ids_extlr60_context0.fa\r\n",
      "SRSF7-human_K562_ENCSR468FSW_rep1_unique_ids_extlr60_context0.fa\r\n",
      "SRSF7-human_K562_ENCSR468FSW_rep2_unique_ids_extlr60_context0.fa\r\n",
      "SRSF9-human_HepG2_ENCSR773KRC_rep1_unique_ids_extlr60_context0.fa\r\n",
      "SRSF9-human_HepG2_ENCSR773KRC_rep2_unique_ids_extlr60_context0.fa\r\n",
      "TAF15-human_HepG2_ENCSR841EQA_rep1_unique_ids_extlr60_context0.fa\r\n",
      "TAF15-human_HepG2_ENCSR841EQA_rep2_unique_ids_extlr60_context0.fa\r\n",
      "TAF15-human_K562_ENCSR568DZW_rep1_unique_ids_extlr60_context0.fa\r\n",
      "TAF15-human_K562_ENCSR568DZW_rep2_unique_ids_extlr60_context0.fa\r\n",
      "TARDBP-human_K562_ENCSR584TCR_rep1_unique_ids_extlr60_context0.fa\r\n",
      "TARDBP-human_K562_ENCSR584TCR_rep2_unique_ids_extlr60_context0.fa\r\n",
      "TBRG4-human_HepG2_ENCSR916SRV_rep1_unique_ids_extlr60_context0.fa\r\n",
      "TBRG4-human_HepG2_ENCSR916SRV_rep2_unique_ids_extlr60_context0.fa\r\n",
      "TBRG4-human_K562_ENCSR506OTC_rep1_unique_ids_extlr60_context0.fa\r\n",
      "TBRG4-human_K562_ENCSR506OTC_rep2_unique_ids_extlr60_context0.fa\r\n",
      "TIA1-human_HepG2_ENCSR623VEQ_rep1_unique_ids_extlr60_context0.fa\r\n",
      "TIA1-human_HepG2_ENCSR623VEQ_rep2_unique_ids_extlr60_context0.fa\r\n",
      "TNRC6A-human_K562_ENCSR218NAB_rep1_unique_ids_extlr60_context0.fa\r\n",
      "TNRC6A-human_K562_ENCSR218NAB_rep2_unique_ids_extlr60_context0.fa\r\n",
      "TRA2A-human_HepG2_ENCSR314UMJ_rep1_unique_ids_extlr60_context0.fa\r\n",
      "TRA2A-human_HepG2_ENCSR314UMJ_rep2_unique_ids_extlr60_context0.fa\r\n",
      "TRA2A-human_K562_ENCSR365NVO_rep1_unique_ids_extlr60_context0.fa\r\n",
      "TRA2A-human_K562_ENCSR365NVO_rep2_unique_ids_extlr60_context0.fa\r\n",
      "TROVE2-human_HepG2_ENCSR993FMY_rep1_unique_ids_extlr60_context0.fa\r\n",
      "TROVE2-human_HepG2_ENCSR993FMY_rep2_unique_ids_extlr60_context0.fa\r\n",
      "TROVE2-human_K562_ENCSR539ZTS_rep1_unique_ids_extlr60_context0.fa\r\n",
      "TROVE2-human_K562_ENCSR539ZTS_rep2_unique_ids_extlr60_context0.fa\r\n",
      "U2AF1-human_HepG2_ENCSR328LLU_rep1_unique_ids_extlr60_context0.fa\r\n",
      "U2AF1-human_HepG2_ENCSR328LLU_rep2_unique_ids_extlr60_context0.fa\r\n",
      "U2AF1-human_K562_ENCSR862QCH_rep1_unique_ids_extlr60_context0.fa\r\n",
      "U2AF1-human_K562_ENCSR862QCH_rep2_unique_ids_extlr60_context0.fa\r\n",
      "U2AF2-human_HepG2_ENCSR202BFN_rep1_unique_ids_extlr60_context0.fa\r\n",
      "U2AF2-human_HepG2_ENCSR202BFN_rep2_unique_ids_extlr60_context0.fa\r\n",
      "U2AF2-human_K562_ENCSR893RAV_rep1_unique_ids_extlr60_context0.fa\r\n",
      "U2AF2-human_K562_ENCSR893RAV_rep2_unique_ids_extlr60_context0.fa\r\n",
      "UCHL5-human_HepG2_ENCSR490IEE_rep1_unique_ids_extlr60_context0.fa\r\n",
      "UCHL5-human_HepG2_ENCSR490IEE_rep2_unique_ids_extlr60_context0.fa\r\n",
      "UPF1-human_K562_ENCSR456ASB_rep1_unique_ids_extlr60_context0.fa\r\n",
      "UPF1-human_K562_ENCSR456ASB_rep2_unique_ids_extlr60_context0.fa\r\n",
      "XRCC6-human_K562_ENCSR258QKO_rep1_unique_ids_extlr60_context0.fa\r\n",
      "XRCC6-human_K562_ENCSR258QKO_rep2_unique_ids_extlr60_context0.fa\r\n",
      "XRN2-human_HepG2_ENCSR655NZA_rep1_unique_ids_extlr60_context0.fa\r\n",
      "XRN2-human_HepG2_ENCSR655NZA_rep2_unique_ids_extlr60_context0.fa\r\n",
      "XRN2-human_K562_ENCSR657TZB_rep1_unique_ids_extlr60_context0.fa\r\n",
      "XRN2-human_K562_ENCSR657TZB_rep2_unique_ids_extlr60_context0.fa\r\n",
      "YBX3-human_K562_ENCSR529FKI_rep1_unique_ids_extlr60_context0.fa\r\n",
      "YBX3-human_K562_ENCSR529FKI_rep2_unique_ids_extlr60_context0.fa\r\n",
      "YWHAG-human_K562_ENCSR867ZVK_rep1_unique_ids_extlr60_context0.fa\r\n",
      "YWHAG-human_K562_ENCSR867ZVK_rep2_unique_ids_extlr60_context0.fa\r\n",
      "ZNF622-human_K562_ENCSR657TZZ_rep1_unique_ids_extlr60_context0.fa\r\n",
      "ZNF622-human_K562_ENCSR657TZZ_rep2_unique_ids_extlr60_context0.fa\r\n",
      "ZRANB2-human_K562_ENCSR663NRA_rep1_unique_ids_extlr60_context0.fa\r\n",
      "ZRANB2-human_K562_ENCSR663NRA_rep2_unique_ids_extlr60_context0.fa\r\n"
     ]
    }
   ],
   "source": [
    "!ls  $dir_name"
   ]
  },
  {
   "cell_type": "markdown",
   "metadata": {},
   "source": [
    "# SMoD"
   ]
  },
  {
   "cell_type": "code",
   "execution_count": 9,
   "metadata": {
    "collapsed": true
   },
   "outputs": [],
   "source": [
    "# good ones\n",
    "name = 'HNRNPC-human_HepG2_ENCSR550DVK_rep1_unique_ids_extlr60_context0.fa'\n",
    "name = 'HNRNPK-human_HepG2_ENCSR828ZID_rep1_unique_ids_extlr60_context0.fa'\n",
    "name = 'KHDRBS1-human_K562_ENCSR628IDK_rep1_unique_ids_extlr60_context0.fa'\n",
    "name = 'HNRNPA1-human_HepG2_ENCSR769UEW_rep1_unique_ids_extlr60_context0.fa'\n",
    "name = 'PCBP2-human_HepG2_ENCSR339FUY_rep2_unique_ids_extlr60_context0.fa' #**\n",
    "name = 'LIN28B-human_K562_ENCSR970NKP_rep2_unique_ids_extlr60_context0.fa'\n",
    "name = 'GTF2F1-human_HepG2_ENCSR265ZIS_rep1_unique_ids_extlr60_context0.fa'\n",
    "name = 'U2AF2-human_HepG2_ENCSR202BFN_rep1_unique_ids_extlr60_context0.fa'\n",
    "name = 'QKI-human_HepG2_ENCSR570WLM_rep1_unique_ids_extlr60_context0.fa' #**\n",
    "name = 'RBFOX2-human_HepG2_ENCSR987FTF_rep1_unique_ids_extlr60_context0.fa' #**\n",
    "name = 'TAF15-human_HepG2_ENCSR841EQA_rep1_unique_ids_extlr60_context0.fa'\n",
    "name = 'TARDBP-human_K562_ENCSR584TCR_rep1_unique_ids_extlr60_context0.fa' #***\n",
    "name = 'U2AF2-human_K562_ENCSR893RAV_rep1_unique_ids_extlr60_context0.fa'\n",
    "pos_fname = dir_name+name"
   ]
  },
  {
   "cell_type": "code",
   "execution_count": 10,
   "metadata": {
    "collapsed": false
   },
   "outputs": [],
   "source": [
    "name = 'IGF2BP3-human_HepG2_ENCSR993OLA_rep1_unique_ids_extlr60_context0.fa'\n",
    "name = 'FMR1-human_K562_ENCSR331VNX_rep1_unique_ids_extlr60_context0.fa' #bad\n",
    "name = 'RBM15-human_HepG2_ENCSR754NDA_rep1_unique_ids_extlr60_context0.fa'#?\n",
    "name = 'TIA1-human_HepG2_ENCSR623VEQ_rep1_unique_ids_extlr60_context0.fa'\n",
    "name = 'XRCC6-human_K562_ENCSR258QKO_rep1_unique_ids_extlr60_context0.fa'\n",
    "name = 'ZRANB2-human_K562_ENCSR663NRA_rep2_unique_ids_extlr60_context0.fa'\n",
    "name = 'ZNF622-human_K562_ENCSR657TZZ_rep2_unique_ids_extlr60_context0.fa'\n",
    "name = 'YWHAG-human_K562_ENCSR867ZVK_rep2_unique_ids_extlr60_context0.fa'\n",
    "name = 'YBX3-human_K562_ENCSR529FKI_rep2_unique_ids_extlr60_context0.fa'\n",
    "name = 'TARDBP-human_K562_ENCSR584TCR_rep1_unique_ids_extlr60_context0.fa' #***\n",
    "\n",
    "\n",
    "pos_fname = dir_name+name"
   ]
  },
  {
   "cell_type": "code",
   "execution_count": 11,
   "metadata": {
    "collapsed": true
   },
   "outputs": [],
   "source": [
    "complexity=5 #feature resolution\n",
    "n_clusters=20 # maximal num of motives; tradeoff: if high -> small omogenous motives, if low -> few mixed motives\n",
    "min_subarray_size = 5\n",
    "max_subarray_size = 10\n",
    "# merging parameters\n",
    "similarity_th=0.5\n",
    "min_score=5\n",
    "min_freq=0.6\n",
    "min_cluster_size=10\n",
    "sample_size=400\n",
    "#filtering parameters\n",
    "display_th = 0.035 # minimum frequency of a consensus regex to be displayed\n",
    "regex_th=0.25 # minimum frequency of a nt to be included in the consensus regex \n",
    "th_std = 25 # maximum std of localization of consensus regex within the sequence"
   ]
  },
  {
   "cell_type": "code",
   "execution_count": 12,
   "metadata": {
    "collapsed": false
   },
   "outputs": [
    {
     "name": "stdout",
     "output_type": "stream",
     "text": [
      "fold_change_th: 2.0  selected seqs:13173  diff_to_desired: 3173\n",
      "fold_change_th: 2.2  selected seqs:10454  diff_to_desired: 454\n",
      "fold_change_th: 2.5  selected seqs:8563  diff_to_desired: 1437\n",
      "fold_change_th: 2.8  selected seqs:7228  diff_to_desired: 2772\n",
      "fold_change_th: 3.0  selected seqs:5342  diff_to_desired: 4658\n",
      "fold_change_th: 3.2  selected seqs:4060  diff_to_desired: 5940\n",
      "fold_change_th: 3.5  selected seqs:3169  diff_to_desired: 6831\n",
      "fold_change_th: 3.8  selected seqs:2513  diff_to_desired: 7487\n",
      "fold_change_th: 4.0  selected seqs:1909  diff_to_desired: 8091\n",
      "fold_change_th: 4.2  selected seqs:1383  diff_to_desired: 8617\n",
      "fold_change_th: 4.5  selected seqs:1017  diff_to_desired: 8983\n",
      "fold_change_th: 4.8  selected seqs:741  diff_to_desired: 9259\n",
      "fold_change_th: 5.0  selected seqs:541  diff_to_desired: 9459\n",
      "fold_change_th: 5.2  selected seqs:380  diff_to_desired: 9620\n",
      "fold_change_th: 5.5  selected seqs:264  diff_to_desired: 9736\n",
      "Selected threshold 2.2\n"
     ]
    }
   ],
   "source": [
    "desired_size=10000\n",
    "min_diff=desired_size\n",
    "for th in np.linspace(2.0, 5.5, num=15):\n",
    "    from eden.converter.fasta import fasta_to_sequence\n",
    "    pos_seqs = fasta_to_sequence(pos_fname)\n",
    "    pos_seqs = filter_pvalue(pos_seqs,threshold=th)\n",
    "    from eden.util import iterator_size\n",
    "    num = iterator_size(pos_seqs)\n",
    "    diff = abs(num-desired_size)\n",
    "    if diff < min_diff:\n",
    "        min_diff = diff\n",
    "        min_th = th\n",
    "    print 'fold_change_th: %.1f  selected seqs:%.6s  diff_to_desired: %.6s'%(th, num , diff)\n",
    "th = min_th\n",
    "print 'Selected threshold %.1f' % th"
   ]
  },
  {
   "cell_type": "code",
   "execution_count": 13,
   "metadata": {
    "collapsed": false
   },
   "outputs": [
    {
     "name": "stdout",
     "output_type": "stream",
     "text": [
      "CPU times: user 4.88 s, sys: 42.6 ms, total: 4.92 s\n",
      "Wall time: 4.94 s\n"
     ]
    }
   ],
   "source": [
    "%%time\n",
    "from eden.converter.fasta import fasta_to_sequence\n",
    "all_seqs = list(fasta_to_sequence(pos_fname))\n",
    "\n",
    "from eden.converter.fasta import fasta_to_sequence\n",
    "pos_seqs = fasta_to_sequence(pos_fname)\n",
    "pos_seqs = filter_pvalue(pos_seqs,threshold=th)\n",
    "pos_seqs = remap_with_structure(pos_seqs)\n",
    "pos_seqs=list(pos_seqs)\n",
    "\n",
    "#neg_seqs = fasta_to_sequence(neg_fname)\n",
    "from eden.converter.fasta import fasta_to_sequence\n",
    "neg_seqs = fasta_to_sequence(pos_fname)\n",
    "neg_seqs = filter_pvalue(neg_seqs,threshold=th)\n",
    "neg_seqs = remap_with_structure(neg_seqs)\n",
    "from eden.modifier.seq import seq_to_seq, shuffle_modifier\n",
    "neg_seqs = seq_to_seq(neg_seqs, modifier=shuffle_modifier, times=2, order=1)\n",
    "neg_seqs_ord1 = list(neg_seqs)\n",
    "\n",
    "from eden.converter.fasta import fasta_to_sequence\n",
    "neg_seqs = fasta_to_sequence(pos_fname)\n",
    "neg_seqs = filter_pvalue(neg_seqs,threshold=th)\n",
    "neg_seqs = remap_with_structure(neg_seqs)\n",
    "from eden.modifier.seq import seq_to_seq, shuffle_modifier\n",
    "neg_seqs = seq_to_seq(neg_seqs, modifier=shuffle_modifier, times=1, order=2)\n",
    "neg_seqs_ord2 = list(neg_seqs)\n",
    "\n",
    "neg_seqs = neg_seqs_ord1 + neg_seqs_ord2\n",
    "\n",
    "pos_size = len(pos_seqs)\n",
    "train_pos_seqs = pos_seqs[:pos_size/2]\n",
    "test_pos_seqs = pos_seqs[pos_size/2:]\n",
    "\n",
    "neg_size = len(neg_seqs)\n",
    "train_neg_seqs = neg_seqs[:neg_size/2]\n",
    "test_neg_seqs = neg_seqs[neg_size/2:]\n",
    "\n",
    "pos_block_size = pos_size / 16\n",
    "neg_block_size = neg_size / 16"
   ]
  },
  {
   "cell_type": "code",
   "execution_count": 14,
   "metadata": {
    "collapsed": true
   },
   "outputs": [],
   "source": [
    "from eden.sequence_motif_decomposer import SequenceMotifDecomposer as SMoD\n",
    "smod=SMoD(complexity=complexity,\n",
    "          n_clusters=n_clusters,\n",
    "          min_subarray_size=min_subarray_size,\n",
    "          max_subarray_size=max_subarray_size,\n",
    "          pos_block_size=pos_block_size,\n",
    "          neg_block_size=neg_block_size)"
   ]
  },
  {
   "cell_type": "code",
   "execution_count": 15,
   "metadata": {
    "collapsed": false,
    "scrolled": false
   },
   "outputs": [
    {
     "name": "stdout",
     "output_type": "stream",
     "text": [
      "Setup 0.80 secs\n",
      "Fitting\n",
      "0 (653, 32769) (93.27 secs) (delta: 93.27)\n",
      "1 (653, 32769) (93.71 secs) (delta: 0.43)\n",
      "2 (653, 32769) (93.92 secs) (delta: 0.21)\n",
      "3 (653, 32769) (93.95 secs) (delta: 0.04)\n",
      "4 (653, 32769) (94.04 secs) (delta: 0.08)\n",
      "5 (653, 32769) (94.47 secs) (delta: 0.43)\n",
      "6 (653, 32769) (94.50 secs) (delta: 0.03)\n",
      "7 (653, 32769) (94.52 secs) (delta: 0.02)\n",
      "CPU times: user 1.07 s, sys: 541 ms, total: 1.61 s\n",
      "Wall time: 1min 35s\n"
     ]
    }
   ],
   "source": [
    "%%time\n",
    "smod = smod.fit(train_pos_seqs, train_neg_seqs)\n",
    "#smod.performance(test_pos_seqs, test_neg_seqs)"
   ]
  },
  {
   "cell_type": "code",
   "execution_count": 16,
   "metadata": {
    "collapsed": false,
    "scrolled": false
   },
   "outputs": [
    {
     "name": "stdout",
     "output_type": "stream",
     "text": [
      "Setup 0.38 secs\n",
      "Annotating\n",
      "0 (88.26 secs) (delta: 88.26)\n",
      "1 (88.47 secs) (delta: 0.20)\n",
      "2 (88.47 secs) (delta: 0.00)\n",
      "3 (88.47 secs) (delta: 0.00)\n",
      "4 (88.47 secs) (delta: 0.00)\n",
      "5 (88.47 secs) (delta: 0.00)\n",
      "6 (88.54 secs) (delta: 0.07)\n",
      "7 (88.54 secs) (delta: 0.00)\n",
      "Setup 0.32 secs\n",
      "Vectorizing\n",
      "0 (653, 32769) (1.18 secs) (delta: 1.18)\n",
      "1 (653, 32769) (1.33 secs) (delta: 0.15)\n",
      "2 (653, 32769) (1.43 secs) (delta: 0.09)\n",
      "3 (653, 32769) (1.52 secs) (delta: 0.10)\n",
      "4 (653, 32769) (1.62 secs) (delta: 0.10)\n",
      "5 (653, 32769) (1.72 secs) (delta: 0.10)\n",
      "6 (653, 32769) (1.83 secs) (delta: 0.11)\n",
      "7 (653, 32769) (1.93 secs) (delta: 0.10)\n",
      "8 (653, 32769) (2.02 secs) (delta: 0.09)\n",
      "Clustering\n",
      "working on 5877 instances\n",
      "...done  in 0.59 secs\n",
      "CPU times: user 2.34 s, sys: 256 ms, total: 2.6 s\n",
      "Wall time: 1min 32s\n"
     ]
    }
   ],
   "source": [
    "%%time\n",
    "orig_clusters = smod.predict(test_pos_seqs)"
   ]
  },
  {
   "cell_type": "code",
   "execution_count": 17,
   "metadata": {
    "collapsed": false,
    "scrolled": false
   },
   "outputs": [
    {
     "name": "stdout",
     "output_type": "stream",
     "text": [
      "Alignment\n",
      "Cluster 0 (#150) (0.22 secs)\n",
      "Cluster 1 (#328) (0.42 secs)\n",
      "Cluster 2 (#125) (0.09 secs)\n",
      "Cluster 3 (#352) (0.87 secs)\n",
      "Cluster 4 (#207) (0.32 secs)\n",
      "Cluster 5 (#253) (0.44 secs)\n",
      "Cluster 6 (#307) (0.56 secs)\n",
      "Cluster 7 (#252) (0.24 secs)\n",
      "Cluster 10 (#196) (0.26 secs)\n",
      "Cluster 11 (#481) (0.06 secs)\n",
      "Cluster 12 (#986) (0.08 secs)\n",
      "Cluster 13 (#190) (0.25 secs)\n",
      "Cluster 14 (#213) (0.38 secs)\n",
      "Cluster 15 (#314) (0.72 secs)\n",
      "Cluster 16 (#318) (0.73 secs)\n",
      "Cluster 17 (#247) (0.49 secs)\n",
      "Joining: 11 (#481), 16 (#318) score: 1.00 deleting: 16  [11 is now #799]\n",
      "Joining: 7 (#252), 12 (#986) score: 0.86 deleting: 12  [7 is now #1238]\n",
      "Joining: 6 (#307), 7 (#1238) score: 0.86 deleting: 7  [6 is now #1545]\n",
      "Joining: 2 (#125), 14 (#213) score: 0.86 deleting: 14  [2 is now #338]\n",
      "Joining: 1 (#328), 11 (#799) score: 0.84 deleting: 11  [1 is now #1127]\n",
      "Joining: 5 (#253), 10 (#196) score: 0.75 deleting: 10  [5 is now #449]\n",
      "Joining: 4 (#207), 17 (#247) score: 0.75 deleting: 17  [4 is now #454]\n",
      "Joining: 0 (#150), 15 (#314) score: 0.75 deleting: 15  [0 is now #464]\n",
      "Joining: 2 (#338), 5 (#449) score: 0.67 deleting: 5  [2 is now #787]\n",
      "Joining: 2 (#787), 6 (#1545) score: 0.57 deleting: 6  [2 is now #2332]\n",
      "Joining: 1 (#1127), 2 (#2332) score: 0.82 deleting: 2  [1 is now #3459]\n",
      "Joining: 1 (#3459), 4 (#454) score: 0.71 deleting: 4  [1 is now #3913]\n",
      "Joining: 3 (#352), 13 (#190) score: 0.57 deleting: 13  [3 is now #542]\n",
      "# motives: 3\n",
      "CPU times: user 1.07 s, sys: 599 ms, total: 1.67 s\n",
      "Wall time: 11.3 s\n"
     ]
    }
   ],
   "source": [
    "%%time\n",
    "motives = smod.merge(orig_clusters, \n",
    "                     similarity_th=similarity_th,\n",
    "                     min_score=min_score,\n",
    "                     min_freq=min_freq,\n",
    "                     min_cluster_size=min_cluster_size,\n",
    "                     regex_th=regex_th,\n",
    "                     sample_size=sample_size)\n",
    "print '# motives:',len(motives)"
   ]
  },
  {
   "cell_type": "code",
   "execution_count": 18,
   "metadata": {
    "collapsed": false
   },
   "outputs": [
    {
     "name": "stdout",
     "output_type": "stream",
     "text": [
      "# motives: 3\n",
      "CPU times: user 1.22 s, sys: 6.6 ms, total: 1.23 s\n",
      "Wall time: 1.23 s\n"
     ]
    }
   ],
   "source": [
    "%%time\n",
    "motives = smod.quality_filter(all_seqs,\n",
    "                              motives,\n",
    "                              freq_threshold=None, #display_th,\n",
    "                              std_threshold=None) #th_std)    \n",
    "print '# motives:',len(motives)"
   ]
  },
  {
   "cell_type": "code",
   "execution_count": 19,
   "metadata": {
    "collapsed": false,
    "scrolled": false
   },
   "outputs": [
    {
     "name": "stdout",
     "output_type": "stream",
     "text": [
      "Cluster id: 1  (# seqs: 3913) cons: UGUGUGUG  regex: UGUGUGUG\n"
     ]
    },
    {
     "data": {
      "image/png": "[encoded data removed]",
      "text/plain": [
       "<IPython.core.display.Image object>"
      ]
     },
     "metadata": {},
     "output_type": "display_data"
    },
    {
     "name": "stdout",
     "output_type": "stream",
     "text": [
      "# occurrences or regex seq: 7621  freq:0.22\n",
      "loc:37.0 +- 21.0\n"
     ]
    },
    {
     "data": {
      "image/png": "[encoded data removed]",
      "text/plain": [
       "<matplotlib.figure.Figure at 0x10c4f2d10>"
      ]
     },
     "metadata": {},
     "output_type": "display_data"
    },
    {
     "name": "stdout",
     "output_type": "stream",
     "text": [
      "Clust 1 vs clust 0 (# 144)\n"
     ]
    },
    {
     "data": {
      "image/png": "[encoded data removed]",
      "text/plain": [
       "<matplotlib.figure.Figure at 0x10c8f7e50>"
      ]
     },
     "metadata": {},
     "output_type": "display_data"
    },
    {
     "name": "stdout",
     "output_type": "stream",
     "text": [
      "Clust 1 vs clust 3 (# 226)\n"
     ]
    },
    {
     "data": {
      "image/png": "[encoded data removed]",
      "text/plain": [
       "<matplotlib.figure.Figure at 0x10ce78550>"
      ]
     },
     "metadata": {},
     "output_type": "display_data"
    },
    {
     "name": "stdout",
     "output_type": "stream",
     "text": [
      "Cluster id: 0  (# seqs: 464) cons: GAAUGAAU  regex: GAAUGAAU\n"
     ]
    },
    {
     "data": {
      "image/png": "[encoded data removed]",
      "text/plain": [
       "<IPython.core.display.Image object>"
      ]
     },
     "metadata": {},
     "output_type": "display_data"
    },
    {
     "name": "stdout",
     "output_type": "stream",
     "text": [
      "# occurrences or regex seq: 1148  freq:0.03\n",
      "loc:40.0 +- 18.5\n"
     ]
    },
    {
     "data": {
      "image/png": "[encoded data removed]",
      "text/plain": [
       "<matplotlib.figure.Figure at 0x10c8a6050>"
      ]
     },
     "metadata": {},
     "output_type": "display_data"
    },
    {
     "name": "stdout",
     "output_type": "stream",
     "text": [
      "Clust 0 vs clust 1 (# 144)\n"
     ]
    },
    {
     "data": {
      "image/png": "[encoded data removed]",
      "text/plain": [
       "<matplotlib.figure.Figure at 0x10d09c890>"
      ]
     },
     "metadata": {},
     "output_type": "display_data"
    },
    {
     "name": "stdout",
     "output_type": "stream",
     "text": [
      "Clust 0 vs clust 3 (# 35)\n"
     ]
    },
    {
     "data": {
      "image/png": "[encoded data removed]",
      "text/plain": [
       "<matplotlib.figure.Figure at 0x10c85e310>"
      ]
     },
     "metadata": {},
     "output_type": "display_data"
    },
    {
     "name": "stdout",
     "output_type": "stream",
     "text": [
      "Cluster id: 3  (# seqs: 542) cons: CCUGCCUG  regex: (C|G)CUGCCUG\n"
     ]
    },
    {
     "data": {
      "image/png": "[encoded data removed]",
      "text/plain": [
       "<IPython.core.display.Image object>"
      ]
     },
     "metadata": {},
     "output_type": "display_data"
    },
    {
     "name": "stdout",
     "output_type": "stream",
     "text": [
      "# occurrences or regex seq: 323  freq:0.01\n",
      "loc:59.0 +- 60.0\n"
     ]
    },
    {
     "data": {
      "image/png": "[encoded data removed]",
      "text/plain": [
       "<matplotlib.figure.Figure at 0x10e2637d0>"
      ]
     },
     "metadata": {},
     "output_type": "display_data"
    },
    {
     "name": "stdout",
     "output_type": "stream",
     "text": [
      "Clust 3 vs clust 0 (# 35)\n"
     ]
    },
    {
     "data": {
      "image/png": "[encoded data removed]",
      "text/plain": [
       "<matplotlib.figure.Figure at 0x10e2918d0>"
      ]
     },
     "metadata": {},
     "output_type": "display_data"
    },
    {
     "name": "stdout",
     "output_type": "stream",
     "text": [
      "Clust 3 vs clust 1 (# 226)\n"
     ]
    },
    {
     "data": {
      "image/png": "[encoded data removed]",
      "text/plain": [
       "<matplotlib.figure.Figure at 0x10e2992d0>"
      ]
     },
     "metadata": {},
     "output_type": "display_data"
    }
   ],
   "source": [
    "smod.report(all_seqs, motives)"
   ]
  },
  {
   "cell_type": "markdown",
   "metadata": {},
   "source": [
    "---"
   ]
  },
  {
   "cell_type": "code",
   "execution_count": 20,
   "metadata": {
    "collapsed": false,
    "scrolled": true
   },
   "outputs": [
    {
     "ename": "NameError",
     "evalue": "name 'num_occurrences' is not defined",
     "output_type": "error",
     "traceback": [
      "\u001b[0;31m---------------------------------------------------------------------------\u001b[0m",
      "\u001b[0;31mNameError\u001b[0m                                 Traceback (most recent call last)",
      "\u001b[0;32m<ipython-input-20-657213a6e886>\u001b[0m in \u001b[0;36m<module>\u001b[0;34m()\u001b[0m\n\u001b[1;32m     31\u001b[0m \u001b[0;34m\u001b[0m\u001b[0m\n\u001b[1;32m     32\u001b[0m \u001b[0mneedle\u001b[0m \u001b[0;34m=\u001b[0m \u001b[0;34m'CCUGG'\u001b[0m\u001b[0;34m\u001b[0m\u001b[0m\n\u001b[0;32m---> 33\u001b[0;31m \u001b[0mn_occ\u001b[0m \u001b[0;34m=\u001b[0m \u001b[0mnum_occurrences\u001b[0m\u001b[0;34m(\u001b[0m\u001b[0mneedle\u001b[0m\u001b[0;34m,\u001b[0m \u001b[0mall_seqs\u001b[0m\u001b[0;34m)\u001b[0m\u001b[0;34m\u001b[0m\u001b[0m\n\u001b[0m\u001b[1;32m     34\u001b[0m \u001b[0;32mprint\u001b[0m \u001b[0;34m'Exact pattern %s occurs %d times in %d seqs (%.2f)'\u001b[0m \u001b[0;34m%\u001b[0m \u001b[0;34m(\u001b[0m\u001b[0mneedle\u001b[0m\u001b[0;34m,\u001b[0m\u001b[0mn_occ\u001b[0m \u001b[0;34m,\u001b[0m \u001b[0mlen\u001b[0m\u001b[0;34m(\u001b[0m\u001b[0mall_seqs\u001b[0m\u001b[0;34m)\u001b[0m\u001b[0;34m,\u001b[0m \u001b[0mfloat\u001b[0m\u001b[0;34m(\u001b[0m\u001b[0mn_occ\u001b[0m\u001b[0;34m)\u001b[0m\u001b[0;34m/\u001b[0m\u001b[0mlen\u001b[0m\u001b[0;34m(\u001b[0m\u001b[0mall_seqs\u001b[0m\u001b[0;34m)\u001b[0m\u001b[0;34m)\u001b[0m\u001b[0;34m\u001b[0m\u001b[0m\n\u001b[1;32m     35\u001b[0m \u001b[0mplot_location\u001b[0m\u001b[0;34m(\u001b[0m\u001b[0mneedle\u001b[0m\u001b[0;34m,\u001b[0m \u001b[0mall_seqs\u001b[0m\u001b[0;34m,\u001b[0m \u001b[0mnbins\u001b[0m\u001b[0;34m=\u001b[0m\u001b[0;36m40\u001b[0m\u001b[0;34m,\u001b[0m \u001b[0msize\u001b[0m\u001b[0;34m=\u001b[0m\u001b[0;34m(\u001b[0m\u001b[0;36m17\u001b[0m\u001b[0;34m,\u001b[0m\u001b[0;36m2\u001b[0m\u001b[0;34m)\u001b[0m\u001b[0;34m)\u001b[0m\u001b[0;34m\u001b[0m\u001b[0m\n",
      "\u001b[0;31mNameError\u001b[0m: name 'num_occurrences' is not defined"
     ]
    }
   ],
   "source": [
    "###### identify exact occurrence of user defined sequence in pos seqs\n",
    "def col_red(text):\n",
    "    return \"\\x1b[31;1m\"+str(text)+\"\\x1b[0m\"\n",
    "def col_green(text):\n",
    "    return \"\\x1b[32;1m\"+str(text)+\"\\x1b[0m\"\n",
    "def col_yellow(text):\n",
    "    return \"\\x1b[33;1m\"+str(text)+\"\\x1b[0m\"\n",
    "def col_blue(text):\n",
    "    return \"\\x1b[34;1m\"+str(text)+\"\\x1b[0m\"\n",
    "def col_magenta(text):\n",
    "    return \"\\x1b[35;1m\"+str(text)+\"\\x1b[0m\"\n",
    "def col_cyan(text):\n",
    "    return \"\\x1b[36;1m\"+str(text)+\"\\x1b[0m\"\n",
    "\n",
    "\n",
    "def split_occurrences(needle, haystack, no_header=True, n_max=200):\n",
    "    i = 0\n",
    "    for h,s in haystack:\n",
    "        delim=col_yellow(needle)\n",
    "        #delim=' '\n",
    "        sp = re.split(needle, s, overlapped=True)\n",
    "        counts = len(sp)-1\n",
    "        if counts != 0:\n",
    "            i += 1\n",
    "            if no_header is False:\n",
    "                print col_green(counts), col_cyan(h)\n",
    "            seq = delim.join(sp)\n",
    "            print seq\n",
    "        if i > n_max:\n",
    "            break\n",
    "\n",
    "needle = 'CCUGG'\n",
    "n_occ = num_occurrences(needle, all_seqs)\n",
    "print 'Exact pattern %s occurs %d times in %d seqs (%.2f)' % (needle,n_occ , len(all_seqs), float(n_occ)/len(all_seqs))\n",
    "plot_location(needle, all_seqs, nbins=40, size=(17,2))\n",
    "split_occurrences(needle, all_seqs, n_max=500)"
   ]
  },
  {
   "cell_type": "markdown",
   "metadata": {},
   "source": [
    "---"
   ]
  }
 ],
 "metadata": {
  "kernelspec": {
   "display_name": "Python 2",
   "language": "python",
   "name": "python2"
  },
  "language_info": {
   "codemirror_mode": {
    "name": "ipython",
    "version": 2
   },
   "file_extension": ".py",
   "mimetype": "text/x-python",
   "name": "python",
   "nbconvert_exporter": "python",
   "pygments_lexer": "ipython2",
   "version": "2.7.12"
  }
 },
 "nbformat": 4,
 "nbformat_minor": 0
}
