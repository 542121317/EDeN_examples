{
 "cells": [
  {
   "cell_type": "code",
   "execution_count": 1,
   "metadata": {
    "collapsed": false
   },
   "outputs": [
    {
     "data": {
      "text/html": [
       "<style>.container { width:95% !important; }</style>"
      ],
      "text/plain": [
       "<IPython.core.display.HTML object>"
      ]
     },
     "execution_count": 1,
     "metadata": {},
     "output_type": "execute_result"
    }
   ],
   "source": [
    "%matplotlib inline\n",
    "%load_ext autoreload\n",
    "%autoreload 2\n",
    "import logging\n",
    "from eden.util import configure_logging\n",
    "configure_logging(logging.getLogger(), verbosity=2)\n",
    "from IPython.core.display import HTML\n",
    "HTML('<style>.container { width:95% !important; }</style>')"
   ]
  },
  {
   "cell_type": "code",
   "execution_count": 2,
   "metadata": {
    "collapsed": false
   },
   "outputs": [],
   "source": [
    "import numpy as np"
   ]
  },
  {
   "cell_type": "code",
   "execution_count": 3,
   "metadata": {
    "collapsed": true
   },
   "outputs": [],
   "source": [
    "def save_fasta(seqs, fname):\n",
    "    with open(fname, 'w') as f: \n",
    "        for i,(h,s) in enumerate(seqs):\n",
    "            f.write('>%d\\n'%i)\n",
    "            f.write('%s\\n'%s)"
   ]
  },
  {
   "cell_type": "code",
   "execution_count": 4,
   "metadata": {
    "collapsed": true
   },
   "outputs": [],
   "source": [
    "import regex as re\n",
    "# identify exact occurrence of user defined sequence in pos seqs\n",
    "def col_red(text):\n",
    "    return \"\\x1b[31;1m\"+str(text)+\"\\x1b[0m\"\n",
    "def col_green(text):\n",
    "    return \"\\x1b[32;1m\"+str(text)+\"\\x1b[0m\"\n",
    "def col_yellow(text):\n",
    "    return \"\\x1b[33;1m\"+str(text)+\"\\x1b[0m\"\n",
    "def col_blue(text):\n",
    "    return \"\\x1b[34;1m\"+str(text)+\"\\x1b[0m\"\n",
    "def col_magenta(text):\n",
    "    return \"\\x1b[35;1m\"+str(text)+\"\\x1b[0m\"\n",
    "def col_cyan(text):\n",
    "    return \"\\x1b[36;1m\"+str(text)+\"\\x1b[0m\"\n",
    "\n",
    "\n",
    "def split_occurrences(needle, haystack, no_header=True, n_max=200):\n",
    "    i = 0\n",
    "    for h,s in haystack:\n",
    "        delim=col_yellow(needle)\n",
    "        #delim=' '\n",
    "        sp = re.split(needle, s, overlapped=True)\n",
    "        counts = len(sp)-1\n",
    "        if counts != 0:\n",
    "            i += 1\n",
    "            if no_header is False:\n",
    "                print col_green(counts), col_cyan(h)\n",
    "            seq = delim.join(sp)\n",
    "            print seq\n",
    "        if i > n_max:\n",
    "            break"
   ]
  },
  {
   "cell_type": "code",
   "execution_count": 5,
   "metadata": {
    "collapsed": false
   },
   "outputs": [],
   "source": [
    "import GArDen.interfaces as garden\n",
    "from GArDen.convert.sequence import SeqToPathGraph\n",
    "from GArDen.transform.rna_structure import PathGraphToRNAPlfold\n",
    "\n",
    "remap={'A0':'A','C0':'C','G0':'G','U0':'E','T0':'E',\n",
    "       'A1':'V','C1':'S','G1':'Y','U1':'D','T1':'D'}\n",
    "\n",
    "def remap_with_structure(pos_seqs, remap=remap):\n",
    "    graphs = garden.transform(pos_seqs, program=SeqToPathGraph())\n",
    "    graphs = garden.transform(graphs, program=PathGraphToRNAPlfold(max_num_edges=2,\n",
    "                                                                   window_size=200,\n",
    "                                                                   max_bp_span=100,\n",
    "                                                                   hard_threshold=.5,\n",
    "                                                                   avg_bp_prob_cutoff=.01))\n",
    "    for graph in graphs:\n",
    "        paireds = [graph.node[u]['label']+str(int(graph.node[u].get('paired',False))) for u in graph.nodes()]\n",
    "        paireds = [remap[c] for c in paireds]\n",
    "        seq = ''.join(paireds)\n",
    "        yield ('ID',seq)\n",
    "alphabet = 'protein'\n",
    "color_scheme = 'chemistry'"
   ]
  },
  {
   "cell_type": "code",
   "execution_count": 6,
   "metadata": {
    "collapsed": true
   },
   "outputs": [],
   "source": [
    "def remap_with_structure(pos_seqs):\n",
    "    for seq in pos_seqs:\n",
    "        yield seq\n",
    "alphabet = 'rna'\n",
    "color_scheme = 'classic'"
   ]
  },
  {
   "cell_type": "code",
   "execution_count": 7,
   "metadata": {
    "collapsed": true
   },
   "outputs": [],
   "source": [
    "def filter_pvalue(iterable, threshold=2, less_than=False):\n",
    "    for header,seq in iterable:\n",
    "        val = float(header.split('_')[1])\n",
    "        if less_than:\n",
    "            if val < threshold:\n",
    "                yield (header,seq)\n",
    "        else:\n",
    "            if val > threshold:\n",
    "                yield (header,seq)"
   ]
  },
  {
   "cell_type": "code",
   "execution_count": 8,
   "metadata": {
    "collapsed": true
   },
   "outputs": [],
   "source": [
    "def filter_pvalue(iterable, threshold=2, less_than=False):\n",
    "    for header,seq in iterable:\n",
    "        val = float(header.split(';')[2])\n",
    "        if less_than:\n",
    "            if val < threshold:\n",
    "                yield (header,seq)\n",
    "        else:\n",
    "            if val > threshold:\n",
    "                yield (header,seq)"
   ]
  },
  {
   "cell_type": "code",
   "execution_count": 9,
   "metadata": {
    "collapsed": true
   },
   "outputs": [],
   "source": [
    "dir_name = '/Users/costa/Desktop/BTSync/DATA/RBP/'"
   ]
  },
  {
   "cell_type": "code",
   "execution_count": 10,
   "metadata": {
    "collapsed": false,
    "scrolled": true
   },
   "outputs": [],
   "source": [
    "#!ls  $dir_name"
   ]
  },
  {
   "cell_type": "markdown",
   "metadata": {},
   "source": [
    "# SMoD"
   ]
  },
  {
   "cell_type": "code",
   "execution_count": 11,
   "metadata": {
    "collapsed": true
   },
   "outputs": [],
   "source": [
    "# good ones\n",
    "name = 'HNRNPC-human_HepG2_ENCSR550DVK_rep1_unique_ids_extlr60_context0.fa'\n",
    "name = 'HNRNPK-human_HepG2_ENCSR828ZID_rep1_unique_ids_extlr60_context0.fa'\n",
    "name = 'KHDRBS1-human_K562_ENCSR628IDK_rep1_unique_ids_extlr60_context0.fa'\n",
    "name = 'HNRNPA1-human_HepG2_ENCSR769UEW_rep1_unique_ids_extlr60_context0.fa'\n",
    "name = 'PCBP2-human_HepG2_ENCSR339FUY_rep2_unique_ids_extlr60_context0.fa' #**\n",
    "name = 'LIN28B-human_K562_ENCSR970NKP_rep2_unique_ids_extlr60_context0.fa' #difficult motives\n",
    "name = 'GTF2F1-human_HepG2_ENCSR265ZIS_rep1_unique_ids_extlr60_context0.fa'\n",
    "name = 'U2AF2-human_HepG2_ENCSR202BFN_rep1_unique_ids_extlr60_context0.fa'\n",
    "name = 'QKI-human_HepG2_ENCSR570WLM_rep1_unique_ids_extlr60_context0.fa' #**\n",
    "name = 'RBFOX2-human_HepG2_ENCSR987FTF_rep1_unique_ids_extlr60_context0.fa' #**\n",
    "name = 'TAF15-human_HepG2_ENCSR841EQA_rep1_unique_ids_extlr60_context0.fa'\n",
    "name = 'TARDBP-human_K562_ENCSR584TCR_rep1_unique_ids_extlr60_context0.fa' #***\n",
    "name = 'U2AF2-human_K562_ENCSR893RAV_rep1_unique_ids_extlr60_context0.fa'\n",
    "pos_fname = dir_name+name"
   ]
  },
  {
   "cell_type": "code",
   "execution_count": 12,
   "metadata": {
    "collapsed": false
   },
   "outputs": [],
   "source": [
    "name = 'IGF2BP3-human_HepG2_ENCSR993OLA_rep1_unique_ids_extlr60_context0.fa'\n",
    "name = 'FMR1-human_K562_ENCSR331VNX_rep1_unique_ids_extlr60_context0.fa' #bad\n",
    "name = 'TIA1-human_HepG2_ENCSR623VEQ_rep1_unique_ids_extlr60_context0.fa'\n",
    "name = 'ZRANB2-human_K562_ENCSR663NRA_rep2_unique_ids_extlr60_context0.fa'\n",
    "name = 'ZNF622-human_K562_ENCSR657TZZ_rep2_unique_ids_extlr60_context0.fa'\n",
    "name = 'YWHAG-human_K562_ENCSR867ZVK_rep2_unique_ids_extlr60_context0.fa'\n",
    "name = 'YBX3-human_K562_ENCSR529FKI_rep2_unique_ids_extlr60_context0.fa'\n",
    "name = 'RBM15-human_HepG2_ENCSR754NDA_rep1_unique_ids_extlr60_context0.fa'#?\n",
    "name = 'XRCC6-human_K562_ENCSR258QKO_rep1_unique_ids_extlr60_context0.fa'\n",
    "name = 'SLBP-human_K562_ENCSR483NOP_rep1_unique_ids_extlr60_context0.fa'\n",
    "name = 'RBM27-human_K562_ENCSR489RJI_rep1_unique_ids_extlr60_context0.fa'\n",
    "name = 'SRSF1-human_HepG2_ENCSR989VIY_rep1_unique_ids_extlr60_context0.fa'\n",
    "name = 'SRSF7-human_K562_ENCSR468FSW_rep1_unique_ids_extlr60_context0.fa'\n",
    "name = 'YBX3-human_K562_ENCSR529FKI_rep1_unique_ids_extlr60_context0.fa'\n",
    "name = 'ZNF622-human_K562_ENCSR657TZZ_rep2_unique_ids_extlr60_context0.fa'\n",
    "name = 'LIN28B-human_K562_ENCSR970NKP_rep2_unique_ids_extlr60_context0.fa' #difficult motives\n",
    "name = 'HNRNPK-human_HepG2_ENCSR828ZID_rep1_unique_ids_extlr60_context0.fa'\n",
    "name = 'RBFOX2-human_HepG2_ENCSR987FTF_rep1_unique_ids_extlr60_context0.fa' #**\n",
    "name = 'TARDBP-human_K562_ENCSR584TCR_rep1_unique_ids_extlr60_context0.fa' #***\n",
    "pos_fname = dir_name+name"
   ]
  },
  {
   "cell_type": "code",
   "execution_count": 13,
   "metadata": {
    "collapsed": true
   },
   "outputs": [],
   "source": [
    "complexity=5 #feature resolution\n",
    "n_clusters=20 # maximal num of motives; tradeoff: if high -> small omogenous motives, if low -> few mixed motives\n",
    "min_subarray_size = 5\n",
    "max_subarray_size = 10\n",
    "p_value = 0.05\n",
    "regex_th=0.3 # minimum frequency of a nt to be included in the consensus regex \n",
    "# merging parameters\n",
    "similarity_th=0.6\n",
    "min_score=5\n",
    "min_freq=0.5\n",
    "min_cluster_size=10\n",
    "sample_size=400\n",
    "#filtering parameters\n",
    "freq_th=.01 # minimum frequency of a consensus regex to be displayed\n",
    "std_th=30 # maximum std of localization of consensus regex within the sequence"
   ]
  },
  {
   "cell_type": "code",
   "execution_count": 14,
   "metadata": {
    "collapsed": false
   },
   "outputs": [
    {
     "name": "stdout",
     "output_type": "stream",
     "text": [
      "fold_change_th: 2.0  selected seqs:13173  diff_to_desired: 11173\n",
      "fold_change_th: 2.2  selected seqs:10454  diff_to_desired: 8454\n",
      "fold_change_th: 2.5  selected seqs:8563  diff_to_desired: 6563\n",
      "fold_change_th: 2.8  selected seqs:7228  diff_to_desired: 5228\n",
      "fold_change_th: 3.0  selected seqs:5342  diff_to_desired: 3342\n",
      "fold_change_th: 3.2  selected seqs:4060  diff_to_desired: 2060\n",
      "fold_change_th: 3.5  selected seqs:3169  diff_to_desired: 1169\n",
      "fold_change_th: 3.8  selected seqs:2513  diff_to_desired: 513\n",
      "fold_change_th: 4.0  selected seqs:1909  diff_to_desired: 91\n",
      "fold_change_th: 4.2  selected seqs:1383  diff_to_desired: 617\n",
      "fold_change_th: 4.5  selected seqs:1017  diff_to_desired: 983\n",
      "fold_change_th: 4.8  selected seqs:741  diff_to_desired: 1259\n",
      "fold_change_th: 5.0  selected seqs:541  diff_to_desired: 1459\n",
      "fold_change_th: 5.2  selected seqs:380  diff_to_desired: 1620\n",
      "fold_change_th: 5.5  selected seqs:264  diff_to_desired: 1736\n",
      "Selected threshold 4.0\n"
     ]
    }
   ],
   "source": [
    "desired_size=2000\n",
    "min_diff=desired_size\n",
    "for th in np.linspace(2.0, 5.5, num=15):\n",
    "    from eden.converter.fasta import fasta_to_sequence\n",
    "    pos_seqs = fasta_to_sequence(pos_fname)\n",
    "    pos_seqs = filter_pvalue(pos_seqs,threshold=th)\n",
    "    from eden.util import iterator_size\n",
    "    num = iterator_size(pos_seqs)\n",
    "    diff = abs(num-desired_size)\n",
    "    if diff < min_diff:\n",
    "        min_diff = diff\n",
    "        min_th = th\n",
    "    print 'fold_change_th: %.1f  selected seqs:%.6s  diff_to_desired: %.6s'%(th, num , diff)\n",
    "th = min_th\n",
    "print 'Selected threshold %.1f' % th"
   ]
  },
  {
   "cell_type": "code",
   "execution_count": 15,
   "metadata": {
    "collapsed": false
   },
   "outputs": [
    {
     "name": "stdout",
     "output_type": "stream",
     "text": [
      "Processing 1909 pos and 5727 neg\n",
      "CPU times: user 3.26 s, sys: 62.7 ms, total: 3.32 s\n",
      "Wall time: 3.36 s\n"
     ]
    }
   ],
   "source": [
    "%%time\n",
    "from eden.converter.fasta import fasta_to_sequence\n",
    "all_seqs = list(fasta_to_sequence(pos_fname))\n",
    "\n",
    "from eden.converter.fasta import fasta_to_sequence\n",
    "pos_seqs = fasta_to_sequence(pos_fname)\n",
    "pos_seqs = filter_pvalue(pos_seqs,threshold=th)\n",
    "pos_seqs = remap_with_structure(pos_seqs)\n",
    "pos_seqs=list(pos_seqs)\n",
    "\n",
    "#neg_seqs = fasta_to_sequence(neg_fname)\n",
    "from eden.converter.fasta import fasta_to_sequence\n",
    "neg_seqs = fasta_to_sequence(pos_fname)\n",
    "neg_seqs = filter_pvalue(neg_seqs,threshold=th)\n",
    "neg_seqs = remap_with_structure(neg_seqs)\n",
    "from eden.modifier.seq import seq_to_seq, shuffle_modifier\n",
    "neg_seqs = seq_to_seq(neg_seqs, modifier=shuffle_modifier, times=2, order=1)\n",
    "neg_seqs_ord1 = list(neg_seqs)\n",
    "\n",
    "from eden.converter.fasta import fasta_to_sequence\n",
    "neg_seqs = fasta_to_sequence(pos_fname)\n",
    "neg_seqs = filter_pvalue(neg_seqs,threshold=th)\n",
    "neg_seqs = remap_with_structure(neg_seqs)\n",
    "from eden.modifier.seq import seq_to_seq, shuffle_modifier\n",
    "neg_seqs = seq_to_seq(neg_seqs, modifier=shuffle_modifier, times=1, order=2)\n",
    "neg_seqs_ord2 = list(neg_seqs)\n",
    "\n",
    "neg_seqs = neg_seqs_ord1 + neg_seqs_ord2\n",
    "\n",
    "pos_size = len(pos_seqs)\n",
    "train_pos_seqs = pos_seqs[:pos_size/2]\n",
    "test_pos_seqs = pos_seqs[pos_size/2:]\n",
    "\n",
    "neg_size = len(neg_seqs)\n",
    "train_neg_seqs = neg_seqs[:neg_size/2]\n",
    "test_neg_seqs = neg_seqs[neg_size/2:]\n",
    "\n",
    "print 'Processing %d pos and %d neg' % (pos_size, neg_size)\n",
    "import multiprocessing\n",
    "n=multiprocessing.cpu_count()\n",
    "pos_block_size = pos_size / n\n",
    "neg_block_size = neg_size / n"
   ]
  },
  {
   "cell_type": "code",
   "execution_count": 16,
   "metadata": {
    "collapsed": false,
    "scrolled": false
   },
   "outputs": [
    {
     "name": "stdout",
     "output_type": "stream",
     "text": [
      "Setup 0.20 secs\n",
      "Fitting\n",
      "0 (238, 32769) (24.86 secs) (delta: 24.86)\n",
      "1 (238, 32769) (24.87 secs) (delta: 0.01)\n",
      "2 (238, 32769) (24.88 secs) (delta: 0.01)\n",
      "3 (238, 32769) (24.90 secs) (delta: 0.02)\n",
      "Setup 0.20 secs\n",
      "Annotating\n",
      "0 (34.26 secs) (delta: 34.26)\n",
      "1 (34.40 secs) (delta: 0.14)\n",
      "2 (34.50 secs) (delta: 0.10)\n",
      "3 (34.84 secs) (delta: 0.33)\n",
      "4 (34.84 secs) (delta: 0.00)\n",
      "5 (34.84 secs) (delta: 0.00)\n",
      "6 (34.84 secs) (delta: 0.00)\n",
      "7 (34.84 secs) (delta: 0.00)\n",
      "8 (53.99 secs) (delta: 19.14)\n",
      "9 (54.17 secs) (delta: 0.18)\n",
      "10 (54.47 secs) (delta: 0.30)\n",
      "11 (54.47 secs) (delta: 0.00)\n",
      "ECDF fit on 3691 values\n",
      "Optimal param: a:8.92  b:2.05\n",
      "Setup 0.32 secs\n",
      "Performance evaluation\n",
      "0 (238, 32769) (25.20 secs) (delta: 25.20)\n",
      "1 (238, 32769) (25.21 secs) (delta: 0.01)\n",
      "2 (238, 32769) (25.24 secs) (delta: 0.03)\n",
      "3 (238, 32769) (25.29 secs) (delta: 0.05)\n",
      "Confusion matrix:\n",
      "[[2368  492]\n",
      " [ 179  773]]\n",
      "Classification:\n",
      "             precision    recall  f1-score   support\n",
      "\n",
      "         -1       0.93      0.83      0.88      2860\n",
      "          1       0.61      0.81      0.70       952\n",
      "\n",
      "avg / total       0.85      0.82      0.83      3812\n",
      "\n",
      "ROC: 0.905\n",
      "Setup 0.15 secs\n",
      "Annotating\n",
      "0 (39.85 secs) (delta: 39.85)\n",
      "1 (39.85 secs) (delta: 0.00)\n",
      "2 (40.04 secs) (delta: 0.19)\n",
      "3 (40.17 secs) (delta: 0.13)\n",
      "4 (40.17 secs) (delta: 0.00)\n",
      "5 (40.17 secs) (delta: 0.00)\n",
      "6 (40.17 secs) (delta: 0.00)\n",
      "7 (40.17 secs) (delta: 0.00)\n",
      "Setup 0.12 secs\n",
      "Vectorizing\n",
      "0 (238, 32769) (0.65 secs) (delta: 0.65)\n",
      "1 (238, 32769) (0.70 secs) (delta: 0.05)\n",
      "2 (238, 32769) (0.74 secs) (delta: 0.05)\n",
      "3 (238, 32769) (0.79 secs) (delta: 0.05)\n",
      "4 (238, 32769) (0.91 secs) (delta: 0.12)\n",
      "5 (238, 32769) (0.97 secs) (delta: 0.06)\n",
      "Clustering\n",
      "working on 1428 instances\n",
      "...done  in 0.45 secs\n",
      "After clustering, 20 motives\n",
      "Alignment\n",
      "Cluster 0 (#206) (0.28 secs)\n",
      "Cluster 1 (#90) (0.14 secs)\n",
      "Cluster 2 (#38) (0.04 secs)\n",
      "Cluster 3 (#345) (0.69 secs)\n",
      "Cluster 4 (#65) (0.06 secs)\n",
      "Cluster 5 (#84) (0.11 secs)\n",
      "Cluster 6 (#14) (0.02 secs)\n",
      "Cluster 7 (#13) (0.02 secs)\n",
      "Cluster 8 (#52) (0.06 secs)\n",
      "Cluster 9 (#37) (0.04 secs)\n",
      "Cluster 10 (#20) (0.03 secs)\n",
      "Cluster 11 (#15) (0.02 secs)\n",
      "Cluster 13 (#82) (0.10 secs)\n",
      "Cluster 14 (#66) (0.07 secs)\n",
      "Cluster 15 (#93) (0.08 secs)\n",
      "Cluster 16 (#97) (0.08 secs)\n",
      "Cluster 17 (#37) (0.04 secs)\n",
      "Cluster 18 (#28) (0.03 secs)\n",
      "After motives computation, 18 motives\n",
      "Joining: 15 (#93), 16 (#97) score: 0.89 deleting: 16  [15 is now #190]\n",
      "Joining: 3 (#345), 18 (#28) score: 0.89 deleting: 18  [3 is now #373]\n",
      "Joining: 3 (#373), 15 (#190) score: 0.89 deleting: 15  [3 is now #563]\n",
      "Joining: 4 (#65), 17 (#37) score: 0.88 deleting: 17  [4 is now #102]\n",
      "Joining: 5 (#84), 13 (#82) score: 0.86 deleting: 13  [5 is now #166]\n",
      "Joining: 0 (#206), 5 (#166) score: 0.86 deleting: 5  [0 is now #372]\n",
      "Joining: 2 (#38), 14 (#66) score: 0.82 deleting: 14  [2 is now #104]\n",
      "Joining: 0 (#372), 1 (#90) score: 0.80 deleting: 1  [0 is now #462]\n",
      "Joining: 3 (#563), 9 (#37) score: 0.78 deleting: 9  [3 is now #600]\n",
      "Joining: 4 (#102), 6 (#14) score: 0.75 deleting: 6  [4 is now #116]\n",
      "Joining: 3 (#600), 11 (#15) score: 0.74 deleting: 11  [3 is now #615]\n",
      "Joining: 3 (#615), 4 (#116) score: 0.71 deleting: 4  [3 is now #731]\n",
      "Joining: 0 (#462), 3 (#731) score: 0.62 deleting: 3  [0 is now #1193]\n",
      "After merge, 5 motives\n",
      "After quality filter, 3 motives\n",
      "CPU times: user 3.37 s, sys: 1.16 s, total: 4.54 s\n",
      "Wall time: 2min 38s\n"
     ]
    }
   ],
   "source": [
    "%%time\n",
    "from eden.sequence_motif_decomposer import SequenceMotifDecomposer as SMoD\n",
    "smod=SMoD(complexity=complexity,\n",
    "          n_clusters=n_clusters,\n",
    "          min_subarray_size=min_subarray_size,\n",
    "          max_subarray_size=max_subarray_size,\n",
    "          pos_block_size=pos_block_size,\n",
    "          neg_block_size=neg_block_size)\n",
    "smod = smod.fit(train_pos_seqs, train_neg_seqs)\n",
    "smod.performance(test_pos_seqs, test_neg_seqs)\n",
    "motives = smod.select_motives(seqs=pos_seqs,\n",
    "                              p_value=p_value,\n",
    "                              similarity_th=similarity_th,\n",
    "                              min_score=min_score,\n",
    "                              min_freq=min_freq,\n",
    "                              min_cluster_size=min_cluster_size,\n",
    "                              regex_th=regex_th,\n",
    "                              sample_size=sample_size,\n",
    "                              freq_th=freq_th,\n",
    "                              std_th=std_th)"
   ]
  },
  {
   "cell_type": "code",
   "execution_count": 17,
   "metadata": {
    "collapsed": false,
    "scrolled": false
   },
   "outputs": [
    {
     "name": "stdout",
     "output_type": "stream",
     "text": [
      "Setup 0.10 secs\n",
      "Predicting\n",
      "0 (30.41 secs) (delta: 30.41)\n",
      "1 (30.50 secs) (delta: 0.08)\n",
      "2 (30.57 secs) (delta: 0.07)\n",
      "3 (30.57 secs) (delta: 0.00)\n",
      "4 (30.57 secs) (delta: 0.00)\n",
      "5 (30.57 secs) (delta: 0.00)\n",
      "6 (30.62 secs) (delta: 0.05)\n",
      "7 (30.62 secs) (delta: 0.00)\n"
     ]
    },
    {
     "ename": "ValueError",
     "evalue": "need more than 0 values to unpack",
     "output_type": "error",
     "traceback": [
      "\u001b[0;31m---------------------------------------------------------------------------\u001b[0m",
      "\u001b[0;31mValueError\u001b[0m                                Traceback (most recent call last)",
      "\u001b[0;32m<ipython-input-17-77f29536eeb6>\u001b[0m in \u001b[0;36m<module>\u001b[0;34m()\u001b[0m\n\u001b[1;32m      4\u001b[0m \u001b[0mdata\u001b[0m  \u001b[0;34m=\u001b[0m \u001b[0;34m'# '\u001b[0m\u001b[0;34m+\u001b[0m \u001b[0mrbp\u001b[0m \u001b[0;34m+\u001b[0m\u001b[0;34m'\\n'\u001b[0m\u001b[0;34m\u001b[0m\u001b[0m\n\u001b[1;32m      5\u001b[0m \u001b[0mdata\u001b[0m \u001b[0;34m+=\u001b[0m \u001b[0;34m'`file:'\u001b[0m\u001b[0;34m+\u001b[0m\u001b[0mpos_fname\u001b[0m\u001b[0;34m+\u001b[0m\u001b[0;34m'`\\n'\u001b[0m\u001b[0;34m\u001b[0m\u001b[0m\n\u001b[0;32m----> 6\u001b[0;31m \u001b[0mdata\u001b[0m \u001b[0;34m+=\u001b[0m \u001b[0msmod\u001b[0m\u001b[0;34m.\u001b[0m\u001b[0mreport\u001b[0m\u001b[0;34m(\u001b[0m\u001b[0mpos_seqs\u001b[0m\u001b[0;34m,\u001b[0m \u001b[0mall_seqs\u001b[0m\u001b[0;34m,\u001b[0m \u001b[0mmotives\u001b[0m\u001b[0;34m,\u001b[0m \u001b[0mfname\u001b[0m\u001b[0;34m=\u001b[0m\u001b[0mrbp\u001b[0m\u001b[0;34m+\u001b[0m\u001b[0;34m'_motif'\u001b[0m\u001b[0;34m)\u001b[0m\u001b[0;34m\u001b[0m\u001b[0m\n\u001b[0m\u001b[1;32m      7\u001b[0m \u001b[0mmd_fname\u001b[0m\u001b[0;34m=\u001b[0m\u001b[0mrbp\u001b[0m\u001b[0;34m+\u001b[0m\u001b[0;34m'_'\u001b[0m\u001b[0;34m+\u001b[0m\u001b[0mtimestamp\u001b[0m\u001b[0;34m+\u001b[0m\u001b[0;34m'.md'\u001b[0m\u001b[0;34m\u001b[0m\u001b[0m\n\u001b[1;32m      8\u001b[0m \u001b[0;32mprint\u001b[0m \u001b[0;34m'Writing file: %s'\u001b[0m \u001b[0;34m%\u001b[0m \u001b[0mmd_fname\u001b[0m\u001b[0;34m\u001b[0m\u001b[0m\n",
      "\u001b[0;32m/Users/costa/Desktop/BTSync/Projects/EDeN/EDeN/eden/sequence_motif_decomposer.pyc\u001b[0m in \u001b[0;36mreport\u001b[0;34m(self, pos_seqs, all_seqs, motives, nbins, size, box_decomposition, fname)\u001b[0m\n\u001b[1;32m   1322\u001b[0m             \u001b[0;32mif\u001b[0m \u001b[0mbox_decomposition\u001b[0m\u001b[0;34m:\u001b[0m\u001b[0;34m\u001b[0m\u001b[0m\n\u001b[1;32m   1323\u001b[0m                 figname = plot_cumulative_score(\n\u001b[0;32m-> 1324\u001b[0;31m                     self, pos_seqs, size=size, fname=fname)\n\u001b[0m\u001b[1;32m   1325\u001b[0m                 \u001b[0mtxt\u001b[0m\u001b[0;34m.\u001b[0m\u001b[0mappend\u001b[0m\u001b[0;34m(\u001b[0m\u001b[0mself\u001b[0m\u001b[0;34m.\u001b[0m\u001b[0m_wrap_image\u001b[0m\u001b[0;34m(\u001b[0m\u001b[0mfigname\u001b[0m\u001b[0;34m)\u001b[0m\u001b[0;34m)\u001b[0m\u001b[0;34m\u001b[0m\u001b[0m\n\u001b[1;32m   1326\u001b[0m             for freq, cluster_id in sorted([(motives[i]['freq'], i)\n",
      "\u001b[0;32m/Users/costa/Desktop/BTSync/Projects/EDeN/EDeN/eden/sequence_motif_decomposer.pyc\u001b[0m in \u001b[0;36mplot_cumulative_score\u001b[0;34m(smod, seqs, half_windw_size, size, fname)\u001b[0m\n\u001b[1;32m    303\u001b[0m     \u001b[0;34m\"\"\"plot_cumulative_score.\"\"\"\u001b[0m\u001b[0;34m\u001b[0m\u001b[0m\n\u001b[1;32m    304\u001b[0m     \u001b[0msig\u001b[0m \u001b[0;34m=\u001b[0m \u001b[0mcumulative_score\u001b[0m\u001b[0;34m(\u001b[0m\u001b[0mseqs\u001b[0m\u001b[0;34m,\u001b[0m \u001b[0msmod\u001b[0m\u001b[0;34m)\u001b[0m\u001b[0;34m\u001b[0m\u001b[0m\n\u001b[0;32m--> 305\u001b[0;31m     \u001b[0mvals\u001b[0m\u001b[0;34m,\u001b[0m \u001b[0mstarts\u001b[0m\u001b[0;34m,\u001b[0m \u001b[0mends\u001b[0m\u001b[0;34m,\u001b[0m \u001b[0mwidths\u001b[0m \u001b[0;34m=\u001b[0m \u001b[0mzip\u001b[0m\u001b[0;34m(\u001b[0m\u001b[0;34m*\u001b[0m\u001b[0mbox_decomposition\u001b[0m\u001b[0;34m(\u001b[0m\u001b[0msig\u001b[0m\u001b[0;34m,\u001b[0m \u001b[0mhalf_windw_size\u001b[0m\u001b[0;34m)\u001b[0m\u001b[0;34m)\u001b[0m\u001b[0;34m\u001b[0m\u001b[0m\n\u001b[0m\u001b[1;32m    306\u001b[0m     \u001b[0mmax_val\u001b[0m \u001b[0;34m=\u001b[0m \u001b[0mmax\u001b[0m\u001b[0;34m(\u001b[0m\u001b[0mvals\u001b[0m\u001b[0;34m)\u001b[0m\u001b[0;34m\u001b[0m\u001b[0m\n\u001b[1;32m    307\u001b[0m     \u001b[0mvals\u001b[0m \u001b[0;34m=\u001b[0m \u001b[0mvals\u001b[0m \u001b[0;34m/\u001b[0m \u001b[0mmax_val\u001b[0m\u001b[0;34m\u001b[0m\u001b[0m\n",
      "\u001b[0;31mValueError\u001b[0m: need more than 0 values to unpack"
     ]
    }
   ],
   "source": [
    "import time\n",
    "timestamp = time.strftime('%Y_%m_%d_%H_%M_%S')\n",
    "rbp = pos_fname.split('/')[-1].split('-')[0]\n",
    "data  = '# '+ rbp +'\\n'\n",
    "data += '`file:'+pos_fname+'`\\n'\n",
    "data += smod.report(pos_seqs, all_seqs, motives, fname=rbp+'_motif')\n",
    "md_fname=rbp+'_'+timestamp+'.md'\n",
    "print 'Writing file: %s' % md_fname\n",
    "with open(md_fname, 'w') as f: f.write(data)\n",
    "!md2pdf $md_fname"
   ]
  },
  {
   "cell_type": "code",
   "execution_count": 22,
   "metadata": {
    "collapsed": false
   },
   "outputs": [
    {
     "name": "stdout",
     "output_type": "stream",
     "text": [
      "Setup 0.12 secs\n",
      "Predicting\n",
      "0 (18.66 secs) (delta: 18.66)\n",
      "1 (18.66 secs) (delta: 0.00)\n",
      "2 (18.66 secs) (delta: 0.00)\n",
      "3 (18.66 secs) (delta: 0.00)\n",
      "4 (18.66 secs) (delta: 0.00)\n",
      "5 (18.66 secs) (delta: 0.00)\n",
      "6 (18.67 secs) (delta: 0.00)\n",
      "7 (18.67 secs) (delta: 0.00)\n"
     ]
    },
    {
     "data": {
      "image/png": "[encoded data removed]",
      "text/plain": [
       "<matplotlib.figure.Figure at 0x10c789390>"
      ]
     },
     "metadata": {},
     "output_type": "display_data"
    }
   ],
   "source": [
    "from eden.sequence_motif_decomposer import plot_cumulative_score\n",
    "plot_cumulative_score(smod, pos_seqs, half_windw_size=3, size=(15, 4), fname=None)"
   ]
  },
  {
   "cell_type": "code",
   "execution_count": null,
   "metadata": {
    "collapsed": false
   },
   "outputs": [],
   "source": [
    "from IPython import display\n",
    "display.Markdown(data=data)"
   ]
  },
  {
   "cell_type": "code",
   "execution_count": null,
   "metadata": {
    "collapsed": false
   },
   "outputs": [],
   "source": [
    "import copy\n",
    "smod2=copy.deepcopy(smod)\n",
    "from eden.sequence_motif_decomposer import trim_seqs\n",
    "trimmed_seqs = list(trim_seqs(pos_seqs, smod))\n",
    "smod2 = smod2.fit(trimmed_seqs, train_neg_seqs)\n",
    "motives = smod2.select_motives(seqs=trimmed_seqs,\n",
    "                              p_value=p_value,\n",
    "                              similarity_th=similarity_th,\n",
    "                              min_score=min_score,\n",
    "                              min_freq=min_freq,\n",
    "                              min_cluster_size=min_cluster_size,\n",
    "                              regex_th=regex_th,\n",
    "                              sample_size=sample_size,\n",
    "                              freq_th=freq_th,\n",
    "                              std_th=std_th)"
   ]
  },
  {
   "cell_type": "code",
   "execution_count": null,
   "metadata": {
    "collapsed": false
   },
   "outputs": [],
   "source": [
    "from IPython import display\n",
    "display.Markdown(data=smod2.report(pos_seqs, all_seqs, motives, box_decomposition=False, fname='peak'))"
   ]
  },
  {
   "cell_type": "markdown",
   "metadata": {},
   "source": [
    "---"
   ]
  }
 ],
 "metadata": {
  "kernelspec": {
   "display_name": "Python 2",
   "language": "python",
   "name": "python2"
  },
  "language_info": {
   "codemirror_mode": {
    "name": "ipython",
    "version": 2
   },
   "file_extension": ".py",
   "mimetype": "text/x-python",
   "name": "python",
   "nbconvert_exporter": "python",
   "pygments_lexer": "ipython2",
   "version": "2.7.12"
  }
 },
 "nbformat": 4,
 "nbformat_minor": 0
}
