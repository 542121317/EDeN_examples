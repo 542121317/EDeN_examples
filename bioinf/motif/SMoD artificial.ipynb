{
 "cells": [
  {
   "cell_type": "code",
   "execution_count": 1,
   "metadata": {
    "collapsed": false
   },
   "outputs": [
    {
     "data": {
      "text/html": [
       "<style>.container { width:95% !important; }</style>"
      ],
      "text/plain": [
       "<IPython.core.display.HTML object>"
      ]
     },
     "execution_count": 1,
     "metadata": {},
     "output_type": "execute_result"
    }
   ],
   "source": [
    "%matplotlib inline\n",
    "%load_ext autoreload\n",
    "%autoreload 2\n",
    "import logging\n",
    "from eden.util import configure_logging\n",
    "configure_logging(logging.getLogger(), verbosity=1)\n",
    "from IPython.core.display import HTML\n",
    "HTML('<style>.container { width:95% !important; }</style>')"
   ]
  },
  {
   "cell_type": "code",
   "execution_count": 2,
   "metadata": {
    "collapsed": false
   },
   "outputs": [],
   "source": [
    "from eden.util.NeedlemanWunsh import edit_distance\n",
    "\n",
    "def select_best_match(motives, orig_motives):\n",
    "    for i, orig_motif in enumerate(orig_motives):\n",
    "        max_score = 0\n",
    "        max_cluster_id = 0\n",
    "        max_motif = None\n",
    "        for cluster_id in motives:\n",
    "            consensus_seq = motives[cluster_id]['consensus_seq']\n",
    "            score = edit_distance(orig_motif, consensus_seq)\n",
    "            score = 2 * float(score) / (len(orig_motif)+len(consensus_seq))\n",
    "            if score > max_score:\n",
    "                max_score = score\n",
    "                max_cluster_id = cluster_id\n",
    "        yield max_score, max_cluster_id"
   ]
  },
  {
   "cell_type": "code",
   "execution_count": 3,
   "metadata": {
    "collapsed": false
   },
   "outputs": [],
   "source": [
    "#code for making artificial dataset\n",
    "import random\n",
    "import  numpy as np\n",
    "\n",
    "def random_string(length,alphabet_list):\n",
    "    rand_str = ''.join(random.choice(alphabet_list) for i in range(length))\n",
    "    return rand_str\n",
    "\n",
    "def perturb(seed,alphabet_list,perturbation_prob=0.5):\n",
    "    seq=''\n",
    "    for c in seed:\n",
    "        if random.random() < perturbation_prob: \n",
    "            c = random.choice(alphabet_list)\n",
    "        seq += c\n",
    "    return seq\n",
    "\n",
    "def create_motives(alphabet='ACGU', motif_length=10):\n",
    "    motives = []\n",
    "    for character in alphabet:\n",
    "        motif = [character]*motif_length\n",
    "        motives.append(''.join(motif))\n",
    "    return motives\n",
    "\n",
    "def make_artificial_dataset(alphabet='ACGU', \n",
    "                            motif_length=10,\n",
    "                            sequence_length=100, \n",
    "                            n_sequences=1000, \n",
    "                            n_motives=2, \n",
    "                            perturbation_prob=0.2):\n",
    "    alphabet_list=[c for c in alphabet]\n",
    "    motives = [random_string(motif_length, alphabet_list) for i in range(n_motives)]\n",
    "        \n",
    "    flanking_length = (sequence_length - motif_length ) / 2\n",
    "    n_seq_per_motif = n_sequences / n_motives\n",
    "\n",
    "    counter=0\n",
    "    seqs=[]\n",
    "    targets=[]\n",
    "    for i in range(n_seq_per_motif):\n",
    "        for j in range(n_motives):\n",
    "            left_flanking = random_string(flanking_length,alphabet_list)\n",
    "            right_flanking = random_string(flanking_length,alphabet_list)\n",
    "            noisy_motif = perturb(motives[j],alphabet_list,perturbation_prob)\n",
    "            seq = left_flanking + noisy_motif + right_flanking\n",
    "            seqs.append(('ID_%.3d'%counter,seq))\n",
    "            targets.append(j)\n",
    "            counter += 1\n",
    "    return seqs, np.array(targets), motives"
   ]
  },
  {
   "cell_type": "code",
   "execution_count": 4,
   "metadata": {
    "collapsed": false
   },
   "outputs": [],
   "source": [
    "motif_length=6\n",
    "n_motives=3\n",
    "sequence_length=90\n",
    "n_sequences=500*n_motives\n",
    "perturbation_prob=0.2\n",
    "n_sequences_all=10000\n",
    "\n",
    "all_seqs, targets, orig_motives = make_artificial_dataset('ACGU',motif_length,sequence_length,n_sequences_all,n_motives,perturbation_prob)\n",
    "pos_seqs = all_seqs[:n_sequences] \n",
    "all_seqs = all_seqs[n_sequences:]"
   ]
  },
  {
   "cell_type": "code",
   "execution_count": 5,
   "metadata": {
    "collapsed": true
   },
   "outputs": [],
   "source": [
    "from eden.modifier.seq import seq_to_seq, shuffle_modifier\n",
    "neg_seqs = seq_to_seq(pos_seqs, modifier=shuffle_modifier, times=2, order=1)\n",
    "neg_seqs = list(neg_seqs)"
   ]
  },
  {
   "cell_type": "code",
   "execution_count": 6,
   "metadata": {
    "collapsed": false
   },
   "outputs": [
    {
     "name": "stdout",
     "output_type": "stream",
     "text": [
      "Processing 1500 pos and 3000 neg\n"
     ]
    }
   ],
   "source": [
    "complexity=3\n",
    "n_clusters=n_motives*5\n",
    "min_subarray_size=motif_length-2\n",
    "max_subarray_size=motif_length+2\n",
    "pos_size = len(pos_seqs)\n",
    "neg_size = len(neg_seqs)\n",
    "print 'Processing %d pos and %d neg' % (pos_size, neg_size)\n",
    "import multiprocessing\n",
    "n=multiprocessing.cpu_count()\n",
    "pos_block_size = pos_size / n\n",
    "neg_block_size = neg_size / n"
   ]
  },
  {
   "cell_type": "code",
   "execution_count": 7,
   "metadata": {
    "collapsed": false
   },
   "outputs": [
    {
     "name": "stdout",
     "output_type": "stream",
     "text": [
      "motif_length: 6\n",
      "n_motives: 3\n",
      "sequence_length: 90\n",
      "n_sequences: 1500\n",
      "perturbation_prob: 0.2\n",
      "n_clusters: 15\n",
      "min_subarray_size: 4\n",
      "max_subarray_size: 8\n",
      "pos block_size: 187\n",
      "neg block_size: 375\n",
      "\n",
      "AUGCGA\n",
      "ACAGAA\n",
      "UGAGCC\n"
     ]
    }
   ],
   "source": [
    "print 'motif_length:',motif_length\n",
    "print 'n_motives:',n_motives\n",
    "print 'sequence_length:',sequence_length\n",
    "print 'n_sequences:',n_sequences\n",
    "print 'perturbation_prob:',perturbation_prob\n",
    "\n",
    "print 'n_clusters:',n_clusters\n",
    "print 'min_subarray_size:',min_subarray_size\n",
    "print 'max_subarray_size:',max_subarray_size\n",
    "print 'pos block_size:',pos_block_size\n",
    "print 'neg block_size:',neg_block_size\n",
    "\n",
    "print\n",
    "for motif in orig_motives: print motif"
   ]
  },
  {
   "cell_type": "code",
   "execution_count": 8,
   "metadata": {
    "collapsed": false
   },
   "outputs": [
    {
     "name": "stdout",
     "output_type": "stream",
     "text": [
      "Examples:\n",
      "\n",
      "Cluster: 0\n",
      "AUGCGA UACGACUGGGCUGAUCGUUUUAUCCUCUAGUAAGACGACAGUAUGCGAUGGAGAAUUGUUUAAAAGUUGUCUUUUAAUUCCCACUCUUUA\n",
      "AUACGA UUUAAGCUCCGAGGUUAGGGUAUGAGCGGUGAAAGUUAUAGCAUACGAUUCCUAUAGACGGUUGCAACGGCUCGGGAUGACAAAUCCGCC\n",
      "AUGUGA UUUUGAGCACCAUCCUGUUGCAAAACACCGGCACGCCCGCUCAUGUGAAUGCACCGCUUUACGCGCCAUAAUCGUAAAGAUCCUAUCACG\n",
      "UCGCGA CUGCCGGCCGGCUACCGAACCCUCGGCCGCAACCUCUGAGCCUCGCGAUGGGUGACGGACCUACGUCGGAGCACAUACGAACUGUUCGGA\n",
      "AUGCGA UUGAGAGGGGCAUCCUAGGCCGCCUAAUGUCCAAUAUCUUCGAUGCGAGAUAGCGGCGCCCGGUCGUGACGUGACGAAGUACUACAUUCC\n",
      "AUACGA CUUCACGCCCAGCAGGAUCAUAGCGGACCUACAUACGGGCUAAUACGAAAAACGACAGCGGUAACUGUCCCUUGUGCAGAAGUUGGGGUA\n",
      "\n",
      "Cluster: 1\n",
      "UCAGAA CACUGUGUGGAAGUUCUAUUGGUUCCGCGUCUUUGCAGAAUGUCAGAAGACCGAAUUCUUCAAUCACUCCUUCGGGCAACGAUACGCCUU\n",
      "ACAGAA AGCUAGUCCCGUAUAAGGGGUCCCUAGUUCAAUCACCGAGCUACAGAAACCCAGGUGUGCUGGGUCGCGAUGAAGAUUUUGAUCCACAGU\n",
      "ACACUA AGAUGUCUCCUGCCUACCUGACUGAAUCCUGGCUAGGAGCUCACACUAGGAGCCCACCGUGCGUGCAAACGUCCGAUUUAUCAGCAGACC\n",
      "ACAUAA AACACUUCUUAGUGAGCUCAAUUUUCUUUCUCCUAAGACUGCACAUAAAGGCGGGACCAGAUUAUCUCUACCCACAUGUUUCUGAAAACC\n",
      "ACAGAA AGGUGCAUUAUGGAGUCAAUUACCCGGGGACGAAGGGGUUGCACAGAACUGGGUGAUUGGUUGUCCCGUCGAUCGACGUGUGAGAAGGGC\n",
      "\n",
      "Cluster: 2\n",
      "UGAGCC AGCACCCUAUCACUGCCCCUAAUUCCUUGGUCGCGCUCACAUUGAGCCCGACGUGCCGAUAGUUCAGCCAACCACUUUCGUGGCAUCUUA\n",
      "UGAGCC GCGUAUACCUGUCUAAUCCCCAUUCGCGUCUAACUCACGCGCUGAGCCAAAACAGAACUCCCCUAGAAACGGGUAAGUCCGAGUGAAUGA\n",
      "UGGGCC GCACCAGACUAAACAAUGGGCAGAACCUGCCUGGCUUCACGAUGGGCCUCAGGGUAGUCUGCCUCGCGCCGCGGAUGGUCUUUGGGGCAA\n",
      "UGAGCC CUCGCGUCGGCUAGCUGGGCGGCGCUAACAGCUUUAGAGGACUGAGCCUCAGCUGCAGAGUAGCGCGCGUAAAGUACAUUUAUACAUCAA\n",
      "UGAGCC CACGCAGCCACUAGUGUUUAAUCGGACCAGAUAGUAAAUGCGUGAGCCAUUCACUAAGGCUAUUCCCUGUGCUGCUGACAGGGGGUUAGA\n"
     ]
    },
    {
     "data": {
      "image/png": "[encoded data removed]",
      "text/plain": [
       "<IPython.core.display.Image object>"
      ]
     },
     "metadata": {},
     "output_type": "display_data"
    },
    {
     "data": {
      "image/png": "[encoded data removed]",
      "text/plain": [
       "<IPython.core.display.Image object>"
      ]
     },
     "metadata": {},
     "output_type": "display_data"
    },
    {
     "data": {
      "image/png": "[encoded data removed]",
      "text/plain": [
       "<IPython.core.display.Image object>"
      ]
     },
     "metadata": {},
     "output_type": "display_data"
    }
   ],
   "source": [
    "print 'Examples:'\n",
    "\n",
    "max_chars=min(sequence_length/2,50)\n",
    "for id_clus in range(n_motives):\n",
    "    print \n",
    "    print 'Cluster: %d' % id_clus\n",
    "    for i,( h,s) in enumerate(pos_seqs[:16]):\n",
    "        id = i % n_motives\n",
    "        if id == id_clus:\n",
    "            print s[sequence_length/2-motif_length/2:sequence_length/2+motif_length/2], \n",
    "            print s[sequence_length/2-max_chars:sequence_length/2+max_chars]\n",
    "\n",
    "            \n",
    "from collections import defaultdict\n",
    "\n",
    "true_motives = defaultdict(list)\n",
    "for i,( h,s) in enumerate(pos_seqs):\n",
    "    id = i % n_motives\n",
    "    true_motives[id].append((h,s[sequence_length/2-motif_length/2:sequence_length/2+motif_length/2]))\n",
    "from eden.sequence_motif_decomposer import Weblogo\n",
    "wl= Weblogo(resolution=200,stacks_per_line=60, sequence_type='rna')\n",
    "\n",
    "for id in true_motives:\n",
    "    logo = wl.create_logo(true_motives[id])\n",
    "    from IPython.display import Image, display\n",
    "    display(Image(logo))"
   ]
  },
  {
   "cell_type": "code",
   "execution_count": 9,
   "metadata": {
    "collapsed": false,
    "scrolled": false
   },
   "outputs": [
    {
     "name": "stdout",
     "output_type": "stream",
     "text": [
      "Identified a total of 5 motives\n",
      "Average score: 0.85\n"
     ]
    },
    {
     "data": {
      "image/png": "[encoded data removed]",
      "text/plain": [
       "<IPython.core.display.Image object>"
      ]
     },
     "metadata": {
      "image/png": [
       "  - num subarrays: 346",
       "  - consensus sequence: AUGCGA",
       "  - consensus regex: AUGCGA"
      ]
     },
     "output_type": "display_data"
    },
    {
     "data": {
      "image/png": "[encoded data removed]",
      "text/plain": [
       "<IPython.core.display.Image object>"
      ]
     },
     "metadata": {
      "image/png": [
       "  - num subarrays: 193",
       "  - consensus sequence: AUGAGCC",
       "  - consensus regex: UGAGCC"
      ]
     },
     "output_type": "display_data"
    },
    {
     "data": {
      "image/png": "[encoded data removed]",
      "text/plain": [
       "<IPython.core.display.Image object>"
      ]
     },
     "metadata": {
      "image/png": [
       "  - num subarrays: 103",
       "  - consensus sequence: ACAGAAC",
       "  - consensus regex: ACAGAA(C|A)"
      ]
     },
     "output_type": "display_data"
    },
    {
     "name": "stdout",
     "output_type": "stream",
     "text": [
      "CPU times: user 991 ms, sys: 344 ms, total: 1.34 s\n",
      "Wall time: 25.1 s\n"
     ]
    }
   ],
   "source": [
    "%%time\n",
    "pos_size = len(pos_seqs)\n",
    "train_pos_seqs = pos_seqs[:pos_size/2]\n",
    "test_pos_seqs = pos_seqs[pos_size/2:]\n",
    "\n",
    "neg_size = len(neg_seqs)\n",
    "train_neg_seqs = neg_seqs[:neg_size/2]\n",
    "test_neg_seqs = neg_seqs[neg_size/2:]\n",
    "\n",
    "from eden.sequence_motif_decomposer import SequenceMotifDecomposer as SMoD\n",
    "smod=SMoD(complexity=complexity,\n",
    "          n_clusters=n_clusters,\n",
    "          min_subarray_size=min_subarray_size,\n",
    "          max_subarray_size=max_subarray_size,\n",
    "          pos_block_size=pos_block_size,\n",
    "          neg_block_size=neg_block_size)\n",
    "smod = smod.fit(train_pos_seqs, train_neg_seqs)\n",
    "motives = smod.select_motives(seqs=pos_seqs,\n",
    "                                p_value=0.05,\n",
    "                                similarity_th=0.5,\n",
    "                                min_score=4,\n",
    "                                min_freq=.5,\n",
    "                                min_cluster_size=5,\n",
    "                                regex_th=.3,\n",
    "                                sample_size=200,\n",
    "                                freq_th=None,\n",
    "                                std_th=None)\n",
    "print 'Identified a total of %d motives' % len(motives)\n",
    "avg_score = np.mean([s for s,id in select_best_match(motives, orig_motives)])\n",
    "print 'Average score: %.2f' % avg_score\n",
    "\n",
    "selected = [id for s,id in select_best_match(motives, orig_motives)]\n",
    "logos = smod.compute_logos(motives,ids=selected)\n",
    "for id in logos:\n",
    "    from IPython.display import Image, display\n",
    "    display(Image(logos[id]))"
   ]
  },
  {
   "cell_type": "markdown",
   "metadata": {},
   "source": [
    "# Full analysis"
   ]
  },
  {
   "cell_type": "code",
   "execution_count": 10,
   "metadata": {
    "collapsed": false,
    "scrolled": false
   },
   "outputs": [
    {
     "name": "stdout",
     "output_type": "stream",
     "text": [
      "Confusion matrix:\n",
      "[[1472   28]\n",
      " [ 683   65]]\n",
      "Classification:\n",
      "             precision    recall  f1-score   support\n",
      "\n",
      "         -1       0.68      0.98      0.81      1500\n",
      "          1       0.70      0.09      0.15       748\n",
      "\n",
      "avg / total       0.69      0.68      0.59      2248\n",
      "\n",
      "ROC: 0.652\n",
      "CPU times: user 1.14 s, sys: 426 ms, total: 1.57 s\n",
      "Wall time: 29.6 s\n"
     ]
    }
   ],
   "source": [
    "%%time\n",
    "\n",
    "pos_size = len(pos_seqs)\n",
    "train_pos_seqs = pos_seqs[:pos_size/2]\n",
    "test_pos_seqs = pos_seqs[pos_size/2:]\n",
    "\n",
    "neg_size = len(neg_seqs)\n",
    "train_neg_seqs = neg_seqs[:neg_size/2]\n",
    "test_neg_seqs = neg_seqs[neg_size/2:]\n",
    "\n",
    "from eden.sequence_motif_decomposer import SequenceMotifDecomposer as SMoD\n",
    "smod=SMoD(complexity=complexity,\n",
    "          n_clusters=n_clusters,\n",
    "          min_subarray_size=min_subarray_size,\n",
    "          max_subarray_size=max_subarray_size,\n",
    "          pos_block_size=pos_block_size,\n",
    "          neg_block_size=neg_block_size)\n",
    "smod = smod.fit(train_pos_seqs, train_neg_seqs)\n",
    "smod.performance(test_pos_seqs, test_neg_seqs)\n",
    "motives = smod.select_motives(seqs=pos_seqs,\n",
    "                                p_value=0.05,\n",
    "                                similarity_th=0.5,\n",
    "                                min_score=4,\n",
    "                                min_freq=.5,\n",
    "                                min_cluster_size=5,\n",
    "                                regex_th=.3,\n",
    "                                sample_size=200,\n",
    "                                freq_th=None,\n",
    "                                std_th=None)"
   ]
  },
  {
   "cell_type": "code",
   "execution_count": 11,
   "metadata": {
    "collapsed": false
   },
   "outputs": [
    {
     "data": {
      "text/markdown": [
       "### Summary: 4 motives\n",
       "<p align=\"left\"><img src=\"file:///Users/costa/Desktop/BTSync/Projects/EDeN/examples_EDeN/bioinf/motif/artificial_motif_importance.png\" style=\"width: 100%\"></p>\n",
       "<p align=\"left\"><img src=\"artificial_motif_importance.png\" style=\"width: 100%\"></p>\n",
       "  - 2 AACAGAA\n",
       "  - 1 GAUGCGA\n",
       "  - 0 AUGAGCC\n",
       "  - 13 GAGCCUU\n",
       "#### Motif id: 2\n",
       "  - num subarrays: 214\n",
       "  - consensus sequence: AACAGAA\n",
       "  - consensus regex: ACAGAA\n",
       "  - num occurrences of regex: 211\n",
       "  - freq of occurrences of regex: 0.14\n",
       "  - average location: 45.0 +- 0.0\n",
       "<p align=\"left\"><img src=\"file:///Users/costa/Desktop/BTSync/Projects/EDeN/examples_EDeN/bioinf/motif/artificial_motif_logo_cl_2.png\"></p>\n",
       "<p align=\"left\"><img src=\"artificial_motif_logo_cl_2.png\"></p>\n",
       "<p align=\"left\"><img src=\"file:///Users/costa/Desktop/BTSync/Projects/EDeN/examples_EDeN/bioinf/motif/artificial_motif_loc_2.png\" style=\"width: 100%\"></p>\n",
       "<p align=\"left\"><img src=\"artificial_motif_loc_2.png\" style=\"width: 100%\"></p>\n",
       "  - num co-occurences 2 GAGCCUU vs 0 UGAGCC: 10\n",
       "<p align=\"left\"><img src=\"file:///Users/costa/Desktop/BTSync/Projects/EDeN/examples_EDeN/bioinf/motif/artificial_motif_dist_2_vs_0.png\" style=\"width: 100%\"></p>\n",
       "<p align=\"left\"><img src=\"artificial_motif_dist_2_vs_0.png\" style=\"width: 100%\"></p>\n",
       "  - num co-occurences 2 GAGCCUU vs 1 AUGCGA: 12\n",
       "<p align=\"left\"><img src=\"file:///Users/costa/Desktop/BTSync/Projects/EDeN/examples_EDeN/bioinf/motif/artificial_motif_dist_2_vs_1.png\" style=\"width: 100%\"></p>\n",
       "<p align=\"left\"><img src=\"artificial_motif_dist_2_vs_1.png\" style=\"width: 100%\"></p>\n",
       "  - num co-occurences 2 GAGCCUU vs 13 GAGCCUU: 0\n",
       "____________________________________________________________________________________________________\n",
       "#### Motif id: 1\n",
       "  - num subarrays: 291\n",
       "  - consensus sequence: GAUGCGA\n",
       "  - consensus regex: AUGCGA\n",
       "  - num occurrences of regex: 209\n",
       "  - freq of occurrences of regex: 0.14\n",
       "  - average location: 45.0 +- 0.0\n",
       "<p align=\"left\"><img src=\"file:///Users/costa/Desktop/BTSync/Projects/EDeN/examples_EDeN/bioinf/motif/artificial_motif_logo_cl_1.png\"></p>\n",
       "<p align=\"left\"><img src=\"artificial_motif_logo_cl_1.png\"></p>\n",
       "<p align=\"left\"><img src=\"file:///Users/costa/Desktop/BTSync/Projects/EDeN/examples_EDeN/bioinf/motif/artificial_motif_loc_1.png\" style=\"width: 100%\"></p>\n",
       "<p align=\"left\"><img src=\"artificial_motif_loc_1.png\" style=\"width: 100%\"></p>\n",
       "  - num co-occurences 1 GAGCCUU vs 0 UGAGCC: 21\n",
       "<p align=\"left\"><img src=\"file:///Users/costa/Desktop/BTSync/Projects/EDeN/examples_EDeN/bioinf/motif/artificial_motif_dist_1_vs_0.png\" style=\"width: 100%\"></p>\n",
       "<p align=\"left\"><img src=\"artificial_motif_dist_1_vs_0.png\" style=\"width: 100%\"></p>\n",
       "  - num co-occurences 1 GAGCCUU vs 2 ACAGAA: 12\n",
       "<p align=\"left\"><img src=\"file:///Users/costa/Desktop/BTSync/Projects/EDeN/examples_EDeN/bioinf/motif/artificial_motif_dist_1_vs_2.png\" style=\"width: 100%\"></p>\n",
       "<p align=\"left\"><img src=\"artificial_motif_dist_1_vs_2.png\" style=\"width: 100%\"></p>\n",
       "  - num co-occurences 1 GAGCCUU vs 13 GAGCCUU: 2\n",
       "<p align=\"left\"><img src=\"file:///Users/costa/Desktop/BTSync/Projects/EDeN/examples_EDeN/bioinf/motif/artificial_motif_dist_1_vs_13.png\" style=\"width: 100%\"></p>\n",
       "<p align=\"left\"><img src=\"artificial_motif_dist_1_vs_13.png\" style=\"width: 100%\"></p>\n",
       "____________________________________________________________________________________________________\n",
       "#### Motif id: 0\n",
       "  - num subarrays: 245\n",
       "  - consensus sequence: AUGAGCC\n",
       "  - consensus regex: UGAGCC\n",
       "  - num occurrences of regex: 208\n",
       "  - freq of occurrences of regex: 0.14\n",
       "  - average location: 45.0 +- 0.0\n",
       "<p align=\"left\"><img src=\"file:///Users/costa/Desktop/BTSync/Projects/EDeN/examples_EDeN/bioinf/motif/artificial_motif_logo_cl_0.png\"></p>\n",
       "<p align=\"left\"><img src=\"artificial_motif_logo_cl_0.png\"></p>\n",
       "<p align=\"left\"><img src=\"file:///Users/costa/Desktop/BTSync/Projects/EDeN/examples_EDeN/bioinf/motif/artificial_motif_loc_0.png\" style=\"width: 100%\"></p>\n",
       "<p align=\"left\"><img src=\"artificial_motif_loc_0.png\" style=\"width: 100%\"></p>\n",
       "  - num co-occurences 0 GAGCCUU vs 1 AUGCGA: 21\n",
       "<p align=\"left\"><img src=\"file:///Users/costa/Desktop/BTSync/Projects/EDeN/examples_EDeN/bioinf/motif/artificial_motif_dist_0_vs_1.png\" style=\"width: 100%\"></p>\n",
       "<p align=\"left\"><img src=\"artificial_motif_dist_0_vs_1.png\" style=\"width: 100%\"></p>\n",
       "  - num co-occurences 0 GAGCCUU vs 2 ACAGAA: 10\n",
       "<p align=\"left\"><img src=\"file:///Users/costa/Desktop/BTSync/Projects/EDeN/examples_EDeN/bioinf/motif/artificial_motif_dist_0_vs_2.png\" style=\"width: 100%\"></p>\n",
       "<p align=\"left\"><img src=\"artificial_motif_dist_0_vs_2.png\" style=\"width: 100%\"></p>\n",
       "  - num co-occurences 0 GAGCCUU vs 13 GAGCCUU: 1\n",
       "<p align=\"left\"><img src=\"file:///Users/costa/Desktop/BTSync/Projects/EDeN/examples_EDeN/bioinf/motif/artificial_motif_dist_0_vs_13.png\" style=\"width: 100%\"></p>\n",
       "<p align=\"left\"><img src=\"artificial_motif_dist_0_vs_13.png\" style=\"width: 100%\"></p>\n",
       "____________________________________________________________________________________________________\n",
       "#### Motif id: 13\n",
       "  - num subarrays: 10\n",
       "  - consensus sequence: GAGCCUU\n",
       "  - consensus regex: GAGCCUU\n",
       "  - num occurrences of regex: 25\n",
       "  - freq of occurrences of regex: 0.02\n",
       "  - average location: 46.0 +- 0.0\n",
       "<p align=\"left\"><img src=\"file:///Users/costa/Desktop/BTSync/Projects/EDeN/examples_EDeN/bioinf/motif/artificial_motif_logo_cl_13.png\"></p>\n",
       "<p align=\"left\"><img src=\"artificial_motif_logo_cl_13.png\"></p>\n",
       "<p align=\"left\"><img src=\"file:///Users/costa/Desktop/BTSync/Projects/EDeN/examples_EDeN/bioinf/motif/artificial_motif_loc_13.png\" style=\"width: 100%\"></p>\n",
       "<p align=\"left\"><img src=\"artificial_motif_loc_13.png\" style=\"width: 100%\"></p>\n",
       "  - num co-occurences 13 GAGCCUU vs 0 UGAGCC: 1\n",
       "<p align=\"left\"><img src=\"file:///Users/costa/Desktop/BTSync/Projects/EDeN/examples_EDeN/bioinf/motif/artificial_motif_dist_13_vs_0.png\" style=\"width: 100%\"></p>\n",
       "<p align=\"left\"><img src=\"artificial_motif_dist_13_vs_0.png\" style=\"width: 100%\"></p>\n",
       "  - num co-occurences 13 GAGCCUU vs 1 AUGCGA: 2\n",
       "<p align=\"left\"><img src=\"file:///Users/costa/Desktop/BTSync/Projects/EDeN/examples_EDeN/bioinf/motif/artificial_motif_dist_13_vs_1.png\" style=\"width: 100%\"></p>\n",
       "<p align=\"left\"><img src=\"artificial_motif_dist_13_vs_1.png\" style=\"width: 100%\"></p>\n",
       "  - num co-occurences 13 GAGCCUU vs 2 ACAGAA: 0\n",
       "____________________________________________________________________________________________________"
      ],
      "text/plain": [
       "<IPython.core.display.Markdown object>"
      ]
     },
     "execution_count": 11,
     "metadata": {},
     "output_type": "execute_result"
    }
   ],
   "source": [
    "from IPython import display\n",
    "display.Markdown(data=smod.report(pos_seqs, all_seqs, motives, fname='artificial_motif'))"
   ]
  },
  {
   "cell_type": "markdown",
   "metadata": {},
   "source": [
    "---"
   ]
  }
 ],
 "metadata": {
  "kernelspec": {
   "display_name": "Python 2",
   "language": "python",
   "name": "python2"
  },
  "language_info": {
   "codemirror_mode": {
    "name": "ipython",
    "version": 2
   },
   "file_extension": ".py",
   "mimetype": "text/x-python",
   "name": "python",
   "nbconvert_exporter": "python",
   "pygments_lexer": "ipython2",
   "version": "2.7.12"
  }
 },
 "nbformat": 4,
 "nbformat_minor": 0
}
