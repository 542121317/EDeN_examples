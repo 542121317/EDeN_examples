{
 "cells": [
  {
   "cell_type": "code",
   "execution_count": 16,
   "metadata": {
    "collapsed": false
   },
   "outputs": [
    {
     "name": "stdout",
     "output_type": "stream",
     "text": [
      "The autoreload extension is already loaded. To reload it, use:\n",
      "  %reload_ext autoreload\n"
     ]
    },
    {
     "data": {
      "text/html": [
       "<style>.container { width:95% !important; }</style>"
      ],
      "text/plain": [
       "<IPython.core.display.HTML object>"
      ]
     },
     "execution_count": 16,
     "metadata": {},
     "output_type": "execute_result"
    }
   ],
   "source": [
    "%matplotlib inline\n",
    "%load_ext autoreload\n",
    "%autoreload 2\n",
    "import logging\n",
    "from eden.util import configure_logging\n",
    "configure_logging(logging.getLogger(), verbosity=1)\n",
    "from IPython.core.display import HTML\n",
    "HTML('<style>.container { width:95% !important; }</style>')"
   ]
  },
  {
   "cell_type": "code",
   "execution_count": 17,
   "metadata": {
    "collapsed": false
   },
   "outputs": [],
   "source": [
    "from eden.util.NeedlemanWunsh import edit_distance\n",
    "\n",
    "def select_best_match(motives, orig_motives):\n",
    "    for i, orig_motif in enumerate(orig_motives):\n",
    "        max_score = 0\n",
    "        max_cluster_id = 0\n",
    "        max_motif = None\n",
    "        for cluster_id in motives:\n",
    "            consensus_seq = motives[cluster_id]['consensus_seq']\n",
    "            score = edit_distance(orig_motif, consensus_seq)\n",
    "            score = 2 * float(score) / (len(orig_motif)+len(consensus_seq))\n",
    "            if score > max_score:\n",
    "                max_score = score\n",
    "                max_cluster_id = cluster_id\n",
    "        yield max_score, max_cluster_id"
   ]
  },
  {
   "cell_type": "code",
   "execution_count": 18,
   "metadata": {
    "collapsed": false
   },
   "outputs": [],
   "source": [
    "% matplotlib inline\n",
    "import pylab as plt \n",
    "import numpy as np\n",
    "from sklearn.metrics import roc_auc_score\n",
    "\n",
    "def plot_cumulative_score(smod, pos_seqs, sequence_length=None, motif_length=None):\n",
    "    sig = None\n",
    "    for scores in smod.score(pos_seqs):\n",
    "        if sig is None:\n",
    "            sig = np.array(scores)\n",
    "        else:\n",
    "            sig += np.array(scores)\n",
    "    sig=np.array(sig)\n",
    "    \n",
    "    truth = np.zeros(len(sig))\n",
    "    truth[sequence_length/2-motif_length/2:sequence_length/2+motif_length/2]=1\n",
    "    roc = roc_auc_score(truth, sig)\n",
    "    print 'Cumulative score ROC: %.2f' % roc\n",
    "\n",
    "\n",
    "    plt.figure(figsize=(16,3))\n",
    "    sigp = np.copy(sig)\n",
    "    sigp[sigp<0]=0\n",
    "    plt.bar(range(len(sigp)), sigp, alpha=0.3, color='g')\n",
    "    sign = np.copy(sig)\n",
    "    sign[sign>=0]=0\n",
    "    plt.bar(range(len(sign)), sign, alpha=0.3, color='r')\n",
    "    plt.plot((sequence_length/2-motif_length/2, sequence_length/2-motif_length/2), (min(sig), max(sig)), 'k-', lw=4)\n",
    "    plt.plot((sequence_length/2+motif_length/2, sequence_length/2+motif_length/2), (min(sig), max(sig)), 'k-', lw=4)\n",
    "    plt.xticks(range(len(sig)))\n",
    "    plt.grid()\n",
    "    plt.show()"
   ]
  },
  {
   "cell_type": "code",
   "execution_count": 19,
   "metadata": {
    "collapsed": false
   },
   "outputs": [],
   "source": [
    "#code for making artificial dataset\n",
    "import random\n",
    "import  numpy as np\n",
    "\n",
    "def random_string(length,alphabet_list):\n",
    "    rand_str = ''.join(random.choice(alphabet_list) for i in range(length))\n",
    "    return rand_str\n",
    "\n",
    "def perturb(seed,alphabet_list,perturbation_prob=0.5):\n",
    "    seq=''\n",
    "    for c in seed:\n",
    "        if random.random() < perturbation_prob: \n",
    "            c = random.choice(alphabet_list)\n",
    "        seq += c\n",
    "    return seq\n",
    "\n",
    "def create_motives(alphabet='ACGU', motif_length=10):\n",
    "    motives = []\n",
    "    for character in alphabet:\n",
    "        motif = [character]*motif_length\n",
    "        motives.append(''.join(motif))\n",
    "    return motives\n",
    "\n",
    "def make_artificial_dataset(alphabet='ACGU', \n",
    "                            motif_length=10,\n",
    "                            sequence_length=100, \n",
    "                            n_sequences=1000, \n",
    "                            n_motives=2, \n",
    "                            perturbation_prob=0.2):\n",
    "    alphabet_list=[c for c in alphabet]\n",
    "    motives = [random_string(motif_length, alphabet_list) for i in range(n_motives)]\n",
    "        \n",
    "    flanking_length = (sequence_length - motif_length ) / 2\n",
    "    n_seq_per_motif = n_sequences / n_motives\n",
    "\n",
    "    counter=0\n",
    "    seqs=[]\n",
    "    targets=[]\n",
    "    for i in range(n_seq_per_motif):\n",
    "        for j in range(n_motives):\n",
    "            left_flanking = random_string(flanking_length,alphabet_list)\n",
    "            right_flanking = random_string(flanking_length,alphabet_list)\n",
    "            noisy_motif = perturb(motives[j],alphabet_list,perturbation_prob)\n",
    "            seq = left_flanking + noisy_motif + right_flanking\n",
    "            seqs.append(('ID_%.3d'%counter,seq))\n",
    "            targets.append(j)\n",
    "            counter += 1\n",
    "    return seqs, np.array(targets), motives"
   ]
  },
  {
   "cell_type": "code",
   "execution_count": 20,
   "metadata": {
    "collapsed": false
   },
   "outputs": [],
   "source": [
    "motif_length=6\n",
    "n_motives=3\n",
    "sequence_length=500\n",
    "n_sequences=2000*n_motives\n",
    "perturbation_prob=0.2\n",
    "\n",
    "pos_seqs, targets, orig_motives = make_artificial_dataset('ACGU',motif_length,sequence_length,n_sequences,n_motives,perturbation_prob)"
   ]
  },
  {
   "cell_type": "code",
   "execution_count": 21,
   "metadata": {
    "collapsed": true
   },
   "outputs": [],
   "source": [
    "from eden.modifier.seq import seq_to_seq, shuffle_modifier\n",
    "neg_seqs = seq_to_seq(pos_seqs, modifier=shuffle_modifier, times=2, order=1)\n",
    "neg_seqs = list(neg_seqs)"
   ]
  },
  {
   "cell_type": "code",
   "execution_count": 22,
   "metadata": {
    "collapsed": false
   },
   "outputs": [],
   "source": [
    "complexity=3\n",
    "n_clusters=n_motives*5\n",
    "min_subarray_size=motif_length-2\n",
    "max_subarray_size=motif_length+2\n",
    "pos_block_size=len(pos_seqs)/8\n",
    "neg_block_size=len(neg_seqs)/8"
   ]
  },
  {
   "cell_type": "code",
   "execution_count": 23,
   "metadata": {
    "collapsed": false
   },
   "outputs": [
    {
     "name": "stdout",
     "output_type": "stream",
     "text": [
      "motif_length: 6\n",
      "n_motives: 3\n",
      "sequence_length: 500\n",
      "n_sequences: 6000\n",
      "perturbation_prob: 0.2\n",
      "n_clusters: 15\n",
      "min_subarray_size: 4\n",
      "max_subarray_size: 8\n",
      "pos block_size: 750\n",
      "neg block_size: 1500\n",
      "\n",
      "CAUUGC\n",
      "CCGGUU\n",
      "GAGAAG\n"
     ]
    }
   ],
   "source": [
    "print 'motif_length:',motif_length\n",
    "print 'n_motives:',n_motives\n",
    "print 'sequence_length:',sequence_length\n",
    "print 'n_sequences:',n_sequences\n",
    "print 'perturbation_prob:',perturbation_prob\n",
    "\n",
    "print 'n_clusters:',n_clusters\n",
    "print 'min_subarray_size:',min_subarray_size\n",
    "print 'max_subarray_size:',max_subarray_size\n",
    "print 'pos block_size:',pos_block_size\n",
    "print 'neg block_size:',neg_block_size\n",
    "\n",
    "print\n",
    "for motif in orig_motives: print motif"
   ]
  },
  {
   "cell_type": "code",
   "execution_count": 24,
   "metadata": {
    "collapsed": false
   },
   "outputs": [
    {
     "name": "stdout",
     "output_type": "stream",
     "text": [
      "Examples:\n",
      "\n",
      "Cluster: 0\n",
      "CAUUGC UGUACAGGACGGAUAGCAGUUGGCCACAUUGUUUGAUCCAGAAGGGACAUUGCACGCCAUUUUCUACAGGUGCGCGGGGCCGCGACCGUCCUUUUGGUGG\n",
      "CAGUGA UUGUAUAGUCGGCUUUCGGUUUUUACACAUUUAAUAACAGUACGAACCAGUGACGCUCAGCCGAAGUACAGCGCUCACGCGAGGUAUACCGUGCAUGAGU\n",
      "GAUUUC CUCGGGCUGAAGACCUGCGUCCGGAAUAUUGUUGGUGAGAUAUCGCCGAUUUCGUGCACGGAAAGCAAGGCUUAAUGAGAAUUAAUGGAAAAGGUGGUAG\n",
      "CAUUGC CCCAACGGUUAUAGGAUCUUGGUGGACUCGUUUAAUUAAGUGGGCCCCAUUGCUCAAUCUUCAGGUUACUGUGCUACAUUACUUAGUUGUGAAAAAAUGA\n",
      "AAUUGC UACCCAGGCUGUAUCACAUGUGGACAGGAUGCGUGAGAUGCAUGCGCAAUUGCUUUAUUAAAGCCCACGGGAGAAUUUGCUCACCUAUCGCUCGCAAACA\n",
      "CUUUGC GGAGGUGAAUACAGAGUGGACGGGCAAUACACGCAAAGCUCAAAGUUCUUUGCGGGCACCCCAGGUUAACUCUAGCGUUGUAUUGAACCACAACGGAACA\n",
      "\n",
      "Cluster: 1\n",
      "CCGGUU GACGGCUUUUCCCACCGCUUAAUCGAUGGUCCUGUAUUUCCCUAAUGCCGGUUGUUUGUGUUUGAACUCGCUUUCCAACUGCCGGAGGGGAAAGGCACCU\n",
      "CUGGUU CGGUAGUUACAACCGCUGCUGGAAGUACGUGAAGUCUCCGGGCACAGCUGGUUGAUAGCGCGCGAUACUUGGUACUCACAAAUAGUAAGCGCAAUGACAG\n",
      "GCUGUU UACGUGCCGACGGCAAGUUAAAGUAAGGUGAGACGUAUCGUGGAGAGGCUGUUGACCGUGGCACUAUAGUUUGGUCCUGUUGUUUUCGUCCCCGGAUAGC\n",
      "ACGGGU CCUCACGGCCAUCCGUGUAAGGAAAAGUGCUCGGCUCGGUCGAGCGUACGGGUGGGGGAUAGGCAUGACGAUCAUAACAUCUGCAGUGACUUCGCACCAG\n",
      "CCGGUU CCAGAGAGACCUAUACCCGAACGCACUCCAGCUUAAGUGUGAAUGCCCCGGUUGCAGGAUAACAGUAUCCUGUUAAGACUUGCCCAGCGUAUGACGGGGC\n",
      "\n",
      "Cluster: 2\n",
      "GAGAAG UUUUUCAACACGCCAUAGGAAUUCGAUCUCGGCUAUACUCUUGCAAGGAGAAGGAUUUGAAGGCCGUGUUAGCCUUCUUUGAGGGGUGCUCGAAGCACAU\n",
      "GAGAUG CCUAGUCAAGGUUGGGAUCGAAUUGACCGUCGUGUGGCCGCGAAGAAGAGAUGACGCUUAGGCCCUCAUCAGCUGCUUACUCUCUAUAUCUAGAACGCCU\n",
      "GGGUAG AGCCCCUCACGCUGUGGGGUUCAACAAAUAAUUGUGCUUUUAGGCUAGGGUAGAAGGAGCUAUCUAGAAACUAGCUAAGUCCGCGCCCCAUGUCGACAUC\n",
      "GCGAAG UAUGGGUAGCUAUAUCCUCUAGCUCGGCCAUGCCCAUAUAUUUAACAGCGAAGUAAGACUUCUUAUAUCCGGUUCUAGUCACACAAAGCAGCGUUGACAU\n",
      "GAGAAC CUUCGUCUCCUCUGGCAUAAGUAACCGAUCAGGAACUAAGUGUUAACGAGAACCUGUUCGGAACAAACAGCUGUUGCAGAGAAAAUCGGGUUCCAAUCUC\n"
     ]
    },
    {
     "data": {
      "image/png": "[encoded data removed]",
      "text/plain": [
       "<IPython.core.display.Image object>"
      ]
     },
     "metadata": {},
     "output_type": "display_data"
    },
    {
     "data": {
      "image/png": "[encoded data removed]",
      "text/plain": [
       "<IPython.core.display.Image object>"
      ]
     },
     "metadata": {},
     "output_type": "display_data"
    },
    {
     "data": {
      "image/png": "[encoded data removed]",
      "text/plain": [
       "<IPython.core.display.Image object>"
      ]
     },
     "metadata": {},
     "output_type": "display_data"
    }
   ],
   "source": [
    "print 'Examples:'\n",
    "\n",
    "max_chars=50\n",
    "for id_clus in range(n_motives):\n",
    "    print \n",
    "    print 'Cluster: %d' % id_clus\n",
    "    for i,( h,s) in enumerate(pos_seqs[:16]):\n",
    "        id = i % n_motives\n",
    "        if id == id_clus:\n",
    "            print s[sequence_length/2-motif_length/2:sequence_length/2+motif_length/2], s[sequence_length/2-max_chars:sequence_length/2+max_chars]\n",
    "\n",
    "            \n",
    "from collections import defaultdict\n",
    "\n",
    "true_motives = defaultdict(list)\n",
    "for i,( h,s) in enumerate(pos_seqs):\n",
    "    id = i % n_motives\n",
    "    true_motives[id].append((h,s[sequence_length/2-motif_length/2:sequence_length/2+motif_length/2]))\n",
    "from eden.sequence_motif_decomposer import Weblogo\n",
    "wl= Weblogo(resolution=200,stacks_per_line=60, sequence_type='rna')\n",
    "\n",
    "for id in true_motives:\n",
    "    logo = wl.create_logo(true_motives[id])\n",
    "    from IPython.display import Image, display\n",
    "    display(Image(logo))"
   ]
  },
  {
   "cell_type": "code",
   "execution_count": 25,
   "metadata": {
    "collapsed": false,
    "scrolled": false
   },
   "outputs": [
    {
     "name": "stdout",
     "output_type": "stream",
     "text": [
      "Identified a total of 2 motives\n",
      "Average score: 0.65\n"
     ]
    },
    {
     "data": {
      "image/png": "[encoded data removed]",
      "text/plain": [
       "<IPython.core.display.Image object>"
      ]
     },
     "metadata": {
      "image/png": [
       "- num subarrays: 1880",
       "- consensus sequence: GAGAAGA",
       "- consensus regex: GAGAAGA"
      ]
     },
     "output_type": "display_data"
    },
    {
     "data": {
      "image/png": "[encoded data removed]",
      "text/plain": [
       "<IPython.core.display.Image object>"
      ]
     },
     "metadata": {
      "image/png": [
       "- num subarrays: 1120",
       "- consensus sequence: CAUUGC",
       "- consensus regex: CAUUGC"
      ]
     },
     "output_type": "display_data"
    },
    {
     "name": "stdout",
     "output_type": "stream",
     "text": [
      "CPU times: user 5.25 s, sys: 1.37 s, total: 6.62 s\n",
      "Wall time: 13min 53s\n"
     ]
    }
   ],
   "source": [
    "%%time\n",
    "pos_size = len(pos_seqs)\n",
    "train_pos_seqs = pos_seqs[:pos_size/2]\n",
    "test_pos_seqs = pos_seqs[pos_size/2:]\n",
    "\n",
    "neg_size = len(neg_seqs)\n",
    "train_neg_seqs = neg_seqs[:neg_size/2]\n",
    "test_neg_seqs = neg_seqs[neg_size/2:]\n",
    "\n",
    "from eden.sequence_motif_decomposer import SequenceMotifDecomposer as SMoD\n",
    "smod=SMoD(complexity=complexity,\n",
    "          n_clusters=n_clusters,\n",
    "          min_subarray_size=min_subarray_size,\n",
    "          max_subarray_size=max_subarray_size,\n",
    "          pos_block_size=pos_block_size,\n",
    "          neg_block_size=neg_block_size)\n",
    "smod = smod.fit(train_pos_seqs, train_neg_seqs)\n",
    "motives = smod.select_motives(seqs=pos_seqs,\n",
    "                                p_value=0.05,\n",
    "                                similarity_th=0.5,\n",
    "                                min_score=4,\n",
    "                                min_freq=.5,\n",
    "                                min_cluster_size=5,\n",
    "                                regex_th=.3,\n",
    "                                sample_size=200,\n",
    "                                freq_th=None,\n",
    "                                std_th=None)\n",
    "print 'Identified a total of %d motives' % len(motives)\n",
    "avg_score = np.mean([s for s,id in select_best_match(motives, orig_motives)])\n",
    "print 'Average score: %.2f' % avg_score\n",
    "\n",
    "selected = [id for s,id in select_best_match(motives, orig_motives)]\n",
    "logos = smod.compute_logos(motives,ids=selected)\n",
    "for id in logos:\n",
    "    from IPython.display import Image, display\n",
    "    display(Image(logos[id]))"
   ]
  },
  {
   "cell_type": "markdown",
   "metadata": {},
   "source": [
    "# Full analysis"
   ]
  },
  {
   "cell_type": "code",
   "execution_count": 26,
   "metadata": {
    "collapsed": false,
    "scrolled": false
   },
   "outputs": [
    {
     "name": "stdout",
     "output_type": "stream",
     "text": [
      "Confusion matrix:\n",
      "[[5319  681]\n",
      " [2477  523]]\n",
      "Classification:\n",
      "             precision    recall  f1-score   support\n",
      "\n",
      "         -1       0.68      0.89      0.77      6000\n",
      "          1       0.43      0.17      0.25      3000\n",
      "\n",
      "avg / total       0.60      0.65      0.60      9000\n",
      "\n",
      "ROC: 0.573\n",
      "Cumulative score ROC: 1.00\n"
     ]
    },
    {
     "data": {
      "image/png": "[encoded data removed]",
      "text/plain": [
       "<matplotlib.figure.Figure at 0x10eb23ad0>"
      ]
     },
     "metadata": {},
     "output_type": "display_data"
    },
    {
     "name": "stdout",
     "output_type": "stream",
     "text": [
      "CPU times: user 16.2 s, sys: 2.18 s, total: 18.4 s\n",
      "Wall time: 24min 37s\n"
     ]
    }
   ],
   "source": [
    "%%time\n",
    "\n",
    "pos_size = len(pos_seqs)\n",
    "train_pos_seqs = pos_seqs[:pos_size/2]\n",
    "test_pos_seqs = pos_seqs[pos_size/2:]\n",
    "\n",
    "neg_size = len(neg_seqs)\n",
    "train_neg_seqs = neg_seqs[:neg_size/2]\n",
    "test_neg_seqs = neg_seqs[neg_size/2:]\n",
    "\n",
    "from eden.sequence_motif_decomposer import SequenceMotifDecomposer as SMoD\n",
    "smod=SMoD(complexity=complexity,\n",
    "          n_clusters=n_clusters,\n",
    "          min_subarray_size=min_subarray_size,\n",
    "          max_subarray_size=max_subarray_size,\n",
    "          pos_block_size=pos_block_size,\n",
    "          neg_block_size=neg_block_size)\n",
    "smod = smod.fit(train_pos_seqs, train_neg_seqs)\n",
    "smod.performance(test_pos_seqs, test_neg_seqs)\n",
    "plot_cumulative_score(smod, test_pos_seqs, sequence_length=sequence_length, motif_length=motif_length)\n",
    "motives = smod.select_motives(seqs=pos_seqs,\n",
    "                                p_value=0.05,\n",
    "                                similarity_th=0.5,\n",
    "                                min_score=4,\n",
    "                                min_freq=.5,\n",
    "                                min_cluster_size=5,\n",
    "                                regex_th=.3,\n",
    "                                sample_size=200,\n",
    "                                freq_th=None,\n",
    "                                std_th=None)"
   ]
  },
  {
   "cell_type": "code",
   "execution_count": 28,
   "metadata": {
    "collapsed": false
   },
   "outputs": [
    {
     "data": {
      "text/markdown": [
       "Motif id: 3\n",
       "- num subarrays: 55\n",
       "- consensus sequence: CCGGUUG\n",
       "- consensus regex: CCGGUUG\n",
       "- num occurrences of regex: 372\n",
       "- freq of occurrences of regex: 0.06\n",
       "- average location: 250.0 +- 11.5\n",
       "<p align=\"left\"><img src=\"file:///Users/costa/Desktop/BTSync/Projects/EDeN/examples_EDeN/bioinf/motif/motif_logo_cl_3.png\"></p>\n",
       "<p align=\"left\"><img src=\"motif_logo_cl_3.png\"></p>\n",
       "<p align=\"left\"><img src=\"file:///Users/costa/Desktop/BTSync/Projects/EDeN/examples_EDeN/bioinf/motif/motif_loc_3.png\" style=\"width: 100%\"></p>\n",
       "<p align=\"left\"><img src=\"motif_loc_3.png\" style=\"width: 100%\"></p>\n",
       "- num co-occurences of motif 3 vs 0: 10\n",
       "<p align=\"left\"><img src=\"file:///Users/costa/Desktop/BTSync/Projects/EDeN/examples_EDeN/bioinf/motif/motif_dist_3_vs_0.png\" style=\"width: 100%\"></p>\n",
       "<p align=\"left\"><img src=\"motif_dist_3_vs_0.png\" style=\"width: 100%\"></p>\n",
       "- num co-occurences of motif 3 vs 1: 6\n",
       "<p align=\"left\"><img src=\"file:///Users/costa/Desktop/BTSync/Projects/EDeN/examples_EDeN/bioinf/motif/motif_dist_3_vs_1.png\" style=\"width: 100%\"></p>\n",
       "<p align=\"left\"><img src=\"motif_dist_3_vs_1.png\" style=\"width: 100%\"></p>\n",
       "- num co-occurences of motif 3 vs 11: 0\n",
       "<p align=\"left\"><img src=\"file:///Users/costa/Desktop/BTSync/Projects/EDeN/examples_EDeN/bioinf/motif/motif_dist_3_vs_11.png\" style=\"width: 100%\"></p>\n",
       "<p align=\"left\"><img src=\"motif_dist_3_vs_11.png\" style=\"width: 100%\"></p>\n",
       "____________________________________________________________________________________________________\n",
       "Motif id: 0\n",
       "- num subarrays: 1372\n",
       "- consensus sequence: GGAGAAGG\n",
       "- consensus regex: GAGAAGG\n",
       "- num occurrences of regex: 363\n",
       "- freq of occurrences of regex: 0.06\n",
       "- average location: 250.0 +- 0.0\n",
       "<p align=\"left\"><img src=\"file:///Users/costa/Desktop/BTSync/Projects/EDeN/examples_EDeN/bioinf/motif/motif_logo_cl_0.png\"></p>\n",
       "<p align=\"left\"><img src=\"motif_logo_cl_0.png\"></p>\n",
       "<p align=\"left\"><img src=\"file:///Users/costa/Desktop/BTSync/Projects/EDeN/examples_EDeN/bioinf/motif/motif_loc_0.png\" style=\"width: 100%\"></p>\n",
       "<p align=\"left\"><img src=\"motif_loc_0.png\" style=\"width: 100%\"></p>\n",
       "- num co-occurences of motif 0 vs 1: 110\n",
       "<p align=\"left\"><img src=\"file:///Users/costa/Desktop/BTSync/Projects/EDeN/examples_EDeN/bioinf/motif/motif_dist_0_vs_1.png\" style=\"width: 100%\"></p>\n",
       "<p align=\"left\"><img src=\"motif_dist_0_vs_1.png\" style=\"width: 100%\"></p>\n",
       "- num co-occurences of motif 0 vs 3: 10\n",
       "<p align=\"left\"><img src=\"file:///Users/costa/Desktop/BTSync/Projects/EDeN/examples_EDeN/bioinf/motif/motif_dist_0_vs_3.png\" style=\"width: 100%\"></p>\n",
       "<p align=\"left\"><img src=\"motif_dist_0_vs_3.png\" style=\"width: 100%\"></p>\n",
       "- num co-occurences of motif 0 vs 11: 2\n",
       "<p align=\"left\"><img src=\"file:///Users/costa/Desktop/BTSync/Projects/EDeN/examples_EDeN/bioinf/motif/motif_dist_0_vs_11.png\" style=\"width: 100%\"></p>\n",
       "<p align=\"left\"><img src=\"motif_dist_0_vs_11.png\" style=\"width: 100%\"></p>\n",
       "____________________________________________________________________________________________________\n",
       "Motif id: 1\n",
       "- num subarrays: 797\n",
       "- consensus sequence: GCAUUGCC\n",
       "- consensus regex: CAUUGCC\n",
       "- num occurrences of regex: 344\n",
       "- freq of occurrences of regex: 0.06\n",
       "- average location: 250.0 +- 22.5\n",
       "<p align=\"left\"><img src=\"file:///Users/costa/Desktop/BTSync/Projects/EDeN/examples_EDeN/bioinf/motif/motif_logo_cl_1.png\"></p>\n",
       "<p align=\"left\"><img src=\"motif_logo_cl_1.png\"></p>\n",
       "<p align=\"left\"><img src=\"file:///Users/costa/Desktop/BTSync/Projects/EDeN/examples_EDeN/bioinf/motif/motif_loc_1.png\" style=\"width: 100%\"></p>\n",
       "<p align=\"left\"><img src=\"motif_loc_1.png\" style=\"width: 100%\"></p>\n",
       "- num co-occurences of motif 1 vs 0: 110\n",
       "<p align=\"left\"><img src=\"file:///Users/costa/Desktop/BTSync/Projects/EDeN/examples_EDeN/bioinf/motif/motif_dist_1_vs_0.png\" style=\"width: 100%\"></p>\n",
       "<p align=\"left\"><img src=\"motif_dist_1_vs_0.png\" style=\"width: 100%\"></p>\n",
       "- num co-occurences of motif 1 vs 3: 6\n",
       "<p align=\"left\"><img src=\"file:///Users/costa/Desktop/BTSync/Projects/EDeN/examples_EDeN/bioinf/motif/motif_dist_1_vs_3.png\" style=\"width: 100%\"></p>\n",
       "<p align=\"left\"><img src=\"motif_dist_1_vs_3.png\" style=\"width: 100%\"></p>\n",
       "- num co-occurences of motif 1 vs 11: 2\n",
       "<p align=\"left\"><img src=\"file:///Users/costa/Desktop/BTSync/Projects/EDeN/examples_EDeN/bioinf/motif/motif_dist_1_vs_11.png\" style=\"width: 100%\"></p>\n",
       "<p align=\"left\"><img src=\"motif_dist_1_vs_11.png\" style=\"width: 100%\"></p>\n",
       "____________________________________________________________________________________________________\n",
       "Motif id: 11\n",
       "- num subarrays: 26\n",
       "- consensus sequence: AACCGGUU\n",
       "- consensus regex: AACCGGUU\n",
       "- num occurrences of regex: 102\n",
       "- freq of occurrences of regex: 0.02\n",
       "- average location: 249.0 +- 27.0\n",
       "<p align=\"left\"><img src=\"file:///Users/costa/Desktop/BTSync/Projects/EDeN/examples_EDeN/bioinf/motif/motif_logo_cl_11.png\"></p>\n",
       "<p align=\"left\"><img src=\"motif_logo_cl_11.png\"></p>\n",
       "<p align=\"left\"><img src=\"file:///Users/costa/Desktop/BTSync/Projects/EDeN/examples_EDeN/bioinf/motif/motif_loc_11.png\" style=\"width: 100%\"></p>\n",
       "<p align=\"left\"><img src=\"motif_loc_11.png\" style=\"width: 100%\"></p>\n",
       "- num co-occurences of motif 11 vs 0: 2\n",
       "<p align=\"left\"><img src=\"file:///Users/costa/Desktop/BTSync/Projects/EDeN/examples_EDeN/bioinf/motif/motif_dist_11_vs_0.png\" style=\"width: 100%\"></p>\n",
       "<p align=\"left\"><img src=\"motif_dist_11_vs_0.png\" style=\"width: 100%\"></p>\n",
       "- num co-occurences of motif 11 vs 1: 2\n",
       "<p align=\"left\"><img src=\"file:///Users/costa/Desktop/BTSync/Projects/EDeN/examples_EDeN/bioinf/motif/motif_dist_11_vs_1.png\" style=\"width: 100%\"></p>\n",
       "<p align=\"left\"><img src=\"motif_dist_11_vs_1.png\" style=\"width: 100%\"></p>\n",
       "- num co-occurences of motif 11 vs 3: 0\n",
       "<p align=\"left\"><img src=\"file:///Users/costa/Desktop/BTSync/Projects/EDeN/examples_EDeN/bioinf/motif/motif_dist_11_vs_3.png\" style=\"width: 100%\"></p>\n",
       "<p align=\"left\"><img src=\"motif_dist_11_vs_3.png\" style=\"width: 100%\"></p>\n",
       "____________________________________________________________________________________________________"
      ],
      "text/plain": [
       "<IPython.core.display.Markdown object>"
      ]
     },
     "execution_count": 28,
     "metadata": {},
     "output_type": "execute_result"
    }
   ],
   "source": [
    "from IPython import display\n",
    "display.Markdown(data=smod.report(pos_seqs, motives, fname='motif'))"
   ]
  },
  {
   "cell_type": "markdown",
   "metadata": {},
   "source": [
    "---"
   ]
  }
 ],
 "metadata": {
  "kernelspec": {
   "display_name": "Python 2",
   "language": "python",
   "name": "python2"
  },
  "language_info": {
   "codemirror_mode": {
    "name": "ipython",
    "version": 2
   },
   "file_extension": ".py",
   "mimetype": "text/x-python",
   "name": "python",
   "nbconvert_exporter": "python",
   "pygments_lexer": "ipython2",
   "version": "2.7.12"
  }
 },
 "nbformat": 4,
 "nbformat_minor": 0
}
