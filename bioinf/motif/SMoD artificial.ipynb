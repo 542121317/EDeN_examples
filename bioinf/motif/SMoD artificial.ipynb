{
 "cells": [
  {
   "cell_type": "code",
   "execution_count": 33,
   "metadata": {
    "collapsed": false
   },
   "outputs": [
    {
     "name": "stdout",
     "output_type": "stream",
     "text": [
      "The autoreload extension is already loaded. To reload it, use:\n",
      "  %reload_ext autoreload\n"
     ]
    },
    {
     "data": {
      "text/html": [
       "<style>.container { width:95% !important; }</style>"
      ],
      "text/plain": [
       "<IPython.core.display.HTML object>"
      ]
     },
     "execution_count": 33,
     "metadata": {},
     "output_type": "execute_result"
    }
   ],
   "source": [
    "%matplotlib inline\n",
    "%load_ext autoreload\n",
    "%autoreload 2\n",
    "import logging\n",
    "from eden.util import configure_logging\n",
    "configure_logging(logging.getLogger(), verbosity=1)\n",
    "from IPython.core.display import HTML\n",
    "HTML('<style>.container { width:95% !important; }</style>')"
   ]
  },
  {
   "cell_type": "code",
   "execution_count": 34,
   "metadata": {
    "collapsed": false
   },
   "outputs": [],
   "source": [
    "from eden.util.NeedlemanWunsh import edit_distance\n",
    "\n",
    "def select_best_match(motives, orig_motives):\n",
    "    for i, orig_motif in enumerate(orig_motives):\n",
    "        max_score = 0\n",
    "        max_cluster_id = -1\n",
    "        max_motif = None\n",
    "        for cluster_id in motives:\n",
    "            consensus_seq = motives[cluster_id]['consensus_seq']\n",
    "            score = edit_distance(orig_motif, consensus_seq)\n",
    "            score = 2 * float(score) / (len(orig_motif)+len(consensus_seq))\n",
    "            if score > max_score:\n",
    "                max_score = score\n",
    "                max_cluster_id = cluster_id\n",
    "        yield max_score, max_cluster_id"
   ]
  },
  {
   "cell_type": "code",
   "execution_count": 35,
   "metadata": {
    "collapsed": false
   },
   "outputs": [],
   "source": [
    "% matplotlib inline\n",
    "import pylab as plt \n",
    "import numpy as np\n",
    "from sklearn.metrics import roc_auc_score\n",
    "\n",
    "def plot_cumulative_score(smod, pos_seqs, sequence_length=None, motif_length=None):\n",
    "    sig = None\n",
    "    for scores in smod.score(pos_seqs):\n",
    "        if sig is None:\n",
    "            sig = np.array(scores)\n",
    "        else:\n",
    "            sig += np.array(scores)\n",
    "    sig=np.array(sig)\n",
    "    \n",
    "    truth = np.zeros(len(sig))\n",
    "    truth[sequence_length/2-motif_length/2:sequence_length/2+motif_length/2]=1\n",
    "    roc = roc_auc_score(truth, sig)\n",
    "    print 'Cumulative score ROC: %.2f' % roc\n",
    "\n",
    "\n",
    "    plt.figure(figsize=(16,3))\n",
    "    sigp = np.copy(sig)\n",
    "    sigp[sigp<0]=0\n",
    "    plt.bar(range(len(sigp)), sigp, alpha=0.3, color='g')\n",
    "    sign = np.copy(sig)\n",
    "    sign[sign>=0]=0\n",
    "    plt.bar(range(len(sign)), sign, alpha=0.3, color='r')\n",
    "    plt.plot((sequence_length/2-motif_length/2, sequence_length/2-motif_length/2), (min(sig), max(sig)), 'k-', lw=4)\n",
    "    plt.plot((sequence_length/2+motif_length/2, sequence_length/2+motif_length/2), (min(sig), max(sig)), 'k-', lw=4)\n",
    "    plt.xticks(range(len(sig)))\n",
    "    plt.grid()\n",
    "    plt.show()"
   ]
  },
  {
   "cell_type": "code",
   "execution_count": 36,
   "metadata": {
    "collapsed": false
   },
   "outputs": [],
   "source": [
    "#code for making artificial dataset\n",
    "import random\n",
    "import  numpy as np\n",
    "\n",
    "def random_string(length,alphabet_list):\n",
    "    rand_str = ''.join(random.choice(alphabet_list) for i in range(length))\n",
    "    return rand_str\n",
    "\n",
    "def perturb(seed,alphabet_list,perturbation_prob=0.5):\n",
    "    seq=''\n",
    "    for c in seed:\n",
    "        if random.random() < perturbation_prob: \n",
    "            c = random.choice(alphabet_list)\n",
    "        seq += c\n",
    "    return seq\n",
    "\n",
    "def create_motives(alphabet='ACGU', motif_length=10):\n",
    "    motives = []\n",
    "    for character in alphabet:\n",
    "        motif = [character]*motif_length\n",
    "        motives.append(''.join(motif))\n",
    "    return motives\n",
    "\n",
    "def make_artificial_dataset(alphabet='ACGU', \n",
    "                            motif_length=10,\n",
    "                            sequence_length=100, \n",
    "                            n_sequences=1000, \n",
    "                            n_motives=2, \n",
    "                            perturbation_prob=0.2):\n",
    "    alphabet_list=[c for c in alphabet]\n",
    "    motives = [random_string(motif_length, alphabet_list) for i in range(n_motives)]\n",
    "        \n",
    "    flanking_length = (sequence_length - motif_length ) / 2\n",
    "    n_seq_per_motif = n_sequences / n_motives\n",
    "\n",
    "    counter=0\n",
    "    seqs=[]\n",
    "    targets=[]\n",
    "    for i in range(n_seq_per_motif):\n",
    "        for j in range(n_motives):\n",
    "            left_flanking = random_string(flanking_length,alphabet_list)\n",
    "            right_flanking = random_string(flanking_length,alphabet_list)\n",
    "            noisy_motif = perturb(motives[j],alphabet_list,perturbation_prob)\n",
    "            seq = left_flanking + noisy_motif + right_flanking\n",
    "            seqs.append(('ID_%.3d'%counter,seq))\n",
    "            targets.append(j)\n",
    "            counter += 1\n",
    "    return seqs, np.array(targets), motives"
   ]
  },
  {
   "cell_type": "code",
   "execution_count": 37,
   "metadata": {
    "collapsed": false
   },
   "outputs": [],
   "source": [
    "motif_length=6\n",
    "n_motives=3\n",
    "sequence_length=50\n",
    "n_sequences=1000*n_motives\n",
    "perturbation_prob=0.2\n",
    "\n",
    "pos_seqs, targets, orig_motives = make_artificial_dataset('ACGU',motif_length,sequence_length,n_sequences,n_motives,perturbation_prob)"
   ]
  },
  {
   "cell_type": "code",
   "execution_count": 38,
   "metadata": {
    "collapsed": true
   },
   "outputs": [],
   "source": [
    "from eden.modifier.seq import seq_to_seq, shuffle_modifier\n",
    "neg_seqs = seq_to_seq(pos_seqs, modifier=shuffle_modifier, times=2, order=1)\n",
    "neg_seqs = list(neg_seqs)"
   ]
  },
  {
   "cell_type": "code",
   "execution_count": 39,
   "metadata": {
    "collapsed": false
   },
   "outputs": [],
   "source": [
    "complexity=3\n",
    "n_clusters=n_motives*5\n",
    "min_subarray_size=motif_length-2\n",
    "max_subarray_size=motif_length+2\n",
    "pos_block_size=len(pos_seqs)/8\n",
    "neg_block_size=len(neg_seqs)/8"
   ]
  },
  {
   "cell_type": "code",
   "execution_count": 40,
   "metadata": {
    "collapsed": false
   },
   "outputs": [
    {
     "name": "stdout",
     "output_type": "stream",
     "text": [
      "motif_length: 6\n",
      "n_motives: 3\n",
      "sequence_length: 50\n",
      "n_sequences: 3000\n",
      "perturbation_prob: 0.2\n",
      "n_clusters: 15\n",
      "min_subarray_size: 4\n",
      "max_subarray_size: 8\n",
      "pos block_size: 375\n",
      "neg block_size: 750\n",
      "\n",
      "AUACGA\n",
      "UUUCCU\n",
      "CUUCUA\n"
     ]
    }
   ],
   "source": [
    "print 'motif_length:',motif_length\n",
    "print 'n_motives:',n_motives\n",
    "print 'sequence_length:',sequence_length\n",
    "print 'n_sequences:',n_sequences\n",
    "print 'perturbation_prob:',perturbation_prob\n",
    "\n",
    "print 'n_clusters:',n_clusters\n",
    "print 'min_subarray_size:',min_subarray_size\n",
    "print 'max_subarray_size:',max_subarray_size\n",
    "print 'pos block_size:',pos_block_size\n",
    "print 'neg block_size:',neg_block_size\n",
    "\n",
    "print\n",
    "for motif in orig_motives: print motif"
   ]
  },
  {
   "cell_type": "code",
   "execution_count": null,
   "metadata": {
    "collapsed": false
   },
   "outputs": [
    {
     "name": "stdout",
     "output_type": "stream",
     "text": [
      "Examples:\n",
      "\n",
      "Cluster: 0\n",
      "AUACGA UGUAUUUAGCUUGGGACCCAUCAUACGAGUGGGGAGGGAGAGCUUACUUC\n",
      "AUACGG CUGCGAAGAGUCCGGUGGCGUCAUACGGAAGCGAGCGCCCUGGCUGGUGC\n",
      "AUCCGU UGAAUCGUUGGUAUUGAUUGCGAUCCGUAUCUCCUAGGUGCAACUCCGUU\n",
      "AUACGA AGUAAUUCGUUUUGACGUAGUGAUACGAGGUUUGGGAAGGUGUUGGUGCG\n",
      "AUACGA CUCACUCUAGAGUGACCGGCCAAUACGACCGGGGGACGGGGGAUUCAAAG\n",
      "AUAUGA GCCGUAGGCUUCCCCCAGGGCGAUAUGAGGUUGUGAAGAUCAACUGAUCU\n",
      "\n",
      "Cluster: 1\n",
      "AUUUCU UAUACGACAUUAUUGGAUAGGGAUUUCUUGGGCGUAUGCUGUGUGCGGCC\n",
      "UUUGCU CCGCCCCACGCCGGGAAAUGCUUUUGCUUAGUUGGAUCUGACGUUGUGUU\n",
      "UCUCCU UGGAGAGGGUAGCUGUGGUCUUUCUCCUCCCAUGGACGCUUGACUACCCU\n",
      "UUUCUU GCGACAUACGAUCCCGUAGACAUUUCUUACGAGGGACUCCUACUGCCUUA\n",
      "UUCCCU CGUGCAUAGUAGAAGGUGAUGUUUCCCUCUCAACCCAGAUUAAGUAAAGG\n",
      "\n",
      "Cluster: 2\n",
      "CUCCUA ACGACUACACGUCGUCAGGUUACUCCUAGAGGAUCGCCAGGAAGAAACCA\n",
      "CUUCUA CCAACCGGCGGUUACUCUAAACCUUCUAUAUUCAAAACGCUUCCGCUGGA\n",
      "CUUCUA AAAAUUAGAGGAACGAUUGCGGCUUCUACGUAGAUGUCACACACCCGUCG\n",
      "CUUCUA GGUGAAACACCAUCAGACUUCGCUUCUACGAAGAGAUACCAGAGACGUGU\n",
      "CUUCUG CACUUAACUAGCGAAGUUUCCUCUUCUGAGGGAAUCAGCAGUCCAAUGCA\n"
     ]
    },
    {
     "data": {
      "image/png": "[encoded data removed]",
      "text/plain": [
       "<IPython.core.display.Image object>"
      ]
     },
     "metadata": {},
     "output_type": "display_data"
    },
    {
     "data": {
      "image/png": "[encoded data removed]",
      "text/plain": [
       "<IPython.core.display.Image object>"
      ]
     },
     "metadata": {},
     "output_type": "display_data"
    },
    {
     "data": {
      "image/png": "[encoded data removed]",
      "text/plain": [
       "<IPython.core.display.Image object>"
      ]
     },
     "metadata": {},
     "output_type": "display_data"
    }
   ],
   "source": [
    "print 'Examples:'\n",
    "\n",
    "max_chars=100\n",
    "for id_clus in range(n_motives):\n",
    "    print \n",
    "    print 'Cluster: %d' % id_clus\n",
    "    for i,( h,s) in enumerate(pos_seqs[:16]):\n",
    "        id = i % n_motives\n",
    "        if id == id_clus:\n",
    "            print s[sequence_length/2-motif_length/2:sequence_length/2+motif_length/2], s[:max_chars]\n",
    "\n",
    "            \n",
    "from collections import defaultdict\n",
    "\n",
    "true_motives = defaultdict(list)\n",
    "for i,( h,s) in enumerate(pos_seqs):\n",
    "    id = i % n_motives\n",
    "    true_motives[id].append((h,s[sequence_length/2-motif_length/2:sequence_length/2+motif_length/2]))\n",
    "from eden.sequence_motif_decomposer import Weblogo\n",
    "wl= Weblogo(resolution=200,stacks_per_line=60, sequence_type='rna')\n",
    "\n",
    "for id in true_motives:\n",
    "    logo = wl.create_logo(true_motives[id])\n",
    "    from IPython.display import Image, display\n",
    "    display(Image(logo))"
   ]
  },
  {
   "cell_type": "code",
   "execution_count": null,
   "metadata": {
    "collapsed": false,
    "scrolled": false
   },
   "outputs": [],
   "source": [
    "pos_size = len(pos_seqs)\n",
    "train_pos_seqs = pos_seqs[:pos_size/2]\n",
    "test_pos_seqs = pos_seqs[pos_size/2:]\n",
    "\n",
    "neg_size = len(neg_seqs)\n",
    "train_neg_seqs = neg_seqs[:neg_size/2]\n",
    "test_neg_seqs = neg_seqs[neg_size/2:]\n",
    "\n",
    "from eden.sequence_motif_decomposer import SequenceMotifDecomposer as SMoD\n",
    "smod=SMoD(complexity=complexity,\n",
    "          n_clusters=n_clusters,\n",
    "          min_subarray_size=min_subarray_size,\n",
    "          max_subarray_size=max_subarray_size,\n",
    "          pos_block_size=pos_block_size,\n",
    "          neg_block_size=neg_block_size)\n",
    "smod = smod.fit(train_pos_seqs, train_neg_seqs)\n",
    "orig_clusters = smod.predict(test_pos_seqs)\n",
    "motives = smod.merge(orig_clusters, \n",
    "                     similarity_th=0.5,\n",
    "                     min_score=5,\n",
    "                     min_freq=.5,\n",
    "                     min_cluster_size=10,\n",
    "                     regex_th=.5,\n",
    "                     sample_size=100)\n",
    "motives = smod.quality_filter(test_pos_seqs,\n",
    "                              motives,\n",
    "                              freq_threshold=.1,\n",
    "                              std_threshold=20)\n",
    "avg_score = np.mean([s for s,id in select_best_match(motives, orig_motives)])\n",
    "print 'Average score: %.2f' % avg_score\n",
    "\n",
    "selected = [id for s,id in select_best_match(motives, orig_motives)]\n",
    "logos = smod.display_logos(motives,ids=selected)"
   ]
  },
  {
   "cell_type": "markdown",
   "metadata": {},
   "source": [
    "# Full analysis"
   ]
  },
  {
   "cell_type": "code",
   "execution_count": null,
   "metadata": {
    "collapsed": false,
    "scrolled": false
   },
   "outputs": [],
   "source": [
    "%%time\n",
    "\n",
    "pos_size = len(pos_seqs)\n",
    "train_pos_seqs = pos_seqs[:pos_size/2]\n",
    "test_pos_seqs = pos_seqs[pos_size/2:]\n",
    "\n",
    "neg_size = len(neg_seqs)\n",
    "train_neg_seqs = neg_seqs[:neg_size/2]\n",
    "test_neg_seqs = neg_seqs[neg_size/2:]\n",
    "\n",
    "from eden.sequence_motif_decomposer import SequenceMotifDecomposer as SMoD\n",
    "smod=SMoD(complexity=complexity,\n",
    "          n_clusters=n_clusters,\n",
    "          min_subarray_size=min_subarray_size,\n",
    "          max_subarray_size=max_subarray_size,\n",
    "          pos_block_size=pos_block_size,\n",
    "          neg_block_size=neg_block_size)\n",
    "smod = smod.fit(train_pos_seqs, train_neg_seqs)\n",
    "smod.performance(test_pos_seqs, test_neg_seqs)\n",
    "plot_cumulative_score(smod, test_pos_seqs, sequence_length=sequence_length, motif_length=motif_length)\n",
    "orig_clusters = smod.predict(test_pos_seqs)\n",
    "motives = smod.merge(orig_clusters, \n",
    "                     similarity_th=0.5,\n",
    "                     min_score=5,\n",
    "                     min_freq=.5,\n",
    "                     min_cluster_size=10,\n",
    "                     regex_th=.5,\n",
    "                     sample_size=100)\n",
    "motives = smod.quality_filter(test_pos_seqs,\n",
    "                              motives,\n",
    "                              freq_threshold=None,\n",
    "                              std_threshold=None)\n",
    "smod.report(test_pos_seqs, motives)"
   ]
  },
  {
   "cell_type": "markdown",
   "metadata": {},
   "source": [
    "---"
   ]
  }
 ],
 "metadata": {
  "kernelspec": {
   "display_name": "Python 2",
   "language": "python",
   "name": "python2"
  },
  "language_info": {
   "codemirror_mode": {
    "name": "ipython",
    "version": 2
   },
   "file_extension": ".py",
   "mimetype": "text/x-python",
   "name": "python",
   "nbconvert_exporter": "python",
   "pygments_lexer": "ipython2",
   "version": "2.7.12"
  }
 },
 "nbformat": 4,
 "nbformat_minor": 0
}
