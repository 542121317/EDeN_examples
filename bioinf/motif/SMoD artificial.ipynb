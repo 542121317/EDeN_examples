{
 "cells": [
  {
   "cell_type": "code",
   "execution_count": 210,
   "metadata": {
    "collapsed": false
   },
   "outputs": [
    {
     "data": {
      "text/html": [
       "<style>.container { width:95% !important; }</style>"
      ],
      "text/plain": [
       "<IPython.core.display.HTML object>"
      ]
     },
     "execution_count": 210,
     "metadata": {},
     "output_type": "execute_result"
    }
   ],
   "source": [
    "from eden.util import configure_logging\n",
    "import logging\n",
    "logger = logging.getLogger()\n",
    "configure_logging(logger,verbosity=1)\n",
    "from IPython.core.display import HTML\n",
    "HTML('<style>.container { width:95% !important; }</style>')"
   ]
  },
  {
   "cell_type": "code",
   "execution_count": 211,
   "metadata": {
    "collapsed": true
   },
   "outputs": [],
   "source": [
    "import numpy as np\n",
    "\n",
    "def make_score_matrix(seq_a, seq_b, match_score=1, mismatch_score=0 ):\n",
    "    score_matrix = np.zeros((len(seq_a), len(seq_b)))\n",
    "    for i, a in enumerate(seq_a):\n",
    "        for j, b in enumerate(seq_b):\n",
    "            if a == b:\n",
    "                score_matrix[i,j] = match_score\n",
    "            else:\n",
    "                score_matrix[i,j] = mismatch_score\n",
    "    return score_matrix\n",
    "\n",
    "def align_seq(seq_a, seq_b, gap_penalty=-1):\n",
    "    score_matrix = make_score_matrix(seq_a, seq_b)\n",
    "    from eden.util.NeedlemanWunsh import needleman_wunsh, trace_back\n",
    "    needleman_wunsh_matrix = needleman_wunsh(seq_a, seq_b, score_matrix, gap_penalty)\n",
    "    nw_score = needleman_wunsh_matrix[-1,-1]\n",
    "    alignment_a, alignment_b = trace_back(seq_a, seq_b, score_matrix, needleman_wunsh_matrix, gap_penalty)\n",
    "    return alignment_a, alignment_b, nw_score"
   ]
  },
  {
   "cell_type": "code",
   "execution_count": 212,
   "metadata": {
    "collapsed": false
   },
   "outputs": [],
   "source": [
    "def select_best_matching(motives, orig_motives):\n",
    "    for i, orig_motif in enumerate(orig_motives):\n",
    "        max_score = 0\n",
    "        max_cluster_id = -1\n",
    "        max_motif = None\n",
    "        for motif in motives:\n",
    "            cluster_id, consensus_seq, trimmed_align_seqs, align_seqs, seqs = motif\n",
    "            seq_a,seq_b, score = align_seq(orig_motif, consensus_seq)\n",
    "            if score > max_score:\n",
    "                max_score = score\n",
    "                max_cluster_id = cluster_id\n",
    "                max_motif = motif\n",
    "        yield max_motif"
   ]
  },
  {
   "cell_type": "code",
   "execution_count": 213,
   "metadata": {
    "collapsed": true
   },
   "outputs": [],
   "source": [
    "import numpy as np\n",
    "def stable_matching(man_pref_ids, man_pref_vals,\n",
    "                    woman_pref_ids, woman_pref_vals, \n",
    "                    neighbours):\n",
    "    assert(len(man_pref_ids) == len(man_pref_vals))\n",
    "    assert(len(woman_pref_ids) == len(woman_pref_vals))\n",
    "\n",
    "    #print \"the number of neighbours are:\"\n",
    "    #print neighbours\n",
    "    #print type(neighbours)\n",
    "\n",
    "    # replace value 0 with half of the minimum val that is non zero\n",
    "    min_val = min(min([x for x in man_pref_vals.flatten() if x > 0]),\n",
    "                  min([x for x in woman_pref_vals.flatten() if x > 0]))/2\n",
    "    # use 1/val to convert distances to preferences\n",
    "    man_pref_dict = dict()\n",
    "\n",
    "    # make a dict that saves for the combination of a man and woman there preference\n",
    "    for man_id, (preferred_woman_ids, preferred_woman_vals) in enumerate(zip(man_pref_ids, man_pref_vals)):\n",
    "        #print preferred_woman_vals\n",
    "        for preferred_woman_id, preferred_woman_val in zip(preferred_woman_ids, preferred_woman_vals):\n",
    "            # replace all 0 entrys with the min_val\n",
    "            if preferred_woman_val == 0:\n",
    "                preferred_woman_val = min_val\n",
    "            # print man_id, preferred_woman_val\n",
    "            man_pref_dict.update({(man_id ,preferred_woman_id):1/float(preferred_woman_val)})\n",
    "    woman_pref_dict = dict()\n",
    "    for woman_id, (preferred_man_ids, preferred_man_vals) in enumerate(zip(woman_pref_ids, woman_pref_vals)):\n",
    "        for preferred_man_id, preferred_man_val in zip(preferred_man_ids, preferred_man_vals):\n",
    "            if preferred_man_val == 0:\n",
    "                preferred_man_val = min_val\n",
    "            woman_pref_dict.update({(woman_id ,preferred_man_id):1/float(preferred_man_val)})\n",
    "\n",
    "    # initalization of relations: -1 means free\n",
    "    man_relation_woman = [-1] * len(man_pref_ids)\n",
    "    woman_relation_man = [-1] * len(woman_pref_ids)\n",
    "\n",
    "    # initialize position list to store the pointer for the r1_preference_list\n",
    "    man_pointers = [0] * len(man_pref_ids)\n",
    "    woman_pointers = [0] * len(woman_pref_ids)\n",
    "\n",
    "    #for key, value in woman_pref_dict:\n",
    "        #print key\n",
    "\n",
    "    counter = 0\n",
    "\n",
    "\n",
    "    #∃ free man m who still has a woman w to propose to\n",
    "    while -1 in man_relation_woman:\n",
    "        counter += 1\n",
    "        # safeguard against infinite loops\n",
    "        if counter > 100000:\n",
    "            print 'Warning: reached max count'\n",
    "            break\n",
    "        # if there are no free woman then stop\n",
    "        if -1 not in woman_relation_man:\n",
    "            break\n",
    "        #find free man\n",
    "        for man_id, proposed_woman_id in enumerate(man_relation_woman):\n",
    "            if proposed_woman_id == -1:\n",
    "                #print \"current man\"\n",
    "                #print man_id\n",
    "                break\n",
    "\n",
    "        #print \"man likes woman pointer position:\"\n",
    "        #print man_pointers[man_id]\n",
    "        #print type(man_pointers[man_id])\n",
    "\n",
    "        # check if man has a woman to propose to\n",
    "        if man_pointers[man_id] == neighbours:\n",
    "            man_relation_woman[man_id] = -2\n",
    "            continue\n",
    "\n",
    "        #w = first woman on m’s list to whom m has not yet proposed\n",
    "        woman_position_in_pref_list = man_pointers[man_id]\n",
    "        #print \"woman_position_in_pref_list\"\n",
    "        #print woman_position_in_pref_list\n",
    "        man_pref_list = man_pref_ids[man_id]\n",
    "        woman_id = man_pref_list[woman_position_in_pref_list]\n",
    "        #print \"woman_id\"\n",
    "        #print woman_id\n",
    "\n",
    "        # if w is free\n",
    "        if woman_relation_man[woman_id] == -1:\n",
    "            # (m, w) become engaged\n",
    "            man_relation_woman[man_id] = woman_id\n",
    "            woman_relation_man[woman_id] = man_id\n",
    "            man_pointers[man_id] += 1\n",
    "\n",
    "\n",
    "            #print \"new engaigments\"\n",
    "            #print (man_id, woman_id)\n",
    "\n",
    "        # else some pair (m', w) already exists\n",
    "        else:\n",
    "            current_preferred_man_id = woman_relation_man[woman_id]\n",
    "            # if w prefers m to m'\n",
    "            preference_of_new = woman_pref_dict.get((woman_id,man_id),0)\n",
    "            preference_of_curr = woman_pref_dict.get((woman_id,current_preferred_man_id),0)\n",
    "            if  preference_of_new >  preference_of_curr:\n",
    "                # m' becomes free\n",
    "                man_relation_woman[current_preferred_man_id] = -1\n",
    "                # (m, w) become engaged\n",
    "                man_relation_woman[man_id] = woman_id\n",
    "                woman_relation_man[woman_id] = man_id\n",
    "                #print \"new engaigments\"\n",
    "                #print (man_id, woman_id)\n",
    "            else:\n",
    "                # (m', w) remain engaged\n",
    "                man_pointers[man_id] += 1\n",
    "                pass\n",
    "    return (man_relation_woman, woman_relation_man)"
   ]
  },
  {
   "cell_type": "code",
   "execution_count": 214,
   "metadata": {
    "collapsed": false
   },
   "outputs": [],
   "source": [
    "% matplotlib inline\n",
    "import pylab as plt \n",
    "import numpy as np\n",
    "from sklearn.metrics import roc_auc_score\n",
    "\n",
    "def plot_cumulative_score(smod, pos_seqs, sequence_length=None, motif_length=None):\n",
    "    sig = None\n",
    "    for scores in smod.score(pos_seqs):\n",
    "        if sig is None:\n",
    "            sig = np.array(scores)\n",
    "        else:\n",
    "            sig += np.array(scores)\n",
    "    sig=np.array(sig)\n",
    "    \n",
    "    truth = np.zeros(len(sig))\n",
    "    truth[sequence_length/2-motif_length/2:sequence_length/2+motif_length/2]=1\n",
    "    roc = roc_auc_score(truth, sig)\n",
    "    print 'Cumulative score ROC: %.2f' % roc\n",
    "\n",
    "\n",
    "    plt.figure(figsize=(16,3))\n",
    "    sigp = np.copy(sig)\n",
    "    sigp[sigp<0]=0\n",
    "    plt.bar(range(len(sigp)), sigp, alpha=0.3, color='g')\n",
    "    sign = np.copy(sig)\n",
    "    sign[sign>=0]=0\n",
    "    plt.bar(range(len(sign)), sign, alpha=0.3, color='r')\n",
    "    plt.plot((sequence_length/2-motif_length/2, sequence_length/2-motif_length/2), (min(sig), max(sig)), 'k-', lw=4)\n",
    "    plt.plot((sequence_length/2+motif_length/2, sequence_length/2+motif_length/2), (min(sig), max(sig)), 'k-', lw=4)\n",
    "    plt.xticks(range(len(sig)))\n",
    "    plt.grid()\n",
    "    plt.show()"
   ]
  },
  {
   "cell_type": "code",
   "execution_count": 215,
   "metadata": {
    "collapsed": false
   },
   "outputs": [],
   "source": [
    "#code for making artificial dataset\n",
    "import random\n",
    "import  numpy as np\n",
    "\n",
    "def random_string(length,alphabet_list):\n",
    "    rand_str = ''.join(random.choice(alphabet_list) for i in range(length))\n",
    "    return rand_str\n",
    "\n",
    "def perturb(seed,alphabet_list,perturbation_prob=0.5):\n",
    "    seq=''\n",
    "    for c in seed:\n",
    "        if random.random() < perturbation_prob: \n",
    "            c = random.choice(alphabet_list)\n",
    "        seq += c\n",
    "    return seq\n",
    "\n",
    "def create_motives(alphabet='ACGU', motif_length=10):\n",
    "    motives = []\n",
    "    for character in alphabet:\n",
    "        motif = [character]*motif_length\n",
    "        motives.append(''.join(motif))\n",
    "    return motives\n",
    "\n",
    "def make_artificial_dataset(alphabet='ACGU', \n",
    "                            motif_length=10,\n",
    "                            sequence_length=100, \n",
    "                            n_sequences=1000, \n",
    "                            n_motives=2, \n",
    "                            perturbation_prob=0.2):\n",
    "    alphabet_list=[c for c in alphabet]\n",
    "    motives = [random_string(motif_length, alphabet_list) for i in range(n_motives)]\n",
    "        \n",
    "    flanking_length = (sequence_length - motif_length ) / 2\n",
    "    n_seq_per_motif = n_sequences / n_motives\n",
    "\n",
    "    counter=0\n",
    "    seqs=[]\n",
    "    targets=[]\n",
    "    for i in range(n_seq_per_motif):\n",
    "        for j in range(n_motives):\n",
    "            left_flanking = random_string(flanking_length,alphabet_list)\n",
    "            right_flanking = random_string(flanking_length,alphabet_list)\n",
    "            noisy_motif = perturb(motives[j],alphabet_list,perturbation_prob)\n",
    "            seq = left_flanking + noisy_motif + right_flanking\n",
    "            seqs.append(('ID_%.3d'%counter,seq))\n",
    "            targets.append(j)\n",
    "            counter += 1\n",
    "    return seqs, np.array(targets), motives"
   ]
  },
  {
   "cell_type": "code",
   "execution_count": 216,
   "metadata": {
    "collapsed": false
   },
   "outputs": [],
   "source": [
    "motif_length=10\n",
    "n_motives=2\n",
    "sequence_length=50\n",
    "n_sequences=500*n_motives\n",
    "perturbation_prob=0.4\n",
    "\n",
    "pos_seqs, targets, orig_motives = make_artificial_dataset('ACGU',motif_length,sequence_length,n_sequences,n_motives,perturbation_prob)"
   ]
  },
  {
   "cell_type": "code",
   "execution_count": 217,
   "metadata": {
    "collapsed": true
   },
   "outputs": [],
   "source": [
    "from eden.modifier.seq import seq_to_seq, shuffle_modifier\n",
    "neg_seqs = seq_to_seq(pos_seqs, modifier=shuffle_modifier, times=1, order=2)\n",
    "neg_seqs = list(neg_seqs)"
   ]
  },
  {
   "cell_type": "code",
   "execution_count": 218,
   "metadata": {
    "collapsed": false
   },
   "outputs": [],
   "source": [
    "complexity=4\n",
    "n_clusters=n_motives*5\n",
    "min_subarray_size=motif_length-motif_length/2\n",
    "max_subarray_size=motif_length+motif_length/2\n",
    "block_size=n_sequences/8"
   ]
  },
  {
   "cell_type": "code",
   "execution_count": 219,
   "metadata": {
    "collapsed": false
   },
   "outputs": [
    {
     "name": "stdout",
     "output_type": "stream",
     "text": [
      "motif_length: 10\n",
      "n_motives: 2\n",
      "sequence_length: 50\n",
      "n_sequences: 1000\n",
      "perturbation_prob: 0.4\n",
      "n_clusters: 10\n",
      "min_subarray_size: 5\n",
      "max_subarray_size: 15\n",
      "block_size: 125\n",
      "\n",
      "CGCCUGAGGU\n",
      "UAAGAAAGCG\n"
     ]
    }
   ],
   "source": [
    "print 'motif_length:',motif_length\n",
    "print 'n_motives:',n_motives\n",
    "print 'sequence_length:',sequence_length\n",
    "print 'n_sequences:',n_sequences\n",
    "print 'perturbation_prob:',perturbation_prob\n",
    "\n",
    "print 'n_clusters:',n_clusters\n",
    "print 'min_subarray_size:',min_subarray_size\n",
    "print 'max_subarray_size:',max_subarray_size\n",
    "print 'block_size:',block_size\n",
    "\n",
    "print\n",
    "for motif in orig_motives: print motif"
   ]
  },
  {
   "cell_type": "code",
   "execution_count": 220,
   "metadata": {
    "collapsed": false
   },
   "outputs": [
    {
     "name": "stdout",
     "output_type": "stream",
     "text": [
      "Examples:\n",
      "\n",
      "Cluster: 0\n",
      "GGCCUGAUGU UGAUCCAGAAAUUGGUGUGAGGCCUGAUGUGUUCCAGUAGGCCACGCUAU\n",
      "GGCCUCAGGA GCUCAGUUAAUCAUACUGUAGGCCUCAGGACUUUGGCCUCCUCAUAUAUA\n",
      "ACCCAGAGCA CAGUUCUGCCCCCCCAGAGCACCCAGAGCAACGACUGUAUCAAACCCUCA\n",
      "GACCUGUGAU UCACCCGCCGGAGGCUGUUCGACCUGUGAUGAUGUAGUAAAAGUAGAUGG\n",
      "CGUCUGAAGU GUAUGGAACAUUUCCAAAUUCGUCUGAAGUCGCAAUCAUACAGAGCCUCC\n",
      "UGACUGUGAU GUUCUCUCUUAAUAAACUCCUGACUGUGAUAGGCCGAGACGGGACGUUGA\n",
      "GGCAUGACGG GGCGGUACGACCACUUUCACGGCAUGACGGAUUACUCCGAGUCGUUGGGU\n",
      "CGCCUGAGAC AAGCCCUAAUUCUAUGCACCCGCCUGAGACAAGCUCUCGUCCACCAGAAA\n",
      "\n",
      "Cluster: 1\n",
      "CUACAAAAAG AUACUGCUAACGCUACUACACUACAAAAAGUGUUCCCGAUUAAUACCACU\n",
      "AAAGGAAGGG UAGGUCCUAUAUUAACGCAAAAAGGAAGGGAUAUAUCGAAGGUGGGGCGC\n",
      "UAAGUAAGAG AGCGCUAACAACCAGGAAAGUAAGUAAGAGGACUCCCGCAUAGGUUGGAG\n",
      "GAAGAAAGCG CUAUGAUGGAUGAUCCCUAAGAAGAAAGCGUGGGAAUCCUUGUUGGAGUC\n",
      "UUAAAAAGCG CAAUUCUUGCUGGGCAGUGCUUAAAAAGCGUAAGGCUAGACUCCCAGGCG\n",
      "UAAGGAAGCG GCCUACGUCACCUGUUCCCGUAAGGAAGCGUGUGCGAUACAUAUUACUAU\n",
      "UCAGUUAGCG GCGUUACGUGGGAAGCCAUCUCAGUUAGCGACUGGGUCUGUCGCGUGCAC\n",
      "UAAGAACGCG GCCUUACGUUGGGGGCCUUCUAAGAACGCGCCGUACCGUGCGAGCCCCGG\n"
     ]
    },
    {
     "data": {
      "image/png": "[encoded data removed]",
      "text/plain": [
       "<IPython.core.display.Image object>"
      ]
     },
     "metadata": {},
     "output_type": "display_data"
    },
    {
     "data": {
      "image/png": "[encoded data removed]",
      "text/plain": [
       "<IPython.core.display.Image object>"
      ]
     },
     "metadata": {},
     "output_type": "display_data"
    }
   ],
   "source": [
    "print 'Examples:'\n",
    "\n",
    "max_chars=100\n",
    "for id_clus in range(n_motives):\n",
    "    print \n",
    "    print 'Cluster: %d' % id_clus\n",
    "    for i,( h,s) in enumerate(pos_seqs[:16]):\n",
    "        id = i % n_motives\n",
    "        if id == id_clus:\n",
    "            print s[sequence_length/2-motif_length/2:sequence_length/2+motif_length/2], s[:max_chars]\n",
    "\n",
    "            \n",
    "from collections import defaultdict\n",
    "\n",
    "true_motives = defaultdict(list)\n",
    "for i,( h,s) in enumerate(pos_seqs):\n",
    "    id = i % n_motives\n",
    "    true_motives[id].append((h,s[sequence_length/2-motif_length/2:sequence_length/2+motif_length/2]))\n",
    "from eden.sequence_motif_decomposer import Weblogo\n",
    "wl= Weblogo(resolution=200,stacks_per_line=60, sequence_type='rna')\n",
    "\n",
    "for id in true_motives:\n",
    "    logo = wl.create_logo(true_motives[id])\n",
    "    from IPython.display import Image, display\n",
    "    display(Image(logo))"
   ]
  },
  {
   "cell_type": "code",
   "execution_count": 221,
   "metadata": {
    "collapsed": false
   },
   "outputs": [
    {
     "name": "stdout",
     "output_type": "stream",
     "text": [
      "Cluster id: 4\n",
      "AAGAAAGCG\n"
     ]
    },
    {
     "data": {
      "image/png": "[encoded data removed]",
      "text/plain": [
       "<IPython.core.display.Image object>"
      ]
     },
     "metadata": {},
     "output_type": "display_data"
    },
    {
     "name": "stdout",
     "output_type": "stream",
     "text": [
      "Cluster id: 4\n",
      "AAGAAAGCG\n"
     ]
    },
    {
     "data": {
      "image/png": "[encoded data removed]",
      "text/plain": [
       "<IPython.core.display.Image object>"
      ]
     },
     "metadata": {},
     "output_type": "display_data"
    }
   ],
   "source": [
    "pos_size = len(pos_seqs)\n",
    "train_pos_seqs = pos_seqs[:pos_size/2]\n",
    "test_pos_seqs = pos_seqs[pos_size/2:]\n",
    "\n",
    "neg_size = len(neg_seqs)\n",
    "train_neg_seqs = neg_seqs[:neg_size/2]\n",
    "test_neg_seqs = neg_seqs[neg_size/2:]\n",
    "\n",
    "from eden.sequence_motif_decomposer import SequenceMotifDecomposer as SMoD\n",
    "smod=SMoD(complexity=complexity,\n",
    "          n_clusters=n_clusters,\n",
    "          min_subarray_size=min_subarray_size,\n",
    "          max_subarray_size=max_subarray_size,\n",
    "          pos_block_size=block_size,\n",
    "          neg_block_size=block_size)\n",
    "smod = smod.fit(train_pos_seqs, train_neg_seqs)\n",
    "clusters = smod.predict(test_pos_seqs)\n",
    "motives = smod.compute_motives(clusters,\n",
    "                               min_score=min_subarray_size,\n",
    "                               min_freq=0.6,\n",
    "                               min_cluster_size=(n_sequences/n_motives)/50)\n",
    "logos = smod.display_logos(select_best_matching(motives, orig_motives))"
   ]
  },
  {
   "cell_type": "markdown",
   "metadata": {},
   "source": [
    "# Full analysis"
   ]
  },
  {
   "cell_type": "code",
   "execution_count": 222,
   "metadata": {
    "collapsed": false,
    "scrolled": false
   },
   "outputs": [
    {
     "name": "stdout",
     "output_type": "stream",
     "text": [
      "Confusion matrix:\n",
      "[[ 65 435]\n",
      " [ 41 459]]\n",
      "Classification:\n",
      "             precision    recall  f1-score   support\n",
      "\n",
      "         -1       0.61      0.13      0.21       500\n",
      "          1       0.51      0.92      0.66       500\n",
      "\n",
      "avg / total       0.56      0.52      0.44      1000\n",
      "\n",
      "ROC: 0.609\n",
      "Cumulative score ROC: 0.87\n"
     ]
    },
    {
     "data": {
      "image/png": "[encoded data removed]",
      "text/plain": [
       "<matplotlib.figure.Figure at 0x108189890>"
      ]
     },
     "metadata": {},
     "output_type": "display_data"
    },
    {
     "name": "stdout",
     "output_type": "stream",
     "text": [
      "High quality motives\n",
      "Cluster id: 3\n",
      "AAGAAAGCG\n"
     ]
    },
    {
     "data": {
      "image/png": "[encoded data removed]",
      "text/plain": [
       "<IPython.core.display.Image object>"
      ]
     },
     "metadata": {},
     "output_type": "display_data"
    },
    {
     "name": "stdout",
     "output_type": "stream",
     "text": [
      "Cluster id: 0\n",
      "CGCGCCUGAG\n"
     ]
    },
    {
     "data": {
      "image/png": "[encoded data removed]",
      "text/plain": [
       "<IPython.core.display.Image object>"
      ]
     },
     "metadata": {},
     "output_type": "display_data"
    },
    {
     "name": "stdout",
     "output_type": "stream",
     "text": [
      "CPU times: user 3.68 s, sys: 454 ms, total: 4.14 s\n",
      "Wall time: 14.9 s\n"
     ]
    }
   ],
   "source": [
    "%%time\n",
    "\n",
    "pos_size = len(pos_seqs)\n",
    "train_pos_seqs = pos_seqs[:pos_size/2]\n",
    "test_pos_seqs = pos_seqs[pos_size/2:]\n",
    "\n",
    "neg_size = len(neg_seqs)\n",
    "train_neg_seqs = neg_seqs[:neg_size/2]\n",
    "test_neg_seqs = neg_seqs[neg_size/2:]\n",
    "\n",
    "from eden.sequence_motif_decomposer import SequenceMotifDecomposer as SMoD\n",
    "smod=SMoD(complexity=complexity,\n",
    "          n_clusters=n_clusters,\n",
    "          min_subarray_size=min_subarray_size,\n",
    "          max_subarray_size=max_subarray_size,\n",
    "          pos_block_size=block_size,\n",
    "          neg_block_size=block_size)\n",
    "smod = smod.fit(train_pos_seqs, train_neg_seqs)\n",
    "smod.performance(test_pos_seqs, test_neg_seqs)\n",
    "plot_cumulative_score(smod, test_pos_seqs, sequence_length=sequence_length, motif_length=motif_length)\n",
    "clusters = smod.predict(test_pos_seqs)\n",
    "motives = smod.compute_motives(clusters,\n",
    "                               min_score=min_subarray_size,\n",
    "                               min_freq=0.6,\n",
    "                               min_cluster_size=(n_sequences/n_motives)/50)\n",
    "print 'High quality motives'\n",
    "logos = smod.display_logos(motives)"
   ]
  },
  {
   "cell_type": "code",
   "execution_count": 223,
   "metadata": {
    "collapsed": false
   },
   "outputs": [],
   "source": [
    "import pylab as plt\n",
    "from collections import defaultdict\n",
    "import numpy as np\n",
    "\n",
    "def hits(clusters, ids=None):\n",
    "    for i in ids:\n",
    "        for h,s in clusters[i]:\n",
    "            tokens = h.split('*')            \n",
    "            seq_id = tokens[0]\n",
    "            begin,end = tokens[1].split(':')\n",
    "            yield (seq_id, int(begin), int(end), i)\n",
    "\n",
    "def show_cooccurence(clusters, ids=None):\n",
    "    if ids is None:\n",
    "        ids = range(len(clusters))\n",
    "    seqs_summary = defaultdict(list)\n",
    "    for seq_id, begin, end, i in hits(clusters, ids=ids):\n",
    "        seqs_summary[seq_id].append((begin, end, i))\n",
    "\n",
    "    distances=defaultdict(list)\n",
    "    cooccurence_mtx=np.zeros((len(clusters),len(clusters)))   \n",
    "    for seq_id in sorted(seqs_summary):\n",
    "        cluster_ids = [cluster_id for begin, end, cluster_id in seqs_summary[seq_id]]\n",
    "        centers = {cluster_id: begin + (end - begin)/2 for begin, end, cluster_id in seqs_summary[seq_id]}\n",
    "        cluster_ids = set(cluster_ids)\n",
    "        cluster_ids = list(cluster_ids)\n",
    "        for i in cluster_ids:\n",
    "            for j in cluster_ids:\n",
    "                cooccurence_mtx[i,j]+=1\n",
    "                if i != j:\n",
    "                    distances[(i,j)].append(centers[i]-centers[j])\n",
    "    cooccurence_mtx = np.nan_to_num(cooccurence_mtx)\n",
    "    cooccurence_list = []\n",
    "    for i,row in enumerate(cooccurence_mtx):\n",
    "        norm = row[i]\n",
    "        if norm != 0:\n",
    "            row /= norm\n",
    "        else:\n",
    "            row = np.zeros(row.shape)\n",
    "        row[i]=0\n",
    "        cooccurence_list.append(row)\n",
    "    norm_cooccurence_mtx=np.vstack(cooccurence_list)\n",
    "\n",
    "    plt.figure( figsize=(6,6) )\n",
    "    img = plt.imshow( norm_cooccurence_mtx, interpolation='none', cmap=plt.get_cmap( 'YlOrRd' ) )\n",
    "    plt.xticks(range(len(norm_cooccurence_mtx)))\n",
    "    plt.yticks(range(len(norm_cooccurence_mtx)))\n",
    "    plt.show()\n",
    "    return cooccurence_mtx, norm_cooccurence_mtx, distances\n",
    "\n",
    "def show_distances(distances, id_pairs=None, ids=None, nbins=5, size=(6,2)):\n",
    "    def plot():\n",
    "        ds = distances[(i,j)]\n",
    "        print i,j\n",
    "        plt.figure(figsize=size)\n",
    "        n, bins, patches = plt.hist(ds, nbins, normed=1, facecolor='green', alpha=0.75)\n",
    "        plt.grid()\n",
    "        plt.show()\n",
    "    for i,j in distances:\n",
    "        if id_pairs is not None:\n",
    "            if (i,j) in id_pairs or (j,i) in id_pairs:\n",
    "                plot()\n",
    "        if ids is not None:\n",
    "            if i in ids and j in ids:\n",
    "                plot()"
   ]
  },
  {
   "cell_type": "code",
   "execution_count": 224,
   "metadata": {
    "collapsed": false,
    "scrolled": false
   },
   "outputs": [
    {
     "name": "stdout",
     "output_type": "stream",
     "text": [
      "[3, 0]\n"
     ]
    },
    {
     "data": {
      "image/png": "[encoded data removed]",
      "text/plain": [
       "<matplotlib.figure.Figure at 0x10a7daf90>"
      ]
     },
     "metadata": {},
     "output_type": "display_data"
    },
    {
     "name": "stdout",
     "output_type": "stream",
     "text": [
      "3 0\n"
     ]
    },
    {
     "data": {
      "image/png": "[encoded data removed]",
      "text/plain": [
       "<matplotlib.figure.Figure at 0x10aed1510>"
      ]
     },
     "metadata": {},
     "output_type": "display_data"
    },
    {
     "name": "stdout",
     "output_type": "stream",
     "text": [
      "0 3\n"
     ]
    },
    {
     "data": {
      "image/png": "[encoded data removed]",
      "text/plain": [
       "<matplotlib.figure.Figure at 0x10a99fad0>"
      ]
     },
     "metadata": {},
     "output_type": "display_data"
    }
   ],
   "source": [
    "ids = [cluster_id for cluster_id, consensus_seq, trimmed_align_seqs, align_seqs, seqs in motives]\n",
    "print ids\n",
    "cooccurence_mtx, norm_cooccurence_mtx, distances = show_cooccurence(clusters, ids=ids)\n",
    "#id_pairs=[(3,2),(4,5)]\n",
    "show_distances(distances, id_pairs=None, ids=ids, nbins=20, size=(9,2))"
   ]
  },
  {
   "cell_type": "markdown",
   "metadata": {},
   "source": [
    "---"
   ]
  }
 ],
 "metadata": {
  "kernelspec": {
   "display_name": "Python 2",
   "language": "python",
   "name": "python2"
  },
  "language_info": {
   "codemirror_mode": {
    "name": "ipython",
    "version": 2
   },
   "file_extension": ".py",
   "mimetype": "text/x-python",
   "name": "python",
   "nbconvert_exporter": "python",
   "pygments_lexer": "ipython2",
   "version": "2.7.12"
  }
 },
 "nbformat": 4,
 "nbformat_minor": 0
}
