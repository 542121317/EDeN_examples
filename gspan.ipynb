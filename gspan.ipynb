{
 "cells": [
  {
   "cell_type": "code",
   "execution_count": 3,
   "metadata": {
    "collapsed": false
   },
   "outputs": [
    {
     "name": "stdout",
     "output_type": "stream",
     "text": [
      "CPU times: user 1.17 s, sys: 58.4 ms, total: 1.23 s\n",
      "Wall time: 1.24 s\n"
     ]
    }
   ],
   "source": [
    "%%time\n",
    "from eden.io.gspan import load\n",
    "pos_graphs = list(load('data/bursi.pos.gspan'))\n",
    "neg_graphs = list(load('data/bursi.neg.gspan'))\n",
    "graphs = pos_graphs + neg_graphs\n",
    "\n",
    "y = [1]*len(pos_graphs) + [-1]*len(neg_graphs)\n",
    "import numpy as np\n",
    "y = np.array(y)"
   ]
  },
  {
   "cell_type": "code",
   "execution_count": 2,
   "metadata": {
    "collapsed": false
   },
   "outputs": [
    {
     "name": "stdout",
     "output_type": "stream",
     "text": [
      "Instances: 4337 Features: 65537 with an avg of 184 features per instance\n",
      "AUC ROC: 0.8997 +- 0.0162\n",
      "CPU times: user 12 s, sys: 2.72 s, total: 14.8 s\n",
      "Wall time: 13.8 s\n"
     ]
    }
   ],
   "source": [
    "%%time\n",
    "from eden.graph import vectorize\n",
    "from sklearn.linear_model import SGDClassifier\n",
    "from sklearn import cross_validation\n",
    "\n",
    "X = vectorize(graphs, complexity=2, normalization=True, inner_normalization=True, discrete=True)\n",
    "print 'Instances: %d Features: %d with an avg of %d features per instance' % (X.shape[0], X.shape[1],  X.getnnz()/X.shape[0])\n",
    "predictor = SGDClassifier(average=True, class_weight='balanced', shuffle=True, n_jobs=-1)\n",
    "scores = cross_validation.cross_val_score(predictor, X, y, cv=10, scoring='roc_auc')\n",
    "print('AUC ROC: %.4f +- %.4f' % (np.mean(scores),np.std(scores)))"
   ]
  },
  {
   "cell_type": "markdown",
   "metadata": {},
   "source": [
    "---"
   ]
  }
 ],
 "metadata": {
  "kernelspec": {
   "display_name": "Python 2",
   "language": "python",
   "name": "python2"
  },
  "language_info": {
   "codemirror_mode": {
    "name": "ipython",
    "version": 2
   },
   "file_extension": ".py",
   "mimetype": "text/x-python",
   "name": "python",
   "nbconvert_exporter": "python",
   "pygments_lexer": "ipython2",
   "version": "2.7.12"
  }
 },
 "nbformat": 4,
 "nbformat_minor": 0
}
