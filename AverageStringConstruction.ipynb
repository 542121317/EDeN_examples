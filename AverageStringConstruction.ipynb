{
 "cells": [
  {
   "cell_type": "code",
   "execution_count": 90,
   "metadata": {
    "collapsed": false
   },
   "outputs": [],
   "source": [
    "import random\n",
    "\n",
    "def swap_two_characters(seq):\n",
    "    '''define a function that swaps two characters at random positions in a string '''\n",
    "    line = list(seq)\n",
    "    id_i = random.randint(0,len(line)-1)\n",
    "    id_j = random.randint(0,len(line)-1)\n",
    "    line[id_i], line[id_j] = line[id_j], line[id_i]\n",
    "    return ''.join(line)\n",
    "\n",
    "def one_run(length=26, depth=5):\n",
    "    text = ''.join([str(unichr(97+i)) for i in range(length)])\n",
    "    reference = '%s' % text\n",
    "    seqs = []\n",
    "    seqs.append(text)\n",
    "    for i in range(depth):\n",
    "        text = swap_two_characters( random.choice(seqs) )\n",
    "        if text != reference:\n",
    "            if text not in seqs:\n",
    "                seqs.append( text )\n",
    "    return seqs\n",
    "\n",
    "def guard_seq(seq):\n",
    "    return '<<'+seq+'>>'\n",
    "\n",
    "def guard_seqs(seqs):\n",
    "    return [guard_seq(seq) for seq in seqs]\n",
    "\n",
    "def make_data(num_runs=3, trim_top=3, length=26, depth=5):\n",
    "    data = list()\n",
    "    for i in range(num_runs):\n",
    "        random.seed(i)\n",
    "        seqs = one_run(length=length, depth=depth)\n",
    "        data += seqs[trim_top:]\n",
    "    return guard_seqs(data)"
   ]
  },
  {
   "cell_type": "code",
   "execution_count": 91,
   "metadata": {
    "collapsed": true
   },
   "outputs": [],
   "source": [
    "import networkx as nx\n",
    "\n",
    "def sequence_to_graph(seq):\n",
    "    '''convert a sequence into a EDeN 'compatible' graph\n",
    "    i.e. a graph with the attribute 'label' for every node and edge'''\n",
    "    G = nx.Graph()\n",
    "    for id,character in enumerate(seq):\n",
    "        G.add_node(id, label = character )\n",
    "        if id > 0:\n",
    "            G.add_edge(id-1, id, label = '-')\n",
    "    return G\n",
    "\n",
    "def pre_process(iterable):\n",
    "    for seq in iterable:\n",
    "        yield sequence_to_graph(seq)"
   ]
  },
  {
   "cell_type": "code",
   "execution_count": 92,
   "metadata": {
    "collapsed": false
   },
   "outputs": [],
   "source": [
    "def extract_seq(graph, root):\n",
    "    seq = []\n",
    "    seq.append(graph.node[root]['label'])\n",
    "    #start from root and follow links without jittering\n",
    "    neighs = graph.neighbors(root)\n",
    "    curr = neighs[0]\n",
    "    prev = root\n",
    "    seq.append(graph.node[curr]['label'])\n",
    "    while True:\n",
    "        neighs = graph.neighbors(curr)\n",
    "        if len(neighs)== 1:\n",
    "            break\n",
    "        if neighs[0] == prev:\n",
    "            after = neighs[1]\n",
    "        else:\n",
    "            after = neighs[0]\n",
    "        curr, prev = after, curr\n",
    "        seq.append(graph.node[curr]['label'])\n",
    "    return ''.join(seq)\n",
    "\n",
    "def extract_label_sequence(graph):\n",
    "    boundaries=list()\n",
    "    for u in graph.nodes():\n",
    "        if len(graph.neighbors(u))==1:\n",
    "            boundaries.append(u)\n",
    "    assert(len(boundaries)==2)\n",
    "    seq1 = extract_seq(graph, boundaries[0])\n",
    "    seq2 = extract_seq(graph, boundaries[1])\n",
    "    if seq1 < seq2:\n",
    "        return seq1\n",
    "    else:\n",
    "        return seq2"
   ]
  },
  {
   "cell_type": "markdown",
   "metadata": {},
   "source": [
    "----"
   ]
  },
  {
   "cell_type": "code",
   "execution_count": 117,
   "metadata": {
    "collapsed": false
   },
   "outputs": [],
   "source": [
    "length=8\n",
    "ref = ''.join([str(unichr(97+i)) for i in range(length)])\n",
    "ref = guard_seq(ref)\n",
    "seqs = make_data(num_runs=500, trim_top=2, length=length, depth=length)\n",
    "graphs = list(pre_process(seqs))"
   ]
  },
  {
   "cell_type": "code",
   "execution_count": 118,
   "metadata": {
    "collapsed": false,
    "scrolled": true
   },
   "outputs": [
    {
     "name": "stdout",
     "output_type": "stream",
     "text": [
      "<<abcdefgh>>\n",
      "2842\n",
      "<<abcedfgh>> <<abecdfgh>> <<abcehfgd>> <<abcgdfeh>> <<abdehfgc>> <<abcgdhef>> <<abcgefdh>> <<gbcaefdh>> <<ahcgefdb>> <<abchefdg>> <<abcdegfh>> <<abedcgfh>> <<aecdbgfh>> <<abcgedfh>> <<abcghdfe>> <<ebadcgfh>> <<abdcefgh>> <<fbedcagh>> <<abgdefch>> <<abchefgd>> <<abcfehgd>> <<abcdegfh>> <<abcdgfeh>> <<abedcfgh>> <<bacdefgh>> <<bcadefgh>> <<bacdegfh>> <<abcdehfg>> <<abchefgd>> <<gbcdehfa>> <<aecdbhfg>> <<bachefgd>> <<abcdeghf>> <<afcdegbh>> <<fbcdeagh>> <<abdgefch>> <<fbcedagh>> <<aedgbfch>> <<fbgedach>> <<abedcfgh>> <<ebcdafgh>> <<gfcdebah>> <<afcdehgb>> <<ebchafgd>> <<abgdefch>> <<hacdefgb>> <<hfcdeagb>> <<gbcdefah>> <<chadefgb>> <<hacbefgd>> <<abhdefgc>> <<ecbdafgh>> <<dcbaefgh>> <<ecbfadgh>> <<bacdefgh>> <<dcbahfge>> <<bacfedgh>> <<adcebfgh>> <<ahcdefgb>> <<ghcdefab>> <<ahdcefgb>> <<ghcfedab>> <<gacdefhb>> <<abcdfegh>> <<cbadfegh>> <<abcdegfh>> <<cfadbegh>> <<ebcdafgh>> <<abcdegfh>> <<cbadfegh>> <<adcbefgh>> <<gdcbefah>> <<abfdecgh>> <<fbcdegah>> <<aecdbfgh>> <<abcgefdh>> <<ceadbfgh>> <<ceadbgfh>> <<abfgecdh>> <<ahcdefgb>> <<abgdecfh>> <<aecdhfgb>> <<afcdehgb>> <<hbcdefga>> <<hbcdegfa>> <<hcbdegfa>> <<hacdegfb>> <<hdcbegfa>> <<fbcdeagh>> <<acbdefgh>> <<fbgdeach>> <<fbhdeacg>> <<abgdefch>> <<acfdebgh>> <<abcdegfh>> <<abfdechg>> <<abfdegch>> <<abfhegcd>> <<abcdfegh>> <<abdcefgh>> <<aedcbfgh>> <<abchgfed>> <<acbdefgh>> <<bachgfed>> <<abcgdfeh>> <<bacegfhd>> <<abgdecfh>> <<abgdfceh>> <<abchefgd>> <<abhdefgc>> <<agbdecfh>> <<agdbecfh>> <<abhgefdc>> <<cbadefgh>> <<bgcdefah>> <<bacdefgh>> <<bacdehgf>> <<cgbdefah>> <<bahdefgc>> <<abhdefgc>> <<bahdecgf>> <<cahdebgf>> <<caedhbgf>> <<bacdgfeh>> <<adcbefgh>> <<fbcdeagh>> <<abcefdgh>> <<gbcedfah>> <<fbcdaegh>> <<afcdegbh>> <<afcdebgh>> <<agcdefhb>> <<abcdhfge>> <<agdcefhb>> <<hgdcefab>> <<abcdegfh>> <<abhdefgc>> <<abcedfhg>> <<abcdfgeh>> <<acbedfhg>> <<cbhdefga>> <<fbcdegah>> <<gbcdehaf>> <<gbcaehdf>> <<fbcdehag>> <<gbcdehfa>> <<gbcdefah>> <<abgdefch>> <<abchefgd>> <<abcdhfge>> <<abchedgf>> <<adcbefgh>> <<adcebfgh>> <<bacdefgh>> <<bahdefgc>> <<abcdhfge>> <<bafdecgh>> <<abedcfgh>> <<hbgdefca>> <<agbdefch>> <<agedbfch>> <<abefcdgh>> <<abedgfch>> <<cabdefgh>> <<cbadehgf>> <<bacdefgh>> <<bacdhfge>> <<bacdfhge>> <<gbcdefah>> <<bdcaefgh>> <<agcdefbh>> <<bfcaedgh>> <<bacfedgh>> <<dbhaefgc>> <<acbfedgh>> <<abcdgfeh>> <<gcbdefah>> <<fbcdeagh>> <<fbcdeahg>> <<abcdehgf>> <<ahcdebgf>> <<abcdfhge>> <<abcfehgd>> <<ebcdahgf>> <<abcgehfd>> <<abhdgfec>> <<abdhgfec>> <<aecdbfgh>> <<aecdhfgb>> <<abhdegfc>> <<abhdfgec>> <<hbcdegfa>> <<hbadfgec>> <<bhcdegfa>> <<afcdebgh>> <<afcedbgh>> <<afcdgbeh>> <<afedgbch>> <<dfeagbch>> <<afcegbdh>> <<ebcdgfah>> <<ebadcfgh>> <<abcdfegh>> <<ebcfadgh>> <<ebfdacgh>> <<abfdecgh>> <<acbfedgh>> <<abdfecgh>> <<abfdhcge>> <<ebcdafgh>> <<abfdcegh>> <<abcdfegh>> <<acbdefgh>> <<achdefgb>> <<dbcaefgh>> <<acfdebgh>> <<abcdehgf>> <<abhdefgc>> <<abcdfegh>> <<afcdehgb>> <<cbhdefga>> <<hbcdgfea>> <<abcefdgh>> <<abcdfgeh>> <<adcbfgeh>> <<afcdebgh>> <<fbcdageh>> <<gfcdebah>> <<dbacefgh>> <<aecdbfgh>> <<afcdebgh>> <<deacbfgh>> <<gfcdebah>> <<acfdebgh>> <<abcdegfh>> <<dfcaebgh>> <<afgdebch>> <<abcfegdh>> <<ebcdagfh>> <<dfcagbeh>> <<bacdefgh>> <<abcdghef>> <<abcfgdeh>> <<ebcdgfah>> <<hbcdefga>> <<cbadefgh>> <<ebadcfgh>> <<abcdegfh>> <<dbcaegfh>> <<abcfedgh>> <<acbfedgh>> <<adcebfgh>> <<hbcedfga>> <<abgdefch>> <<ahgdefcb>> <<abchefgd>> <<ebcadfgh>> <<dbcaefgh>> <<abhdefgc>> <<abcehfgd>> <<ahcebfgd>> <<abfdecgh>> <<ahcdefgb>> <<fhcdeagb>> <<abcdgfeh>> <<bacdefgh>> <<adcbefgh>> <<abfdecgh>> <<ebcadfgh>> <<afcdebgh>> <<ebcafdgh>> <<ebcgdfah>> <<dbchefga>> <<abchefgd>> <<agcdefbh>> <<acgdefbh>> <<acedgfbh>> <<agcdehbf>> <<agcdebhf>> <<aechbfgd>> <<aechfbgd>> <<aedhbfgc>> <<aechbfdg>> <<abdcefgh>> <<abchefdg>> <<abchefgd>> <<adchefgb>> <<fcbdeagh>> <<hdcaefgb>> <<bacdefgh>> <<fbgdeach>> <<adchefbg>> <<abchdfge>> <<abchdgfe>> <<ahcdefgb>> <<abghdcfe>> <<abhcefgd>> <<aechbfgd>> <<abchefgd>> <<aecbdfgh>> <<aecbdhgf>> <<abcdhfge>> <<acbdhfge>> <<ahcdegfb>> <<abfdecgh>> <<abfdcegh>> <<ahcfedgb>> <<ahcdgefb>> <<bafdcegh>> <<ahcfgdeb>> <<abcedfhg>> <<acbedfgh>> <<abcdehgf>> <<agcedfbh>> <<agcdefbh>> <<ahcdefgb>> <<ebhdafgc>> <<ebhdacgf>> <<abcdfegh>> <<ebhfacgd>> <<ebhdgcaf>> <<eahdbcgf>> <<dfcaebgh>> <<afhdebgc>> <<afhgebdc>> <<gfhaebdc>> <<efcadbgh>> <<cfdaebgh>> <<fghaebdc>> <<fbcdegah>> <<abcdfgeh>> <<abgdfceh>> <<cbgdfaeh>> <<gbcdfaeh>> <<abdecfgh>> <<adebcfgh>> <<gbcdefah>> <<aedbcfgh>> <<adebfcgh>> <<abfdecgh>> <<abdcgfeh>> <<afcdgbeh>> <<adcbgfeh>> <<adhbgfec>> <<abchefgd>> <<aecdhfgb>> <<abcdhfge>> <<abcedfgh>> <<abhdcfge>> <<hacdefgb>> <<fbcdeagh>> <<bacdefgh>> <<fbcdgaeh>> <<abfdehgc>> <<fgcdbaeh>> <<hbcfedga>> <<abcdegfh>> <<abcgefdh>> <<gbcdeafh>> <<aecdbfgh>> <<abcdehgf>> <<abedcfgh>> <<ebcdahgf>> <<abcdgfeh>> <<egcdahbf>> <<abedchgf>> <<abgdefch>> <<adcbehgf>> <<cdabehgf>> <<abcfedgh>> <<adcbghef>> <<adfbghec>> <<abchefgd>> <<agcdefhb>> <<bacdefgh>> <<abcgefhd>> <<abcdehgf>> <<ebcdahgf>> <<abgdehcf>> <<abfdehgc>> <<fbcdeagh>> <<aecdbhgf>> <<bahdefgc>> <<bahgefdc>> <<bahgdfec>> <<bacedfgh>> <<acbdefgh>> <<bahgdefc>> <<ahcdefgb>> <<ahcdfegb>> <<dhcafegb>> <<abhdefgc>> <<abcgefdh>> <<ebcdafhg>> <<bacdefgh>> <<fbcdeagh>> <<ecbdafgh>> <<afcdebgh>> <<ebchafgd>> <<abedcfgh>> <<abedfcgh>> <<abcdfegh>> <<abcghfde>> <<cbadfegh>> <<abdcefgh>> <<bacedfgh>> <<gbcdefah>> <<abcedfhg>> <<bhcedfga>> <<bhcgdfea>> <<abhdefgc>> <<abdhefgc>> <<ebchafgd>> <<aghdefbc>> <<abhcefgd>> <<ebcdafhg>> <<abcdehgf>> <<abfdehgc>> <<cbdaefgh>> <<abgdehcf>> <<fbadehgc>> <<fbaedhgc>> <<adcbefgh>> <<abcgefdh>> <<agcdefbh>> <<fbcgeadh>> <<abcghfde>> <<fbgceadh>> <<abcfedgh>> <<dcbaefgh>> <<aebdcfgh>> <<dcbagfeh>> <<ahcdefgb>> <<bcadefgh>> <<aecdhfgb>> <<hbdcefga>> <<afcdebgh>> <<hbcdgfea>> <<hdcbefga>> <<hdcgefba>> <<afcdebgh>> <<ahbdefgc>> <<acdbefgh>> <<acgbefdh>> <<afhdebgc>> <<abhdefgc>> <<bcgaefdh>> <<abfdcegh>> <<abcdgefh>> <<ahcdefgb>> <<acfdbegh>> <<afcdbegh>> <<ahcdfegb>> <<agcdefbh>> <<abcegfdh>> <<bacedfgh>> <<agedcfbh>> <<agedcfhb>> <<agchefbd>> <<ahcedfgb>> <<dbceafgh>> <<gbcedfah>> <<aechdfgb>> <<fbcdeagh>> <<abgdefch>> <<acbdefgh>> <<acbfedgh>> <<afbcedgh>> <<acefbdgh>> <<abhdefgc>> <<abcedfgh>> <<abecdfgh>> <<abecfdgh>> <<acebdfgh>> <<edcbafgh>> <<edcbhfga>> <<edcbgfah>> <<ebcdfagh>> <<bdceafgh>> <<edchbfga>> <<edcbhagf>> <<gbcdeafh>> <<fbcdeagh>> <<abcgefdh>> <<gfcdeabh>> <<ahcdefgb>> <<dbcgefah>> <<agfdecbh>> <<agfdbceh>> <<cgfdbaeh>> <<aecdgfbh>> <<cbadefgh>> <<ahcdfegb>> <<aecdfhgb>> <<eacdfhgb>> <<abcfedgh>> <<adcbefgh>> <<hdcbefga>> <<agcdefbh>> <<abedhfgc>> <<bgcdefah>> <<gacdefbh>> <<agcdbfeh>> <<dgcabfeh>> <<abcdegfh>> <<fbadecgh>> <<fbcdeahg>> <<cbfdeagh>> <<abcdefhg>> <<abhdefcg>> <<ahcdefbg>> <<abcdefhg>> <<abchefdg>> <<abedcfgh>> <<agcdefhb>> <<gbedcfah>> <<gbecdfah>> <<abcdgfhe>> <<abcdhfeg>> <<fbcdeahg>> <<abcfedgh>> <<cbadefgh>> <<bacdefgh>> <<ebcdafgh>> <<bahdefgc>> <<bacdegfh>> <<dbcaefgh>> <<dbcgefah>> <<cbahefgd>> <<fbcgedah>> <<dfcaebgh>> <<abfdecgh>> <<aecdhfgb>> <<bacdhfge>> <<acbdefgh>> <<ahcdefgb>> <<bafdhcge>> <<hbcaefgd>> <<ebcdafgh>> <<hbcdefga>> <<abfhecgd>> <<abfhecdg>> <<abgdcfeh>> <<hbgdefca>> <<gbhdefca>> <<abgdcefh>> <<aegdcfbh>> <<ebgdafch>> <<abcfedgh>> <<fbcaedgh>> <<hbcdefga>> <<fbgaedch>> <<dbchefga>> <<dbcfeagh>> <<dbcgefha>> <<abcdfegh>> <<ahgdefcb>> <<abgfedch>> <<abcdegfh>> <<abcdhegf>> <<abcfegdh>> <<ebcfagdh>> <<hbcgefda>> <<abfdecgh>> <<ahfdecgb>> <<ahcfedgb>> <<acbdefgh>> <<abcfedgh>> <<bacdefgh>> <<abfcedgh>> <<ahdcefgb>> <<aecbdfgh>> <<becdafgh>> <<becfadgh>> <<agcdbfeh>> <<becafdgh>> <<bacdefgh>> <<bacfedgh>> <<fbcaedgh>> <<gbcaedfh>> <<agcdefbh>> <<bacdefgh>> <<aecdbfgh>> <<abfdecgh>> <<bafdecgh>> <<cafdebgh>> <<abdfecgh>> <<bafcedgh>> <<baedfcgh>> <<acbdefgh>> <<afbdecgh>> <<adgbefch>> <<abghefcd>> <<adghefcb>> <<adgbefhc>> <<gbcdefha>> <<ghcdefba>> <<ghdcefba>> <<hdcbefga>> <<dbchefga>> <<abdchfge>> <<abcdefhg>> <<abcdfhge>> <<acbdefhg>> <<adcbefgh>> <<acbdefgh>> <<hcbdefga>> <<abcgefhd>> <<abcdegfh>> <<abcdhfge>> <<abcegfdh>> <<abgedfch>> <<hbcdafge>> <<abcedgfh>> <<afgedbch>> <<abdcefgh>> <<gbcaefdh>> <<dbcgefah>> <<dfcgebah>> <<gbceafdh>> <<abcedfgh>> <<adcbefgh>> <<abcfedgh>> <<achdefgb>> <<abhfedgc>> <<acgdefhb>> <<ahcedfgb>> <<abcdfehg>> <<adcbefgh>> <<abcdfhge>> <<acbdfehg>> <<ahcbefgd>> <<adebcfgh>> <<ebcdfahg>> <<aecdbfgh>> <<aegdbfch>> <<aedcbfgh>> <<fedcbagh>> <<aecdbfhg>> <<aecdbfgh>> <<aefdbcgh>> <<abcdefhg>> <<hbcdeagf>> <<dbcheagf>> <<hbfdeagc>> <<aecdbgfh>> <<bacedfgh>> <<gbcdefah>> <<gbcdehaf>> <<bgcedfah>> <<adcbefgh>> <<abcdgefh>> <<adbcefgh>> <<cbadgefh>> <<adfbecgh>> <<dbcaefgh>> <<adebcfgh>> <<hdebcfga>> <<dacbefgh>> <<fbcaedgh>> <<hdebfcga>> <<hdefbcga>> <<abgdefch>> <<abgdfech>> <<abghfecd>> <<cbgdfeah>> <<agcdhfbe>> <<dgcaefbh>> <<dghaefbc>> <<dehagfbc>> <<agdchfbe>> <<defaghbc>> <<hgcdefba>> <<ahcdbfge>> <<agcdefbh>> <<ahfdecgb>> <<acbdefgh>> <<egcdafbh>> <<ahcdebgf>> <<abgedfch>> <<abcedhgf>> <<abceghdf>> <<abcgefdh>> <<aecbghdf>> <<ebgadfch>> <<abedcgfh>> <<dbeacfgh>> <<dbecafgh>> <<debacfgh>> <<debcafgh>> <<hbcdefga>> <<dbgaefch>> <<ebcdafgh>> <<dbchefga>> <<agcdefbh>> <<aecgbfdh>> <<ahcdefgb>> <<dhcaefgb>> <<eacgbfdh>> <<hecgbfda>> <<abfdecgh>> <<egcdafbh>> <<aefdbcgh>> <<aefdbgch>> <<adcgefbh>> <<ehcdafbg>> <<afcdebgh>> <<abcdfegh>> <<abcgdfeh>> <<afcgebdh>> <<ebcdfagh>> <<abfdecgh>> <<abhdecgf>> <<hbcdeagf>> <<abcdhfge>> <<abcdehgf>> <<bacdefgh>> <<aefdbcgh>> <<eacdbfgh>> <<eacfbdgh>> <<abchefgd>> <<aecdbfgh>> <<aecdgfbh>> <<abcdegfh>> <<fbgdeach>> <<cbfdeagh>> <<abhdefgc>> <<cbfdaegh>> <<abdfecgh>> <<dbafecgh>> <<abgfecdh>> <<abchefgd>> <<ebcdgfah>> <<abcdfegh>> <<bgcdefah>> <<gbcedfah>> <<bgcdeafh>> <<abghefcd>> <<cbghefad>> <<cbahefgd>> <<abcedfgh>> <<cbahgfed>> <<cbghafed>> <<abegcfdh>> <<abcgehdf>> <<abegcdfh>> <<cbagefdh>> <<acbgehdf>> <<dbcgefah>> <<abegchdf>> <<ahcdegfb>> <<gbcdefah>> <<adchefgb>> <<dhcaegfb>> <<ahcdgfeb>> <<dhbaegfc>> <<dhgaecfb>> <<gbcdefah>> <<aecdbfgh>> <<gbadefch>> <<abcdfehg>> <<cbadfegh>> <<abfdcegh>> <<abedcfgh>> <<aecbdfgh>> <<hbcedfga>> <<eacbdfgh>> <<eacbgfdh>> <<abgdefch>> <<dacbgfeh>> <<abgdefch>> <<abgdhfce>> <<ahgdbfce>> <<ebgdafch>> <<ahcdefgb>> <<agcdefhb>> <<ahcdefbg>> <<agcdefbh>> <<abdcefgh>> <<agchefbd>> <<fgcheabd>> <<abcdfhge>> <<abgdfhce>> <<acgdfhbe>> <<agcdfhbe>> <<abdcfegh>> <<agcdefbh>> <<fbadecgh>> <<afcdebgh>> <<afchebgd>> <<afchedgb>> <<abcedfgh>> <<fbcdeagh>> <<abcdfegh>> <<abdcfegh>> <<gbcdeafh>> <<gbfdecah>> <<abgdefch>> <<bacdefgh>> <<abgdcfeh>> <<abhfedgc>> <<ahcdefgb>> <<afcdebgh>> <<gbcdafeh>> <<gfcdebah>> <<gbcdahef>> <<abcdefhg>> <<abedcfgh>> <<gbchefad>> <<abcehfgd>> <<abdehfgc>> <<abechfgd>> <<abedcfgh>> <<abdegfhc>> <<cbadefgh>> <<cbadehgf>> <<cbaedhgf>> <<gbcdefah>> <<abcedfhg>> <<adcbefhg>> <<ebadcfgh>> <<abcdhfge>> <<hbcdgfea>> <<abcdgefh>> <<hbcdefga>> <<ebcdhfga>> <<hgcdefba>> <<abcfedgh>> <<abcdegfh>> <<dhcaefgb>> <<ahfdecgb>> <<hacdefgb>> <<ahfdecbg>> <<dbcaefgh>> <<abgdefch>> <<dbcfeagh>> <<cbdaefgh>> <<gbcfeadh>> <<abcdgfeh>> <<gcbdefah>> <<adcbefgh>> <<adcfebgh>> <<adcbefgh>> <<abfdecgh>> <<adchefgb>> <<gbfdecah>> <<abcgefdh>> <<abcfegdh>> <<ghcdefab>> <<agcdefhb>> <<agcedfhb>> <<agchefdb>> <<agcefdhb>> <<acgedfhb>> <<ahcdefbg>> <<agecdfhb>> <<adcbgfeh>> <<fdcbgaeh>> <<fdcbeagh>> <<adcbehgf>> <<edcbafgh>> <<adebgfch>> <<cbadhfge>> <<cbadefhg>> <<cbadhfeg>> <<cbadehgf>> <<cbadfhge>> <<cabdhfeg>> <<hbcaefgd>> <<abcgefhd>> <<ebcahfgd>> <<abcedfgh>> <<ebchafgd>> <<abghefcd>> <<abcghfde>> <<abcdgfhe>> <<aecdhfgb>> <<ebcdafgh>> <<afcdhbge>> <<ebcdhfga>> <<aefdhcgb>> <<aecdhfgb>> <<bhcdefga>> <<dbcaefgh>> <<ghcdefab>> <<fhcdebga>> <<agcdefbh>> <<abcdegfh>> <<badcefgh>> <<dbcaegfh>> <<bacdegfh>> <<ebcdafgh>> <<fbcgeadh>> <<abgdefch>> <<efcdabgh>> <<dfceabgh>> <<edcfabgh>> <<afbdecgh>> <<aecdbfgh>> <<bfceadgh>> <<afdbecgh>> <<acbdfegh>> <<acbdegfh>> <<bcadefgh>> <<dbcaefgh>> <<acbfegdh>> <<ecadbfgh>> <<aecfbdgh>> <<aecfbhgd>> <<fecdbagh>> <<becfadgh>> <<aecfbdhg>> <<becfgdah>> <<abcedfgh>> <<abecdfgh>> <<abdcefgh>> <<ebdcafgh>> <<abgcdfeh>> <<ahcbefgd>> <<abhdefgc>> <<acbedfgh>> <<abcdehgf>> <<dcbeafgh>> <<afbedcgh>> <<ebcdafgh>> <<gbhdefac>> <<abgdefch>> <<abchefgd>> <<cbgdefah>> <<hbadefgc>> <<agcdefbh>> <<hgcdefba>> <<abfdcegh>> <<abcdehgf>> <<fbcdeagh>> <<fbgdeach>> <<fbgaedch>> <<abcgefdh>> <<aecdbfgh>> <<adcebfgh>> <<fbedgach>> <<dbcaegfh>> <<dbcahgfe>> <<dbchegfa>> <<fbcdeagh>> <<gbcaefdh>> <<cbdahgfe>> <<hbdacgfe>> <<agcdefbh>> <<abcegfdh>> <<fbcegadh>> <<fbecgadh>> <<abchdfge>> <<abehdfgc>> <<afcdebgh>> <<abedgfch>> <<agedbfch>> <<aegdbfch>> <<abcdhfge>> <<abegdfch>> <<acbdefgh>> <<gbcdefah>> <<gbdcefah>> <<ecbdafgh>> <<gcdbefah>> <<dbcaefgh>> <<aecdhfgb>> <<aecdhfbg>> <<aecdbfhg>> <<aebdhfgc>> <<agchefbd>> <<agcdhfbe>> <<dgchefba>> <<hgcaefbd>> <<cgahefbd>> <<abedcgfh>> <<abegcdfh>> <<gbcdeafh>> <<gbcaedfh>> <<aecdbgfh>> <<hbcaedfg>> <<dbeacgfh>> <<dbfaecgh>> <<dbcafegh>> <<dbfacegh>> <<gbcafedh>> <<ebcdafgh>> <<ebcdhfga>> <<ebgdafch>> <<egcdhfba>> <<ebdchfga>> <<ebgcafdh>> <<egchdfba>> <<abcdehgf>> <<egcdafbh>> <<eghdafbc>> <<agbdefch>> <<egchafbd>> <<dgbaefch>> <<agcfedbh>> <<gbcedfah>> <<gbceafdh>> <<gbceadfh>> <<gbdeacfh>> <<gbhedfac>> <<gbcdafeh>> <<ahgdefcb>> <<acgdefhb>> <<abchefgd>> <<aechbfgd>> <<fhgdeacb>> <<ceahbfgd>> <<abcedfgh>> <<abcdefhg>> <<abedcfgh>> <<afcedbgh>> <<acbdefgh>> <<gfcedbah>> <<aecdbfgh>> <<fbcdeagh>> <<bacdefgh>> <<aecfbdgh>> <<cabdefgh>> <<bacdefhg>> <<acbdefgh>> <<abcfedgh>> <<bacdefgh>> <<bagdefch>> <<cbahefgd>> <<acfdebgh>> <<gbadefch>> <<abgdefch>> <<abcfedgh>> <<bacfedgh>> <<dbcfeagh>> <<abcdfegh>> <<afcdehgb>> <<agcdfebh>> <<agcdefbh>> <<egcdafbh>> <<agcdfebh>> <<agcbfedh>> <<ahgdefcb>> <<ahgdbfce>> <<ahgdcfbe>> <<abedcfgh>> <<fhgdeacb>> <<ghcdefab>> <<abcedfgh>> <<egcdafbh>> <<egbdafch>> <<fgbdaech>> <<agbdefch>> <<edbgafch>> <<egadbfch>> <<fbcdeagh>> <<fcbdeagh>> <<abdcefgh>> <<fbcgeadh>> <<fcedbagh>> <<abcdehgf>> <<abcdhegf>> <<dbceafgh>> <<abcdehgf>> <<adcbehgf>> <<abcedhgf>> <<afcdegbh>> <<aghdefbc>> <<fghdeabc>> <<dghaefbc>> <<agbdefch>> <<agchefbd>> <<fchdeabg>> <<afcdehgb>> <<afcdbegh>> <<abdcefgh>> <<abcedfgh>> <<afcgebdh>> <<afcbedgh>> <<gfcaebdh>> <<abchefgd>> <<dbchefga>> <<hbcdefag>> <<dfchebga>> <<dfcgebha>> <<adcebfgh>> <<adecbfgh>> <<bdecafgh>> <<bdgcafeh>> <<gdcebfah>> <<abgcefdh>> <<abdcefhg>> <<abfcedgh>> <<ahdcefbg>> <<abhdefgc>> <<agcdefbh>> <<agcdefhb>> <<acgdefbh>> <<abgdefch>> <<abgdhfce>> <<abfdhgce>> <<fbgdhace>> <<bagdhfce>> <<agbdhfce>> <<bagdefch>> <<bacgefdh>> <<bacdfegh>> <<bdcgefah>> <<bacgefhd>> <<ahcdefgb>> <<abcdhfge>> <<abcdhfeg>> <<acdbefgh>> <<acbdefgh>> <<adcbgfeh>> <<abcdfegh>> <<acebdfgh>> <<ebcdafgh>> <<ebcdagfh>> <<abcedfgh>> <<efcdabgh>> <<bacdegfh>> <<dbcfeagh>> <<abchefgd>> <<hbcaefgd>> <<hbgaefcd>> <<ebcdfagh>> <<hbcaedgf>> <<afchebgd>> <<fbdceagh>> <<aedcbfgh>> <<aedbcfgh>> <<aedfbcgh>> <<abdecfgh>> <<aefdbcgh>> <<aedgbcfh>> <<abgdefch>> <<adcbefgh>> <<abdcefgh>> <<cdabefgh>> <<abgfedch>> <<badcefgh>> <<abcdegfh>> <<cbagefdh>> <<ceagbfdh>> <<abcedgfh>> <<cfadebgh>> <<acbdegfh>> <<cbadegfh>> <<abcdehgf>> <<gbcfedah>> <<adcbehgf>> <<gbcfadeh>> <<gcbfadeh>> <<acbdefgh>> <<abcdfgeh>> <<cbadfgeh>> <<fbadcgeh>> <<afcdgbeh>> <<gbcdafeh>> <<abdcefgh>> <<ahdcefgb>> <<fbcdeagh>> <<acbdefgh>> <<ecbdafgh>> <<abgcefdh>> <<agcdefbh>> <<egcdafbh>> <<ahcdefbg>> <<ehcdafbg>> <<hbcdfega>> <<agfdecbh>> <<abedcfgh>> <<acfdebgh>> <<abfcedgh>> <<abhdcfge>> <<ebadcfgh>> <<afcdebgh>> <<acbdefgh>> <<ahcdegfb>> <<gbcdefah>> <<ahfdegcb>> <<gbedcfah>> <<gbfdceah>> <<abhdefgc>> <<aehdbfgc>> <<gbecdfah>> <<afcdebgh>> <<hbcdeagf>> <<bhcdefga>> <<cfadebgh>> <<abcdfegh>> <<bhfdecga>> <<hbcdfega>> <<bacgefdh>> <<bgcdefah>> <<bahgefdc>> <<badgefhc>> <<fbgdeach>> <<fagdebch>> <<fbgdhace>> <<afcdebgh>> <<fbgdheca>> <<aecdbfgh>> <<abcdefhg>> <<afcdbegh>> <<cbadefgh>> <<adcfbegh>> <<acbdefgh>> <<afbdcegh>> <<abedcfgh>> <<becdafgh>> <<bacedfgh>> <<becdagfh>> <<begdafch>> <<bcedagfh>> <<ahcdefgb>> <<ahfdecgb>> <<abcdefhg>> <<ghfdecab>> <<abfdecgh>> <<abcdegfh>> <<hbgdefca>> <<hdcbefga>> <<hbgcefda>> <<abcdhfge>> <<abcghfde>> <<fbcedagh>> <<fbceadgh>> <<ebcghfda>> <<abcgefdh>> <<afbdecgh>> <<abgdefch>> <<abcdgfeh>> <<cbadgfeh>> <<adcgefbh>> <<ahcdefgb>> <<abfdecgh>> <<acbdefgh>> <<abfgecdh>> <<hdcbefga>> <<afcdebgh>> <<abfedcgh>> <<hbcdefga>> <<abgdefch>> <<bacdefgh>> <<cbadefhg>> <<ebadcfhg>> <<abfdecgh>> <<adcbefgh>> <<afcdehgb>> <<adebcfgh>> <<ghcdefab>> <<gfcdehab>> <<cgadefbh>> <<cbafedgh>> <<abcdegfh>> <<cdabefgh>> <<hbcdegfa>> <<cghdefba>> <<hbcdgefa>> <<afcdebgh>> <<dfcaebgh>> <<acfdebgh>> <<hcfdebga>> <<ecbdafgh>> <<abcdhegf>> <<hbcdfega>> <<abdcfegh>> <<abdgfech>> <<bdcaefgh>> <<edcabfgh>> <<eacdbfgh>> <<eadcbfgh>> <<bdacefgh>> <<bdaecfgh>> <<agcdebfh>> <<bacdefgh>> <<agcdhbfe>> <<cfadebgh>> <<cdafebgh>> <<abcdegfh>> <<cbadgfeh>> <<cbahgfed>> <<cbahdfeg>> <<cgadbfeh>> <<abcgdfeh>> <<abcfedgh>> <<abgdefch>> <<bagdefch>> <<fagdebch>> <<fadgebch>> <<abcdfgeh>> <<dbcaegfh>> <<abchefgd>> <<adchefgb>> <<adghefcb>> <<ahgdefcb>> <<aechbfgd>> <<abcdgfeh>> <<ahcdgfeb>> <<cbadgfeh>> <<fbadgceh>> <<cbadfgeh>> <<abhdfegc>> <<abhcfegd>> <<abhcgefd>> <<dbhcfega>> <<fbhcgead>> <<dbacfegh>> <<abhedfgc>> <<ahcdefbg>> <<abdcefhg>> <<fbcdeahg>> <<bacedfgh>> <<adcbefgh>> <<afcbedgh>> <<adcbehgf>> <<adcbfegh>> <<adebfcgh>> <<edcbfagh>> <<eacbfdgh>> <<edfbcagh>> <<abfdcegh>> <<abchefgd>> <<abcfedgh>> <<abecdfgh>> <<ebcadfgh>> <<abcdfegh>> <<hbcdefga>> <<gbcdefah>> <<agcdefbh>> <<ebcdagfh>> <<fgcdeabh>> <<ebcfagdh>> <<gbcaefdh>> <<abcdegfh>> <<afcdebgh>> <<abchefgd>> <<gbcdefah>> <<bachefgd>> <<eacdbfgh>> <<eabdcfgh>> <<hacbefgd>> <<facbehgd>> <<hafbecgd>> <<agcdefbh>> <<acbdefgh>> <<abchefgd>> <<fhcdeagb>> <<ahcdefbg>> <<cbadefgh>> <<abfdecgh>> <<aefdbcgh>> <<gbcdefah>> <<agcbefdh>> <<abcgefdh>> <<aecdbfgh>> <<abcgefhd>> <<afgdebch>> <<aegdbfch>> <<agcdefbh>> <<hbcdefga>> <<abchgfed>> <<acbdefgh>> <<abcegfhd>> <<abecgfhd>> <<hbcaefgd>> <<bcadefgh>> <<bachefgd>> <<afcedbgh>> <<bacedfgh>> <<ahcedfgb>> <<facedbgh>> <<fbcedagh>> <<ebcdafgh>> <<abcdgfeh>> <<adcbefgh>> <<cbadefgh>> <<cdabefgh>> <<cbahefgd>> <<abcdeghf>> <<abchegdf>> <<abdceghf>> <<abcdgehf>> <<adchegbf>> <<gbcheadf>> <<abcedfgh>> <<fbcedagh>> <<ahcdfegb>> <<ebcfdagh>> <<becfdagh>> <<gbcdhfae>> <<bacdefgh>> <<bacdfegh>> <<bachfegd>> <<bahdefgc>> <<bagdefch>> <<bcadefgh>> <<ebcdafgh>> <<abcdehgf>> <<ebcdahgf>> <<abedcgfh>> <<agcdefbh>> <<agcdbfeh>> <<fbgdeach>> <<abhdefcg>> <<abghefcd>> <<bacdefgh>> <<abdcefgh>> <<abdecfgh>> <<abcdhfeg>> <<abcgefdh>> <<adcbhfge>> <<abdgcfeh>> <<abchefgd>> <<abchfegd>> <<abchdegf>> <<bachefgd>> <<fbgdeach>> <<fbgdhace>> <<bfgdeach>> <<bfgdaech>> <<abfdecgh>> <<ahcgefdb>> <<chagefdb>> <<ebcgafdh>> <<gbcaefdh>> <<ghcaefdb>> <<ebcgadfh>> <<ebcfadgh>> <<abcedfgh>> <<abcedgfh>> <<cbaedfgh>> <<ebcadfgh>> <<abcdhfge>> <<abcdfegh>> <<abdcegfh>> <<abedcfgh>> <<agedcfbh>> <<abedfcgh>> <<cbadefgh>> <<agcdfebh>> <<abcdhfge>> <<agcbfedh>> <<agcdhfbe>> <<gbcdafeh>> <<gbcadfeh>> <<gfcadbeh>> <<hfcadbeg>> <<abcdegfh>> <<abchefgd>> <<hdcbefga>> <<ahcdefgb>> <<ahcdebgf>> <<agcdefbh>> <<ahcdfbge>> <<ahcdgbfe>> <<afcedbgh>> <<abcdgfeh>> <<abcdhfeg>> <<bacdgfeh>> <<bacfgdeh>> <<agcedbfh>> <<abcdfegh>> <<abdcefgh>> <<hbdcefga>> <<abgcefdh>> <<hbdfecga>> <<abcdgfeh>> <<abedgfch>> <<abcfedgh>> <<abcfdegh>> <<ebcfadgh>> <<acbdefgh>> <<abcdhfge>> <<acbdhfge>> <<ahbdefgc>> <<acbdfhge>> <<dcbafhge>> <<dceafhgb>> <<abcedfhg>> <<afcedbhg>> <<fbcdeahg>> <<abdecfhg>> <<afcegbhd>> <<abcefdhg>> <<abhdfegc>> <<abhdfecg>> <<ebhdfagc>> <<abhgfecd>> <<abhfgecd>> <<abfcedgh>> <<hbfcedga>> <<agdcefbh>> <<abecfdgh>> <<hcfbedga>> <<cbfhedga>> <<adcbefgh>> <<hbcdfega>> <<abcdgfeh>> <<abedcfgh>> <<hfcdbega>> <<abcfgdeh>> <<ebcdafgh>> <<ebdcafgh>> <<ebcdgfah>> <<dbcegfah>> <<gbcdefah>> <<ehdcafgb>> <<abedcgfh>> <<abfdcgeh>> <<agfdcbeh>> <<ahcdefgb>> <<fbadcgeh>> <<agcdefhb>> <<ebcdafgh>> <<abcdehgf>> <<bgcdefha>> <<ahcdefbg>> <<bdcgefha>> <<cbedafgh>> <<cgadefbh>> <<cbfdeagh>> <<cbedfagh>> <<cgahefbd>> <<cbadgfeh>> <<abcdfegh>> <<abcdfegh>> <<gbcdfeah>> <<abcfedgh>> <<abgdefch>> <<acbdfegh>> <<abgcefdh>> <<gbcdfeha>> <<abcdhfge>> <<agcdhfbe>> <<gacdhfbe>> <<abcdgfeh>> <<abcdfgeh>> <<aecdgfbh>> <<aecdfbgh>> <<afcdegbh>> <<afcdeghb>> <<adcfebgh>> <<aecdbfgh>> <<afedcbgh>> <<afcdebgh>> <<bfcdeagh>> <<dfcbeagh>> <<cbedafgh>> <<bfcdeahg>> <<dfgbeach>> <<cbdaefgh>> <<acbdefgh>> <<abcdegfh>> <<acdbefgh>> <<acbdefhg>> <<aedbcfgh>> <<dcabefgh>> <<acbdegfh>> <<adcgefbh>> <<cbadefgh>> <<dbacefgh>> <<adhgefbc>> <<adhgecbf>> <<abcedfgh>> <<ahedcfgb>> <<abgedfch>> <<abcgefdh>> <<adcbefgh>> <<afedchgb>> <<dbfaecgh>> <<dcbaefgh>> <<dbceafgh>> <<abcgefdh>> <<abfgecdh>> <<acbgefdh>> <<bacdefgh>> <<ghcdefab>> <<ghcfedab>> <<abcdfegh>> <<abcgfedh>> <<ghcdfeab>> <<abedchgf>> <<abcgehdf>> <<abedcfgh>> <<abchegdf>> <<abchedgf>> <<cbedahgf>> <<abedcfgh>> <<agedcfbh>> <<cbdaefgh>> <<abedhfgc>> <<afedcgbh>> <<abchedgf>> <<cbadefgh>> <<abchegdf>> <<agcdefbh>> <<abghecdf>> <<abhcedgf>> <<abcdefhg>> <<aecfbdgh>> <<ahcdefgb>> <<abcfedgh>> <<acedbfgh>> <<agcdefhb>> <<acbdefgh>> <<ecbdafgh>> <<abcdfegh>> <<acbdefhg>> <<abgdefch>> <<adcbefgh>> <<abfdegch>> <<gbfdeach>> <<adcbefhg>> <<gbcdeafh>> <<gbcaedfh>> <<cbahefgd>> <<cbfdeagh>> <<cdahefgb>> <<dcahefgb>> <<cbadfegh>> <<abcdefhg>> <<abcdehgf>> <<abedcfgh>> <<adcbehgf>> <<cfadebgh>> <<adcebhgf>> <<abdecfgh>> <<ebdcafgh>> <<ecdbafgh>> <<abdecfhg>> <<gcdbafeh>> <<ahdecfgb>> <<aedbcfgh>> <<abfhecgd>> <<abfehcgd>> <<ahfbecgd>> <<dbfehcga>> <<abcdehgf>> <<ebfahcgd>> <<aecdbfgh>> <<fbcdeagh>> <<aecbdfgh>> <<eacdbfgh>> <<aegdbfch>> <<fbcdgaeh>> <<abchedgf>> <<abhdecgf>> <<abfdecgh>> <<agchedbf>> <<agfhedbc>> <<ahcdefbg>> <<agbdefch>> <<agbfedch>> <<afcdehbg>> <<ghcdefba>> <<abgfedch>> <<abcedfgh>> <<afcedbgh>> <<aecfdbgh>> <<afcebdgh>> <<agcdefbh>> <<afcebhgd>> <<adcebfgh>> <<adcfbegh>> <<adcbhfge>> <<adebcfgh>> <<acdfbegh>> <<abcdehgf>> <<ahcdefgb>> <<ghcdefab>> <<ahfdecgb>> <<gdchefab>> <<dbfaecgh>> <<ahgdecfb>> <<abhdecgf>> <<bahdefgc>> <<afcdebgh>> <<hfcdebga>> <<afhdebgc>> <<hfcdbega>> <<abhcefgd>> <<cbadefgh>> <<adcbefgh>> <<abchedgf>> <<adhbefgc>> <<adbhefgc>> <<abchdegf>> <<abcfedgh>> <<abcefdgh>> <<abefcdgh>> <<abcdhfge>> <<abchdfge>> <<ebafcdgh>> <<agefcdbh>> <<fbcdegah>> <<fbcdhage>> <<fbcaedgh>> <<fbcgedah>> <<abcgefdh>> <<cdabefgh>> <<abcdgfeh>> <<abcgedfh>> <<cbadhfge>> <<afcdebgh>> <<ahcdefgb>> <<dhcaefgb>> <<afcdebhg>> <<abcgedfh>> <<adcgebfh>> <<abcdgfeh>> <<hacdefgb>> <<bacdgfeh>> <<abcdehgf>> <<hacdefbg>> <<abedgfch>> <<ahbdefgc>> <<ahgdefbc>> <<ahbdfegc>> <<ahbdfgec>> <<afcdebgh>> <<aecdbfgh>> <<ceadbfgh>> <<deacbfgh>> <<abcegfdh>> <<abhegfdc>> <<ebcagfdh>> <<agcdefbh>> <<afcdbegh>> <<agcdebfh>> <<agcdehfb>> <<aghdefbc>> <<afhdbegc>> <<afcdbegh>> <<aecdbgfh>> <<hbcdefga>> <<gbcdefha>> <<aecdgbfh>> <<aechgbfd>> <<abedcfgh>> <<dbfaecgh>> <<acfdebgh>> <<agfdecbh>> <<acfdebhg>> <<bgfdecah>> <<dbfagceh>> <<abdhefgc>> <<aehdbfgc>> <<bacdefgh>> <<aehfbdgc>> <<aehcbfgd>> <<aebdhfgc>> <<bfcdeagh>> <<bdcfeagh>> <<bdcheagf>> <<afcdebgh>> <<gdcfeabh>> <<abcdefhg>> <<abcdgfeh>> <<acgdefbh>> <<acbdegfh>> <<afbdecgh>> <<acbdeghf>> <<acedbgfh>> <<ahcdefgb>> <<ceadbfgh>> <<cbfdeagh>> <<cbadgfeh>> <<cbadgfhe>> <<ahcdefgb>> <<ahcbefgd>> <<achdefgb>> <<fbcdeahg>> <<afhdecgb>> <<fbgdeach>> <<fhcdeagb>> <<dbcaefgh>> <<abchdfge>> <<aecdbfgh>> <<adchbfge>> <<acbhefgd>> <<dbcgefah>> <<bacdefgh>> <<acbdefgh>> <<abgdefch>> <<becdafgh>> <<bachefgd>> <<bdcaefgh>> <<fbcdeagh>> <<bacdefgh>> <<hdcaefgb>> <<fbcgeadh>> <<adcbefgh>> <<fdcaehgb>> <<dbcaefgh>> <<hbcaefgd>> <<dgcaefbh>> <<abhdefgc>> <<dbcfeagh>> <<abcdfegh>> <<abcgefdh>> <<hbcgefda>> <<abedfcgh>> <<bacfedgh>> <<abcdfegh>> <<dbcfeagh>> <<adcbfegh>> <<abcdefhg>> <<abfdecgh>> <<fbcdeagh>> <<ebcdfagh>> <<afcdebhg>> <<abcdehgf>> <<abcdghef>> <<afcdebgh>> <<abchefgd>> <<dbcaefgh>> <<abgfedch>> <<dbceafgh>> <<abcdegfh>> <<abdfegch>> <<abchegfd>> <<aecgbfdh>> <<adcebfgh>> <<hdcebfga>> <<aechbfdg>> <<agchbfde>> <<abhdefgc>> <<aecdbfgh>> <<abgdefch>> <<abgfedch>> <<abghedcf>> <<abcfedgh>> <<abcdfegh>> <<abhdfegc>> <<adhbfegc>> <<abfdecgh>> <<abdcefgh>> <<facdebgh>> <<afhbdegc>> <<abcdgfeh>> <<acbdefgh>> <<abhdecgf>> <<abcdghef>> <<abhgecdf>> <<afcdebgh>> <<cbhgeadf>> <<bfcdeagh>> <<efcdbagh>> <<ehcdbagf>> <<bdcfeagh>> <<adcbefgh>> <<badcefgh>> <<hbcdefga>> <<aecdbfgh>> <<aegdbfch>> <<dbgaefch>> <<hbcdefag>> <<decabfgh>> <<afcgebdh>> <<bfcgeadh>> <<bacdefgh>> <<hbcgefda>> <<bfcgdaeh>> <<bacfedgh>> <<adcgefbh>> <<adfgecbh>> <<agcdefbh>> <<abcdfegh>> <<dbcgefah>> <<abcdgfeh>> <<hbcdefga>> <<ahcdgfeb>> <<dgcaefbh>> <<ebcdafgh>> <<abcdhegf>> <<agcdhebf>> <<abcdehgf>> <<ahcdgebf>> <<abcdehgf>> <<acbdegfh>> <<ebcdahgf>> <<acbdfgeh>> <<decabfgh>> <<agcdefbh>> <<agcedfbh>> <<dehabfgc>> <<dgcaefbh>> <<abedcfgh>> <<hbedcfga>> <<abdcefgh>> <<badcefgh>> <<agcdhfbe>> <<agcfhdbe>> <<adcghfbe>> <<ahcdefgb>> <<abcdgfhe>> <<adchefgb>> <<abcdgefh>> <<dbcagefh>> <<abdcgfeh>> <<abcdhefg>> <<adcbgfeh>> <<abhdefgc>> <<abhdegfc>> <<abgdehcf>> <<abcgefdh>> <<aehdbfgc>> <<afgdehcb>> <<abedcfgh>> <<baedcfgh>> <<bcedafgh>> <<baedfcgh>> <<bdeacfgh>> <<abdcfegh>> <<abdhfegc>> <<afdcbegh>> <<abcdfegh>> <<agdcefbh>> <<adgcefbh>> <<dfacbegh>> <<abcdfegh>> <<abcedfgh>> <<abchdfge>> <<abgdefch>> <<abcdegfh>> <<abcdeghf>> <<cbedafgh>> <<abcdehgf>> <<ehcdafgb>> <<ehadcfgb>> <<dbcaefgh>> <<abdcefgh>> <<cdebafgh>> <<abgdefch>> <<abcfedgh>> <<bacfedgh>> <<bacgedfh>> <<cbafedgh>> <<hacgedfb>> <<abcdefhg>> <<hbcdafge>> <<abcdhfeg>> <<abcdegfh>> <<aecdhfbg>> <<abhdefgc>> <<abcdfgeh>> <<ebcdafgh>> <<acbdefhg>> <<afcdebgh>> <<abedcfgh>> <<acbdehfg>> <<adcbefgh>> <<hbcdeagf>> <<hbdcefga>> <<hbedcagf>> <<hcbdeagf>> <<hbedcgaf>> <<cbadefgh>> <<cbadegfh>> <<abhdefgc>> <<abfdecgh>> <<hfcdebga>> <<abfgecdh>> <<abfdcegh>> <<dfchebga>> <<abcdgfeh>> <<adcbgfeh>> <<abchefgd>> <<cbadefgh>> <<abcegfdh>> <<abehcfgd>> <<adgbcfeh>> <<abcdegfh>> <<dbcaefgh>> <<abcedgfh>> <<abcdgefh>> <<gbcdefah>> <<abcfedgh>> <<egcdafbh>> <<gfcdebah>> <<gbcdhfae>> <<abefcdgh>> <<fbcaedgh>> <<abcfdegh>> <<abecfdgh>> <<cbeafdgh>> <<abcgehdf>> <<aecgbhdf>> <<abcfehdg>> <<abdgefch>> <<abceghdf>> <<abchefdg>> <<abhdefgc>> <<adebcfgh>> <<adebchgf>> <<adhbcfge>> <<adhbefgc>> <<bhcdefga>> <<bcadefgh>> <<hbcdefga>> <<abdcefgh>> <<acbdefgh>> <<abcdhfge>> <<bfadecgh>> <<fbcaedgh>> <<fhcaedgb>> <<fhcgedab>> <<fhcbedag>> <<afcdebgh>> <<fgcdeabh>> <<fbcheagd>> <<fecdbagh>> <<fbchaegd>> <<fbcedagh>> <<abchefgd>> <<abcehfgd>> <<abhdcfge>> <<cbaehfgd>> <<abcedfgh>> <<abecdfgh>> <<afecdbgh>> <<afebdcgh>> <<bacedfgh>> <<hbedcfga>> <<cbadefgh>> <<dbchefga>> <<abedcfgh>> <<fbcdehga>> <<dbchgfea>> <<bacdefgh>> <<afcdebgh>> <<agcbefdh>> <<becdafgh>> <<hdcbefga>> <<bechafgd>> <<gbcdefah>> <<abcdfegh>> <<gdcbefah>> <<abcdfhge>> <<gbhdefac>> <<gbcdefah>> <<abhdgfec>> <<abhcefgd>> <<acbdefgh>> <<acbdegfh>> <<agedcfbh>> <<cgadefbh>> <<egadcfbh>> <<egadcfhb>> <<egadbfhc>> <<afcdbegh>> <<afhdbegc>> <<afedcbgh>> <<afcedbgh>> <<ebcdafgh>> <<edcbafgh>> <<gbcdefah>> <<aecdgfbh>> <<gcbdefah>> <<gdbcefah>> <<gbcdhfae>> <<hfcdebga>> <<hfcdegba>> <<hfcdeabg>> <<hacdegbf>> <<agcdefbh>> <<hfcdbgea>> <<adcbefgh>> <<ebcdafhg>> <<dbceafhg>> <<adbcefgh>> <<dacebfhg>> <<dacbefgh>> <<fbadecgh>> <<agcdefbh>> <<hbcdeagf>> <<acbdefgh>> <<bacdefgh>> <<fbcheagd>> <<abcdefhg>> <<abgdefch>> <<abcdhgfe>> <<adcbefgh>> <<abgdefhc>> <<acbdefhg>> <<abcdehgf>> <<ebhdafgc>> <<ebchafgd>> <<ebhgafdc>> <<edcbafgh>> <<ebhdcfga>> <<abcdgfeh>> <<bagdefch>> <<fbcdeagh>> <<abcdgfhe>> <<cbhdefga>> <<cbedhfga>> <<cbfdehga>> <<abcedfgh>> <<abcedhgf>> <<abhedfgc>> <<gbhedfac>> <<abhegfdc>> <<ebhgdfac>> <<agcdefbh>> <<dbhegfac>> <<abcedgfh>> <<abcdfegh>> <<abcdhegf>> <<abfdehgc>> <<acbdehgf>> <<abgdfech>> <<aecdhbgf>> <<aecdbfgh>> <<abcgefdh>> <<abchefdg>> <<abhdefgc>> <<abfdehgc>> <<fbcdeagh>> <<afbdehgc>> <<adcbegfh>> <<adcbhgfe>> <<adhbegfc>> <<adebcfgh>> <<adebhfgc>> <<bdeahfgc>> <<edabcfgh>> <<afebcdgh>> <<adebgfch>> <<abcedfgh>> <<cbadefgh>> <<abcfdegh>> <<dbcaefgh>> <<cgadefbh>> <<bdcaefgh>> <<dbcagfeh>> <<abgdefch>> <<ebcdafgh>> <<abcedfgh>> <<hecdbfga>> <<hecgbfda>> <<ahcdefgb>> <<dbcfeagh>> <<abchedgf>> <<abchdegf>> <<abchgfed>> <<bachgfed>> <<abhdefgc>> <<abehgfcd>> <<abhdfegc>> <<abegcfdh>> <<abegdfch>> <<abefcdgh>> <<abefgdch>> <<abecgdfh>> <<hcbdefga>> <<hbcdafge>> <<hfcdebga>> <<hfcaebgd>> <<efcahbgd>> <<hfcdgbea>> <<eacfhbgd>> <<ahcdefgb>> <<abgdehcf>> <<afcdehgb>> <<abedcfgh>> <<abgdefhc>> <<abcdefhg>> <<agcdefbh>> <<abgdefhc>> <<hbgdefac>> <<abcdfegh>> <<abedgfhc>> <<ebcdafhg>> <<dbcaefgh>> <<abgcefdh>> <<dbcafegh>> <<abgcefhd>> <<ahcdefgb>> <<abcgdfeh>> <<agcdefbh>> <<abgcdfeh>> <<fbcdeagh>> <<gacdefbh>> <<hbcdefga>> <<hgcdefba>> <<abhdfegc>> <<aehdfbgc>> <<agcdefbh>> <<gcbdefah>> <<fcbdegah>> <<adcbefgh>> <<gbcdehaf>> <<gacdehbf>> <<fcbedgah>> <<abcdhfge>> <<abdcefgh>> <<fbdceagh>> <<abgdefch>> <<hbdceagf>> <<abdgefch>> <<adcbefgh>> <<dbcaefgh>> <<abedfcgh>> <<abcdefhg>> <<afcdebhg>> <<ebcdhfga>> <<abcdegfh>> <<efcdhbga>> <<cbadefgh>> <<efdchbga>> <<fbcdaegh>> <<ahcdegfb>> <<afcdehgb>> <<abcgefdh>> <<adcfehgb>> <<afdcehgb>> <<abcgedfh>> <<ebcgafdh>> <<ahcedfgb>> <<bacdefgh>> <<bacdegfh>> <<ahcedgfb>> <<fbcdeagh>> <<bdcaefgh>> <<gbcdefah>> <<abcedfgh>> <<bacedfgh>> <<aecdbfgh>> <<bacedgfh>> <<abcgdfeh>> <<acbdefgh>> <<adcfebgh>> <<adcgebfh>> <<adcgefbh>> <<hcbdefga>> <<adcghbfe>> <<adefcbgh>> <<bacdehgf>> <<gbcdefah>> <<gbcaefdh>> <<bagdefch>> <<bacgefdh>> <<bagdecfh>> <<abdcefgh>> <<abgdefch>> <<abdcfegh>> <<abgdecfh>> <<ahgdecfb>> <<abgdefch>> <<dbcaefgh>> <<abcgehdf>> <<abhgecdf>> <<abchegdf>> <<cbgdefah>> <<dbchefga>> <<abcdgfeh>> <<cbaedfgh>> <<abcdhfeg>> <<adcbhfeg>> <<cbagdfeh>> <<bacdefgh>> <<dbcaefgh>> <<gacdefbh>> <<gbcaefdh>> <<fbgdeach>> <<bacdgfeh>> <<abgcefdh>> <<abgcdfeh>> <<agbcdfeh>> <<agbcdfhe>> <<gabcdfeh>> <<bgacdfhe>> <<ahgdefcb>> <<adcgefbh>> <<ahcgefbd>> <<bdcgefah>> <<ehcgafbd>> <<afcgebdh>> <<abcedfgh>> <<fbcdegah>> <<abcdgfeh>> <<abcedgfh>> <<abcegfdh>> <<aecbdgfh>> <<abgdehcf>> <<agcdefbh>> <<agcdbfeh>> <<abedcfgh>> <<hbcaefgd>> <<abecdfgh>> <<abcdfegh>> <<decabfgh>> <<abdcefgh>> <<abgdefch>> <<abcdghef>> <<dbcaghef>> <<ebcdahgf>> <<acbdghef>> <<ebhdacgf>> <<dbcgahef>> <<abcdhfge>> <<achdefgb>> <<aecdhfgb>> <<aechdfgb>> <<abchdfge>> <<gbfdecah>> <<ebfdgcah>> <<gbfdecha>> <<gbfedcha>> <<gdcbefah>> <<gbadefch>> <<gbfdehca>> <<abcedfgh>> <<gbcdefah>> <<abcegfdh>> <<gbfdecah>> <<hbfdecag>> <<abehcfgd>> <<aecfbdgh>> <<agcfbdeh>> <<adcbefgh>> <<aebfcdgh>> <<adhbefgc>> <<abcdehgf>> <<abcdefhg>> <<bacdehgf>> <<abchedgf>> <<abcgedhf>> <<abchefgd>> <<hbcdefga>> <<adchefgb>> <<ebcdhfga>> <<bfcdeagh>> <<dbcaefgh>> <<bfhdeagc>> <<bfadecgh>> <<bfhceagd>> <<bacdefgh>> <<bacfedgh>> <<abfdecgh>> <<agcfedbh>> <<abefcdgh>> <<abecfdgh>> <<aebcfdgh>> <<afbdecgh>> <<fbadecgh>> <<ahbdefgc>> <<abedcfgh>> <<abedchgf>> <<aebdchgf>> <<chbdefga>> <<abcdgfeh>> <<abcdhfge>> <<abcdefhg>> <<acfdebgh>> <<ebfdacgh>> <<abcfedgh>> <<gbfdaceh>> <<gbfdaech>> <<aecdbfgh>> <<ebchafgd>> <<ceadbfgh>> <<abcfedgh>> <<dbcaefgh>> <<cbdaefgh>> <<cbadefgh>> <<abchegfd>> <<abcdfegh>> <<abcedfgh>> <<bgcdefah>> <<abcgefdh>> <<bghdefac>> <<ebcgafdh>> <<fbcdeagh>> <<gacdefbh>> <<fbcdeagh>> <<abcdefhg>> <<cbfdeagh>> <<hbcdefga>> <<abgdefch>> <<abfdechg>> <<acfdebhg>> <<abhdefgc>> <<agcdefbh>> <<dbgaefch>> <<dgbaefch>> <<acbdefgh>> <<bdgaefch>> <<abdcefgh>> <<abdecfgh>> <<hbcdgfea>> <<abcdegfh>> <<hbcgdfea>> <<fbdceagh>> <<ahdecfgb>> <<hbedcfga>> <<abcdefhg>> <<abcedfgh>> <<abcdehfg>> <<aecbdfgh>> <<ebhdcfga>> <<abchedfg>> <<abcdghef>> <<acbdgfeh>> <<acbdgfhe>> <<abcdfegh>> <<gbcdfeah>> <<fbcdghea>> <<abcfedgh>> <<agcdefbh>> <<adcfebgh>> <<abchegfd>> <<abcfeghd>> <<abehcgfd>> <<bacdfegh>> <<bfcdeagh>> <<bacfdegh>> <<aecdbfgh>> <<gacfdebh>> <<fbcdeagh>> <<bfgdeach>> <<abhdefgc>> <<abfdgceh>> <<abgdefhc>> <<hbadefgc>> <<abcdefhg>> <<cbhdefga>> <<abfdcegh>> <<abdfcegh>> <<abedcfgh>> <<abfdegch>> <<abdecfgh>> <<aebdcfgh>> <<dbcahfge>> <<abcdfegh>> <<abfdcegh>> <<bacdfegh>> <<adchefgb>> <<adebcfgh>> <<adgbefch>> <<aedbcfgh>> <<afchedgb>> <<abcedfgh>> <<abghefcd>> <<afghebcd>> <<ahgfebcd>> <<ahgdefcb>> <<ahgfedcb>> <<dbcaefhg>> <<aecdbfgh>> <<dbhaefcg>> <<abcdehfg>> <<dbhgefca>> <<fbcaedgh>> <<abcdegfh>> <<fbcahdge>> <<agcdebfh>> <<fecahdgb>> <<fbdaecgh>> <<bdcaefgh>> <<abfdecgh>> <<fbcdeagh>> <<bfcdeagh>> <<abfdhcge>> <<ebcadfgh>> <<adcebfgh>> <<dbcaefgh>> <<ebcadgfh>> <<abedcfgh>> <<fbcdeagh>> <<gbcdafeh>> <<gbcadfeh>> <<abcfedgh>> <<abcfehgd>> <<hbcdafeg>> <<afcdegbh>> <<agcdbfeh>> <<dfcaegbh>> <<bfcdegah>> <<bfcedgah>> <<agcdehbf>> <<bfecdgah>> <<abhcefgd>> <<abhcfegd>> <<aghcfebd>> <<ebcdafgh>> <<fbhcaegd>> <<abgdcfeh>> <<dbcaefgh>> <<hbcdefga>> <<abcgefdh>> <<abgdefch>> <<acbdgfeh>> <<abchefgd>> <<abchfegd>> <<aechfbgd>> <<ebchfagd>> <<bacdefgh>> <<cdabefgh>> <<cbagefdh>> <<cdagefbh>> <<bahdefgc>> <<abcfegdh>> <<abhdegfc>> <<dbhaegfc>> <<agcdebfh>> <<acbdegfh>> <<bahdegfc>> <<gahdebfc>> <<adcbfegh>> <<gbcdefah>> <<adcbhegf>> <<adcehbgf>> <<fbcdeagh>> <<abcdhfge>> <<abcdgfhe>> <<abhdefgc>> <<hbcdeagf>> <<bacdgfhe>> <<agcdhfbe>> <<cbadefgh>> <<dacbefgh>> <<gbadefch>> <<fbcdeagh>> <<gbfdeach>> <<cbdaefgh>> <<adchefgb>> <<adghefcb>> <<adgbefch>> <<adbcefgh>> <<gdbcefah>> <<adehcfgb>> <<adgbecfh>> <<adcbefgh>> <<abfdegch>> <<aefdbgch>> <<cbfdegah>> <<abgdefch>> <<hbcfedga>> <<fbchedga>> <<fgchedba>> <<egchfdba>> <<agcdefbh>> <<fgcheabd>> <<abedcfgh>> <<cbedafgh>> <<cbhdafge>> <<cbdhafge>> <<aecbdfgh>> <<abdcefgh>> <<aecbhfgd>> <<fdcbeagh>> <<cdabefgh>> <<abcfedgh>> <<abcdeghf>> <<abcdfegh>> <<abfdecgh>> <<hbcdefag>> <<bacdefhg>> <<abfedcgh>> <<gbcdefah>> <<gcbdefah>> <<cgbdefah>> <<afcdehgb>> <<cgbdafeh>> <<abcdgfeh>> <<abhcefgd>> <<abdhefgc>> <<abcgefdh>> <<abhdegfc>> <<abcdegfh>> <<abcfdegh>> <<abchegfd>> <<fbcadegh>> <<fbgadech>> <<abhdcfge>> <<cbadefgh>> <<cbadehgf>> <<cbadfhge>> <<abehcfgd>> <<acedbfgh>> <<adcfebgh>> <<ahcfebgd>> <<hacfebgd>> <<gdcfebah>> <<abchfegd>> <<abchfedg>> <<dbchefga>> <<abhcfegd>> <<adcbefgh>> <<abchfdeg>> <<abchdfeg>> <<abcdegfh>> <<agcdefbh>> <<afcdegbh>> <<agcdebfh>> <<agcdfebh>> <<abcdgfeh>> <<abcdehgf>> <<ebcdfagh>> <<abdcefgh>> <<hbcdfage>> <<ebhdafgc>> <<fbdceagh>> <<afcdebgh>> <<abfdegch>> <<abfdcgeh>> <<abfedgch>> <<cbfdageh>> <<ebfadgch>> <<gbcdefah>> <<gbcdfeah>> <<gbhdefac>> <<bghdefac>> <<bchdefag>> <<bghdcfae>> <<bgdhcfae>> <<abcdghef>> <<dbcagfeh>> <<adcbgfeh>> <<dcbagfeh>> <<afcdebgh>> <<abhdefgc>> <<ahcdebgf>> <<hbcdefga>> <<abcdfegh>> <<aecdfbgh>> <<agcdfebh>> <<acgdfebh>> <<hbcdgfea>> <<abcdgfeh>> <<abcdgfeh>> <<aechbfgd>> <<abchfegd>> <<abchedgf>> <<abcfhegd>> <<abcdefhg>> <<abcedfhg>> <<abchefgd>> <<aecdbfgh>> <<aechbfgd>> <<abcedfgh>> <<dechbfga>> <<dehcbfga>> <<fbcedagh>> <<bacdegfh>> <<abcgefdh>> <<bahdefgc>> <<becdagfh>> <<dbeacfgh>> <<abcdefhg>> <<bacdefgh>> <<dbaecfgh>> <<abgdefch>> <<ebcdafhg>> <<dbafcegh>> <<abcfedgh>> <<cbaedfgh>> <<bacfedgh>> <<abfcedgh>> <<agcdefbh>> <<acgdefbh>> <<aecdbfgh>> <<bacdefgh>> <<fbcdaegh>> <<bacgefdh>> <<cbfdaegh>> <<cbdfaegh>> <<acbdegfh>> <<cbadefgh>> <<cabdegfh>> <<acbdhgfe>> <<cabdehfg>> <<abdcefgh>> <<cbadefgh>> <<abdcehgf>> <<hbcdegfa>> <<hdcbegfa>> <<badcefgh>> <<ceadbfgh>> <<fgcdeabh>> <<cgfdeabh>> <<cbfdeagh>> <<dgfceabh>> <<fgcdeahb>> <<abgdefch>> <<abcdhfge>> <<abdchfge>> <<abgdfech>> <<bagdefch>> <<bagdehcf>> <<abgdcfeh>> <<abhdefgc>> <<bhcdefga>> <<ebcdafgh>> <<ebcgafdh>> <<abfdehgc>> <<ebcgadfh>> <<becdhfga>> <<gbchefad>> <<gbdhefac>> <<abchefgd>> <<gcbdefah>> <<bachefgd>> <<abcdegfh>> <<gcbedfah>> <<abcdhfeg>> <<aecdhfbg>> <<abcdhefg>> <<adcbefgh>> <<aecghfbd>> <<bahdefgc>> <<cbhdefga>> <<hbcdefga>> <<bahdefcg>> <<bdhaefgc>> <<bahdecfg>> <<dbcaefgh>> <<abedcfgh>> <<ebcadfgh>> <<ebcdafgh>> <<abcdgfhe>> <<hbcdefga>> <<abcdfegh>> <<abedfcgh>> <<abcdfehg>> <<abgfedch>> <<gbafedch>> <<hbafedcg>> <<ahgdefcb>> <<agbdefch>> <<abgfedhc>> <<ahgedfcb>> <<cbadefgh>> <<bcadefgh>> <<abgfedch>> <<hbcdefga>> <<abgdefch>> <<abdcfegh>> <<abhcefgd>> <<afhcebgd>> <<dbcaefgh>> <<abchefgd>> <<afhecbgd>> <<dbcagfeh>> <<hbcdefga>> <<agbdefch>> <<ebcdhfga>> <<acbdefgh>> <<ebcghfda>> <<hcbdefga>> <<bacdefgh>> <<dbcafegh>> <<dbgaefch>> <<abchefgd>> <<abchfegd>> <<abcgdfeh>> <<acbgefdh>> <<bacgefdh>> <<abchdfeg>> <<adbcefgh>> <<hbcdefga>> <<hbgdefca>> <<acbdefgh>> <<hbgdcfea>> <<hdgbefca>> <<ahcdefgb>> <<ahcdgfeb>> <<abchgfed>> <<bacdgfeh>> <<afcdgbeh>> <<fhcdgaeb>> <<abedchgf>> <<abdcehgf>> <<abdhecgf>> <<abcdhegf>> <<ahdcebgf>> <<agedchbf>> <<abgcehdf>> <<adcbefhg>> <<hdcbefga>> <<abcdefhg>> <<afcdebgh>> <<acbdegfh>> <<acdbegfh>> <<agcdefbh>> <<gcdbeafh>> <<gcbdeafh>> <<agcdefbh>> <<abhdefgc>> <<bacgefdh>> <<bacghfde>> <<cabghfde>> <<bacdefgh>> <<fbhdeagc>> <<fgcdeabh>> <<agcdefbh>> <<fgedcabh>> <<abedcfgh>> <<abdcehgf>> <<abhdcfge>> <<abecdfgh>> <<acbdefgh>> <<ebcdafgh>> <<agcdefbh>> <<hbcedfga>> <<hcbdefga>> <<afcdbegh>> <<aegdbfch>> <<agcdefbh>> <<aegdhfcb>> <<acedbfgh>> <<abcdegfh>> <<abfdegch>> <<dbcaegfh>> <<decabgfh>> <<abcdgfeh>> <<abdcgfeh>> <<aecdgfbh>> <<adbcgfeh>> <<dgcaefbh>> <<abfdecgh>> <<ebcdafgh>> <<fbadecgh>> <<ebgdafch>> <<afcdebgh>> <<eacdbfgh>> <<abcedfgh>> <<abgedfch>> <<aedcbfgh>> <<ahgedfcb>> <<cbagefdh>> <<gbacefdh>> <<abcgefhd>> <<gbahefdc>> <<abgcefhd>> <<abgcehfd>> <<agcdefbh>>\n"
     ]
    }
   ],
   "source": [
    "print ref\n",
    "print len(seqs)\n",
    "for seq in seqs: print seq,"
   ]
  },
  {
   "cell_type": "code",
   "execution_count": 119,
   "metadata": {
    "collapsed": false
   },
   "outputs": [
    {
     "name": "stdout",
     "output_type": "stream",
     "text": [
      "CPU times: user 39.5 s, sys: 9.24 s, total: 48.7 s\n",
      "Wall time: 1min 30s\n"
     ]
    }
   ],
   "source": [
    "%%time\n",
    "from graphlearn.graphlearn import  Sampler\n",
    "from graphlearn.estimate import OneClassEstimator\n",
    "from eden.graph import Vectorizer\n",
    "sampler=Sampler(radius_list=[0], thickness_list=[2], random_state=2,\n",
    "                min_cip_count=1, min_interface_count=1,\n",
    "                vectorizer=Vectorizer(3, positional=True),\n",
    "                estimator=OneClassEstimator(nu=.3, cv=5, n_jobs=-1))\n",
    "sampler.fit(graphs)"
   ]
  },
  {
   "cell_type": "code",
   "execution_count": 120,
   "metadata": {
    "collapsed": true
   },
   "outputs": [],
   "source": [
    "# sample parameters\n",
    "n_steps=50 # how many steps\n",
    "n_samples=2 # collect this many samples during the process\n",
    "\n",
    "gen_graphs = sampler.sample(graphs,\n",
    "                        n_steps=n_steps, n_samples=n_samples,\n",
    "                        target_orig_cip=False,\n",
    "                        probabilistic_core_choice=False,\n",
    "                        score_core_choice= False,\n",
    "                        max_size_diff=0,\n",
    "                        burnin=10,\n",
    "                        include_seed=False,\n",
    "                        proposal_probability = False,\n",
    "                        improving_threshold=.1, \n",
    "                        improving_linear_start=0.0,\n",
    "                        accept_static_penalty=0.0,\n",
    "                        n_jobs=1,\n",
    "                        select_cip_max_tries=200,\n",
    "                        keep_duplicates=False,  \n",
    "                        monitor=False)"
   ]
  },
  {
   "cell_type": "code",
   "execution_count": 121,
   "metadata": {
    "collapsed": false,
    "scrolled": true
   },
   "outputs": [
    {
     "name": "stdout",
     "output_type": "stream",
     "text": [
      "<<abcdefgh>>\n",
      "\n",
      " <<ebchafgd>> 0.22 0.014\n",
      " <<adcbegfh>> 0.29 0.022\n",
      " <<bachgfed>> 0.30 0.014\n",
      " <<dbcaehgf>> 0.25 0.012\n",
      "CPU times: user 2min 3s, sys: 713 ms, total: 2min 4s\n",
      "Wall time: 2min 7s\n"
     ]
    }
   ],
   "source": [
    "%%time\n",
    "from itertools import islice\n",
    "scores=[]\n",
    "similarities=[]\n",
    "gen_seqs=[]\n",
    "print ref\n",
    "print\n",
    "ref_graph = sequence_to_graph(ref)\n",
    "for graph in islice(gen_graphs,200):\n",
    "    if len(graph):\n",
    "        score = graph[0].graph['score']\n",
    "        if score > .01:\n",
    "            seq = extract_label_sequence(graph[0])\n",
    "            sims = Vectorizer(3).similarity([graph[0]], ref_instance=ref_graph)\n",
    "            sim = sims.next()\n",
    "            if seq == ref:\n",
    "                mark = '*'\n",
    "            else:\n",
    "                mark = ''\n",
    "            print '%s %s %.2f %.3f' % (mark, seq, sim, score)\n",
    "            similarities.append(sim)\n",
    "            scores.append(score)\n",
    "            gen_seqs.append(seq)"
   ]
  },
  {
   "cell_type": "code",
   "execution_count": 122,
   "metadata": {
    "collapsed": false
   },
   "outputs": [
    {
     "data": {
      "image/png": "[encoded data removed]",
      "text/plain": [
       "<matplotlib.figure.Figure at 0x128fd7610>"
      ]
     },
     "metadata": {},
     "output_type": "display_data"
    },
    {
     "data": {
      "image/png": "[encoded data removed]",
      "text/plain": [
       "<matplotlib.figure.Figure at 0x111060550>"
      ]
     },
     "metadata": {},
     "output_type": "display_data"
    }
   ],
   "source": [
    "%matplotlib inline\n",
    "import pylab as plt\n",
    "plt.scatter(scores, similarities)\n",
    "plt.show()\n",
    "plt.plot(sorted(similarities, reverse=True))\n",
    "plt.show()"
   ]
  },
  {
   "cell_type": "code",
   "execution_count": 123,
   "metadata": {
    "collapsed": false
   },
   "outputs": [
    {
     "name": "stdout",
     "output_type": "stream",
     "text": [
      "<<abcdefgh>>\n",
      "\n",
      "0.022 <<adcbegfh>>\n",
      "0.014 <<ebchafgd>>\n",
      "0.014 <<bachgfed>>\n",
      "0.012 <<dbcaehgf>>\n"
     ]
    }
   ],
   "source": [
    "print ref\n",
    "print\n",
    "for score, seq in sorted([(score, seq) for score, seq in zip(scores, gen_seqs)], reverse=True):\n",
    "    print '%.3f %s'%(score, seq)"
   ]
  },
  {
   "cell_type": "markdown",
   "metadata": {},
   "source": [
    "---"
   ]
  }
 ],
 "metadata": {
  "kernelspec": {
   "display_name": "Python 2",
   "language": "python",
   "name": "python2"
  },
  "language_info": {
   "codemirror_mode": {
    "name": "ipython",
    "version": 2
   },
   "file_extension": ".py",
   "mimetype": "text/x-python",
   "name": "python",
   "nbconvert_exporter": "python",
   "pygments_lexer": "ipython2",
   "version": "2.7.11"
  }
 },
 "nbformat": 4,
 "nbformat_minor": 0
}
